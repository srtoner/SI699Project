{
 "cells": [
  {
   "cell_type": "code",
   "execution_count": 1,
   "metadata": {},
   "outputs": [],
   "source": [
    "from gutenbergpy.gutenbergcache import GutenbergCache, GutenbergCacheTypes\n",
    "import os\n",
    "import json\n",
    "import pandas as pd\n",
    "import numpy as np\n",
    "import pickle as pkl\n",
    "import random\n",
    "import gutenbergpy\n",
    "import gutenbergpy.textget\n"
   ]
  },
  {
   "cell_type": "code",
   "execution_count": 1,
   "outputs": [],
   "source": [],
   "metadata": {
    "collapsed": false
   }
  },
  {
   "cell_type": "code",
   "execution_count": 2,
   "outputs": [],
   "source": [
    "# from gutenbergpy.gutenbergcache import GutenbergCache\n",
    "# #for sqlite\n",
    "# GutenbergCache.create(refresh=True, download=True, unpack=True, parse=True, cache=True, deleteTemp=True)"
   ],
   "metadata": {
    "collapsed": false
   }
  },
  {
   "attachments": {},
   "cell_type": "markdown",
   "metadata": {},
   "source": [
    "## Exploring the Data Distribution of Project Gutenberg\n",
    "Our first step in developing a sampling approach is to determine what metadata is available and how best to create a rich, diverse sample for language modeling. We start by initializing the cache and looking at the schema:"
   ]
  },
  {
   "cell_type": "code",
   "execution_count": 3,
   "metadata": {},
   "outputs": [],
   "source": [
    "cache  = GutenbergCache.get_cache()\n",
    "# from IPython.display import Image\n",
    "# Image(filename='sqlitescheme.png')"
   ]
  },
  {
   "attachments": {},
   "cell_type": "markdown",
   "metadata": {},
   "source": [
    "#### Types of Media\n",
    "\n",
    "We want our sample to consist solely of text based media; however, the type field is not well maintained for the majority of the works on project gutenberg."
   ]
  },
  {
   "cell_type": "code",
   "execution_count": 4,
   "metadata": {},
   "outputs": [
    {
     "data": {
      "text/plain": "[(1, 'Sound'),\n (2, 'Image'),\n (3, 'Dataset'),\n (4, 'Collection'),\n (5, 'Text'),\n (6, 'MovingImage'),\n (7, 'StillImage')]"
     },
     "execution_count": 4,
     "metadata": {},
     "output_type": "execute_result"
    }
   ],
   "source": [
    "types = [t for t in cache.native_query(\"SELECT DISTINCT id, name FROM types\")]\n",
    "types"
   ]
  },
  {
   "attachments": {},
   "cell_type": "markdown",
   "metadata": {},
   "source": [
    "#### Gathering Bookshelves\n",
    "\n",
    "Books on Project Gutenberg are sorted into collections called bookshelves; there are Main Categories each with their own Bookshelf ID; we are interested in English Language (Language.id = 1) text (type.id = 5) texts. However, it also seems that bookshelves themselves are not well populated in the metadata either, meaning a new approach is warranted."
   ]
  },
  {
   "cell_type": "code",
   "execution_count": 5,
   "metadata": {},
   "outputs": [
    {
     "data": {
      "text/plain": "[(1, 'The Great Round World And What Is Going On In It', 56694)]"
     },
     "execution_count": 5,
     "metadata": {},
     "output_type": "execute_result"
    }
   ],
   "source": [
    "shelves = [sh for sh in cache.native_query(\n",
    "        \"SELECT * FROM (\" +\n",
    "        \"SELECT bs.id, bs.name, COUNT(b.id) as BOOK_COUNT FROM \" +\n",
    "        \"(SELECT DISTINCT id, name FROM bookshelves) as bs \" +    \n",
    "        \"RIGHT JOIN \" + \n",
    "        \"(SELECT id, bookshelveid, languageid, typeid FROM books \" + \n",
    "        \"WHERE languageid=1) as b \" +\n",
    "        \"ON bs.id=b.bookshelveid) as bbs \" +\n",
    "        \"GROUP BY bbs.id, bbs.name \" + \n",
    "        \"ORDER BY BOOK_COUNT DESC;\")]\n",
    "\n",
    "shelves\n"
   ]
  },
  {
   "attachments": {},
   "cell_type": "markdown",
   "metadata": {},
   "source": [
    "#### Subjects vs. Book Subjects In Project Gutenberg"
   ]
  },
  {
   "cell_type": "code",
   "execution_count": 6,
   "metadata": {},
   "outputs": [
    {
     "data": {
      "text/plain": "[(44, 'PS', 11113),\n (10, 'PR', 10009),\n (13, 'PZ', 7282),\n (16, 'PQ', 4843),\n (28, 'PT', 2956),\n (80, 'Science fiction', 2938),\n (14, 'Short stories', 2748),\n (2, 'AP', 2584),\n (71, 'Fiction', 1979),\n (46, 'DA', 1663),\n (105, 'Adventure stories', 1475),\n (146, 'PH', 1379),\n (18, 'PN', 992),\n (79, 'DC', 961),\n (308, 'Historical fiction', 947),\n (91, 'DS', 943),\n (30, 'Conduct of life -- Juvenile fiction', 876),\n (158, 'Love stories', 858),\n (291, 'D501', 827),\n (192, 'Detective and mystery stories', 818),\n (51, 'Man-woman relationships -- Fiction', 809),\n (197, 'BX', 745),\n (29, 'Poetry', 681),\n (68, 'QH', 670),\n (242, 'QL', 670)]"
     },
     "execution_count": 6,
     "metadata": {},
     "output_type": "execute_result"
    }
   ],
   "source": [
    "\n",
    "# Retrieves all subjects\n",
    "\n",
    "subjects = [s for s in cache.native_query(\n",
    "    \"SELECT bs.subjectid, s.name, count(bs.bookid) AS book_count FROM book_subjects AS bs \\\n",
    "    LEFT JOIN subjects AS s \\\n",
    "    ON s.id = bs.subjectid \\\n",
    "    GROUP BY s.id, s.name \\\n",
    "    ORDER BY book_count DESC \\\n",
    "    LIMIT 25;\")]\n",
    "\n",
    "# See the script \"subjectid.sql\" for a full listing of the actual subject names\n",
    "subjects"
   ]
  },
  {
   "attachments": {},
   "cell_type": "markdown",
   "metadata": {},
   "source": [
    "#### Querying a Subject\n",
    "\n",
    "Some of the subject titles aren't particularly informative; in order to get a better picture of what each subject is, we can query them individually to retrieve top downloads for each subject:  "
   ]
  },
  {
   "cell_type": "code",
   "execution_count": 7,
   "metadata": {},
   "outputs": [
    {
     "data": {
      "text/plain": "[(None, 'Romeo and Juliet', 197127),\n (None, 'A Room with a View', 167726),\n (None, 'Middlemarch', 165079),\n (44, 'Little Women; Or, Meg, Jo, Beth, and Amy', 152480),\n (44, 'Moby Dick; Or, The Whale', 148386),\n (None, 'The Enchanted April', 147692),\n (44, 'The Blue Castle: a novel', 147236),\n (None, 'Cranford', 143503),\n (None, 'The Complete Works of William Shakespeare', 141886),\n (None, 'The Adventures of Ferdinand Count Fathom — Complete', 141299),\n (None, 'The Expedition of Humphry Clinker', 139335),\n (None, 'The Adventures of Roderick Random', 137522),\n (None, 'History of Tom Jones, a Foundling', 131062),\n (None, 'Twenty Years After', 128560),\n (None, 'Vingt ans après. English', 128560),\n (None, 'My Life — Volume 1', 128316),\n (None, 'Frankenstein; Or, The Modern Prometheus', 75145),\n (None, 'Pride and Prejudice', 68103),\n (None, 'Alice in Wonderland', 31948),\n (None, \"Alice's Adventures in Wonderland\", 31948),\n (44, 'The Great Gatsby', 25354),\n (44, 'The Yellow Wallpaper', 24783),\n (None, 'The Picture of Dorian Gray', 24444),\n (None, 'A Tale of Two Cities', 23126),\n (None, \"A Doll's House : a play\", 22238)]"
     },
     "execution_count": 7,
     "metadata": {},
     "output_type": "execute_result"
    }
   ],
   "source": [
    "# Top N Downloads for subject ID:\n",
    "\n",
    "top25 = [s for s in cache.native_query(\n",
    "    \"SELECT bs.subjectid, b.name, b.numdownloads FROM \\\n",
    "    (SELECT * FROM books \\\n",
    "     LEFT JOIN titles AS T \\\n",
    "     ON T.bookid = books.id) AS b \\\n",
    "    LEFT JOIN book_subjects AS bs \\\n",
    "    ON b.id = bs.bookid and bs.subjectid=44 \\\n",
    "    ORDER BY b.numdownloads DESC \\\n",
    "    LIMIT 25;\")]\n",
    "\n",
    "# See the script \"subjectid.sql\" for a full listing of the actual subject names\n",
    "\n",
    "top25"
   ]
  },
  {
   "attachments": {},
   "cell_type": "markdown",
   "metadata": {},
   "source": [
    "#### Querying an Author\n",
    "\n",
    "In our analysis, we intend to have the model attempt to learn to detect different writers for based on their style of writing; in order to do this, we need a good sample of writers for each subject."
   ]
  },
  {
   "cell_type": "code",
   "execution_count": 8,
   "metadata": {},
   "outputs": [],
   "source": [
    "topAuthors = [s for s in cache.native_query(\n",
    "    \"SELECT a.authorid, a.name, count(a.bookid) as book_count from \\\n",
    "    (SELECT * from authors \\\n",
    "    LEFT JOIN book_authors \\\n",
    "    ON id = authorid) as a \\\n",
    "    LEFT JOIN \\\n",
    "    (SELECT * FROM books \\\n",
    "    WHERE languageid = 1) as b \\\n",
    "    ON b.id = a.bookid \\\n",
    "    GROUP BY a.id, a.name \\\n",
    "    HAVING book_count >= 5 \\\n",
    "    ORDER BY book_count DESC;\")]\n",
    "\n",
    "# We have an 80 / 20 rule for sampling; at least 10 passages per author, and \n",
    "# Note this is the authors with the most books, not the authors with most downloads\n",
    "# Furthermore, there are many repeats in the list of authors; Shakespeare appears 3 times, Jules Verne 4\n",
    "pd.DataFrame(topAuthors).to_csv(\"top_authors.csv\")\n",
    "\n",
    "# TODO:\n",
    "# 1 ) Write Sampling Scheme At most 1 hour\n",
    "# np.random.choice() #What is n? How many authors?\n",
    "\n",
    "# 2 ) SQL CODE to then generate new \n",
    "\n",
    "# 3 ) Combine and consolidate text: Half a day\n",
    "# Topics\n",
    "# Authors\n",
    "# Book Title\n",
    "# Line Numbers\n",
    "# And Text\n",
    "\n",
    "# 4 ) Consolidate and split to train / test\n",
    "\n",
    "# Bonus: Find better metadata"
   ]
  },
  {
   "attachments": {},
   "cell_type": "markdown",
   "metadata": {},
   "source": [
    "Notes:\n",
    " * No anonymous / (Various) / etc.\n",
    " * Key identifiers such as character names e.g. Captain Ahab\n",
    "\n",
    "Filter for English Authors with enough books to sample\n",
    "random subset of 5 works\n",
    "10 samples from each work, 50 lines each\n",
    " * Each book has at min 500 lines\n",
    " * Every author has 2500 Lines\n",
    "\n",
    "How many authors?\n",
    "\n",
    "Issues:\n",
    "Herman Melville's Moby Dick\n",
    "\n",
    "Post Sampling:\n",
    "* Text processing (removing punctuation)\n",
    "    * Keep punctuation in one dataset -> We want punctuation for tet generation?\n",
    "    * Strip from the other (learning language, classification, etc.) -> reduce number of tokens\n",
    "\n",
    ".pkl (pickle)\n"
   ]
  },
  {
   "cell_type": "code",
   "execution_count": 9,
   "outputs": [
    {
     "data": {
      "text/plain": "[(24076, 'A Square'),\n (3758, 'A. L. O. E.'),\n (14741, 'A.E.'),\n (3756, 'A.L.O.E.'),\n (14738, 'AE'),\n (10528, 'Abbot, Willis J. (Willis John)'),\n (10525, 'Abbot, Willis John'),\n (24077, 'Abbott, E. A. (Edwin Abbott)'),\n (24078, 'Abbott, Edwin A. (Edwin Abbott)'),\n (24079, 'Abbott, Edwin Abbott'),\n (3185, 'Abbott, Eleanor Hallowell'),\n (3301, 'Abbott, Henry'),\n (5197, 'Abbott, Jacob'),\n (14425, 'Abbott, Jane'),\n (5201, 'Abbott, John S. C. (John Stevens Cabot)'),\n (5200, 'Abbott, John Stevens Cabot'),\n (10527, 'Abbott, Willis J.'),\n (10526, 'Abbott, Willis John'),\n (12239, 'Abdul-Baha'),\n (7639, 'Abernathy, Robert'),\n (7638, 'Abernathy, Robert Harwood'),\n (23085, 'Accum, Frederick'),\n (23084, 'Accum, Fredrick'),\n (23086, 'Accum, Friedrich Christian'),\n (4399, 'Acton, John Emerich Edward Dalberg Acton, Baron'),\n (4398, 'Acton, Lord'),\n (5423, 'Adair, Cecil'),\n (15674, 'Adams, Andy'),\n (20026, 'Adams, C. F. (Charles Francis)'),\n (1402, \"Adams, Capt. 'Bruin'\"),\n (20027, 'Adams, Charles F. (Charles Francis)'),\n (20028, 'Adams, Charles Francis'),\n (16672, 'Adams, F. Colburn (Francis Colburn)'),\n (16671, 'Adams, Francis Colburn'),\n (1146, 'Adams, Harrison'),\n (1352, 'Adams, Henry'),\n (1351, 'Adams, Henry Brooks'),\n (1400, 'Adams, J. F. C. (James Fenimore Cooper)'),\n (1401, 'Adams, James Fenimore Cooper'),\n (18601, 'Adams, James R.'),\n (2937, 'Adams, Samuel Hopkins'),\n (16890, 'Adams, W. H. Davenport (William Henry Davenport)'),\n (16889, 'Adams, W.H.'),\n (16888, 'Adams, William Henry Davenport'),\n (1536, 'Adams, William T. (William Taylor)'),\n (1537, 'Adams, William Taylor'),\n (23124, 'Addams, Jane'),\n (23123, 'Addams, Laura Jane'),\n (5540, 'Addison, Joseph'),\n (6512, 'Ade, George'),\n (27461, 'Adler, Felix'),\n (8252, 'Administration, Work Projects'),\n (2096, 'Aeschylus'),\n (3296, 'Aesop'),\n (4016, 'Agency, United States. Central Intelligence'),\n (7262, 'Aguilar, Grace'),\n (18296, 'Aiken, Albert W.'),\n (18545, 'Aikin, Anna Laetitia'),\n (18544, 'Aikin, Anna Lætitia'),\n (14550, 'Aikin, Lucy'),\n (1375, 'Aimard, Gustave'),\n (3777, 'Ainsworth, Harrison'),\n (3776, 'Ainsworth, W. H. (William Harrison)'),\n (3775, 'Ainsworth, W. Harrison (William Harrison)'),\n (3780, 'Ainsworth, William Harrison'),\n (3778, 'Ainworth, W. Harrison (William Harrison)'),\n (2092, 'Aischylos'),\n (325, 'Akers, Floyd'),\n (10389, 'Alcofrybas, Maistre'),\n (2425, 'Alcott, L. M. (Louisa May)'),\n (2424, 'Alcott, Louisa M. (Louisa May)'),\n (2426, 'Alcott, Louisa May'),\n (2223, 'Alcott, William A. (William Andrus)'),\n (2222, 'Alcott, William Andrus'),\n (1160, 'Alden, Isabella Macdonald'),\n (1161, 'Alden, Mrs. G. R. (Isabella)'),\n (13632, 'Alden, W. L. (William Livingston)'),\n (13630, 'Alden, William Livingston'),\n (7226, 'Alderson, Amelia'),\n (8731, 'Aldington, Hilda Doolittle'),\n (7734, 'Aldon, Adair'),\n (1517, 'Aldrich, T. B. (Thomas Bailey)'),\n (1518, 'Aldrich, Thomas Bailey'),\n (23923, 'Aldridge, Janet'),\n (19407, 'Alec-Tweedie, E. (Ethel)'),\n (19409, 'Alec-Tweedie, Mrs. (Ethel)'),\n (1440, 'Alexander, John'),\n (6224, 'Alexander, Mrs.'),\n (29, 'Alger, Horatio'),\n (30, 'Alger, Horatio, Jr.'),\n (3429, 'Ali Baba'),\n (1071, 'Alighieri, Dante'),\n (13722, 'Allain, Marcel'),\n (265, 'Allen County (Ind.). Public Library of Fort Wayne and Allen County'),\n (1652, 'Allen, Captain Quincy'),\n (6865, 'Allen, Charles Grant Blairfindie'),\n (6866, 'Allen, Grant'),\n (6323, 'Allen, James Lane'),\n (1653, 'Allen, Quincy'),\n (17671, 'Allen, Willis Boyd'),\n (16095, 'Allies, T. W. (Thomas William)'),\n (16094, 'Allies, Thomas W.'),\n (16093, 'Allies, Thomas William'),\n (8735, 'Alton, Delia'),\n (3562, 'Altsheler, J. A. (Joseph Alexander)'),\n (3563, 'Altsheler, Joseph A. (Joseph Alexander)'),\n (3561, 'Altsheler, Joseph Alexander'),\n (414, 'Alvarez, Ticul'),\n (21817, 'American Anti-Slavery Society'),\n (4464, 'American National Red Cross'),\n (6610, 'American School at Armour Institute of Technology'),\n (6611, 'American School of Correspondence'),\n (3586, 'American Thread Co.'),\n (3588, 'American Thread Company'),\n (25691, 'Ames, Azel'),\n (5518, 'Amichis, Edmondo de'),\n (5517, 'Amicis, Edmondo de'),\n (5519, 'Amicis, Edmundo de'),\n (6252, 'Andersen Nexø, Martin'),\n (2970, 'Andersen, H. C. (Hans Christian)'),\n (2969, 'Andersen, Hans Christian'),\n (6251, 'Andersen, Martin'),\n (6241, \"Anderson, J. C. O'Gorman, Mrs.\"),\n (6816, 'Anderson, Poul'),\n (6810, 'Anderson, Poul William'),\n (16853, 'Anderson, Sherwood'),\n (19573, 'Anderson, Sydney'),\n (6397, 'Andreev, Leonid Nikolaevich'),\n (13870, 'Andrews, Elisha Benjamin'),\n (3760, 'Andrews, H. C. (Henry Charles)'),\n (3761, 'Andrews, Henry C.'),\n (3759, 'Andrews, Henry Charles'),\n (3762, 'Andrews, Henry Cranke, active 1799-1828'),\n (1116, 'Andrews, Mary Raymond Shipman'),\n (23125, 'Andrews, William'),\n (6398, 'Andreyev, Leonid'),\n (6396, 'Andreyev, Leonid Nikolayevich'),\n (5734, 'Annaeus Seneca, Lucius'),\n (17470, 'Annas, Hal'),\n (9908, \"Annunzio, Gabriele d'\"),\n (125, 'Anonyme'),\n (126, 'Anonymous, Anonymous'),\n (2057, 'Anstey, F.'),\n (5777, 'Antoninus, Marcus Aurelius'),\n (4280, 'Antony, Father'),\n (21745, 'Apikuni'),\n (2026, 'Appleton, Victor'),\n (26549, 'Aquinas, Thomas, Saint'),\n (1564, 'Archer, William'),\n (5049, 'Archette, Guy'),\n (2831, 'Aristofanes'),\n (2832, 'Aristophanes'),\n (1904, 'Aristoteles'),\n (1905, 'Aristotle'),\n (2830, 'Aristófanes'),\n (6609, 'Armour Institute of Technology. American School of Correspondence'),\n (15418, 'Arnim, Elizabeth von'),\n (15417, 'Arnim-Schlagenthin, Countess Elizabeth von'),\n (4546, 'Arnold, Mary Augusta'),\n (9621, 'Arnold, Matthew'),\n (2443, 'Arouet, Francois Marie'),\n (2442, 'Arouet, François Marie'),\n (3046, 'Arthur, T. S. (Timothy Shay)'),\n (3043, 'Arthur, Timothy Shay'),\n (10679, 'Arundel, Louis'),\n (8728, 'Ashton, John'),\n (4233, 'Ashton, Winifred'),\n (19190, 'Asimov, Isaac'),\n (7148, 'Atheling, William'),\n (1958, 'Atherton, Gertrude Franklin Horn'),\n (124, 'Atkinson, William Walker'),\n (2433, \"Aubigné, J. H. Merle d' (Jean Henri Merle)\"),\n (3796, 'Audubon, Jean Jacques Fougere'),\n (3794, 'Audubon, Jean Jacques Fougère'),\n (3797, 'Audubon, John James'),\n (8110, 'Auerbach, Berthold'),\n (1174, 'Augustine, Mildred'),\n (6480, 'Augustine, Saint'),\n (6481, 'Augustine, Saint, Bishop of Hippo'),\n (9163, 'Aunt Ella'),\n (2516, 'Aunt Fanny'),\n (27877, \"Aunt Fanny's daughter\"),\n (770, 'Aunt Hattie'),\n (5776, 'Aurel, Marc'),\n (5778, 'Aurelius, Marcus'),\n (5036, 'Austen, Jane'),\n (4612, 'Austin, Mary'),\n (4611, 'Austin, Mary Hunter'),\n (3107, 'Avery, Al'),\n (32563, 'Avery, Harold'),\n (6779, 'Aycock, Roger D.'),\n (6852, 'Babcock, Winnifred Eaton'),\n (16009, 'Bacheller, Addison Irving'),\n (16010, 'Bacheller, Irving'),\n (21240, 'Bacon, Francis'),\n (8955, 'Bacon, Josephine Daskam'),\n (8953, 'Bacon, Josephine Dodge Daskam'),\n (8954, 'Bacon, Selden, Mrs.'),\n (7781,\n  'Baden-Powell of Gilwell, Robert Stephenson Smyth Baden-Powell, Baron'),\n (7780, 'Baden-Powell, Baron Robert Stephenson Smyth'),\n (7779, 'Baden-Powell, R. S. S.'),\n (7778, 'Baden-Powell, Robert'),\n (6706, 'Badger, Jos. E. (Joseph Edward)'),\n (6704, 'Badger, Joseph E.'),\n (6703, 'Badger, Joseph Edward'),\n (13297, 'Bagwell, Richard'),\n (19543, \"Baha'u'llah\"),\n (19544, \"Bahá'u'lláh\"),\n (205, 'Bailey, Arthur Scott'),\n (12575, 'Bailey, Carolyn Sherwin'),\n (12506, 'Bailey, Frederick Augustus Washington'),\n (6064, 'Bailey, Irene Temple'),\n (4358, 'Bailey, L. H. (Liberty Hyde)'),\n (4356, 'Bailey, Liberty Hyde'),\n (6065, 'Bailey, Temple'),\n (3003, 'Bain, F. W. (Francis William)'),\n (3002, 'Bain, Francis William'),\n (341, 'Baker, Frank'),\n (11372, 'Baker, G. M. (George Melville)'),\n (11373, 'Baker, George M. (George Melville)'),\n (11371, 'Baker, George Melville'),\n (771, 'Baker, Harriette Newell Woods'),\n (14759, 'Baker, Ida Constance'),\n (11783, 'Baker, Rollin H. (Rollin Harold)'),\n (19834, 'Baker, Samuel White, Sir'),\n (1630, 'Baker, Willard F.'),\n (8107, 'Baldwin, Edward'),\n (2996, 'Baldwin, James'),\n (30493, 'Ball, Robert S. (Robert Stawell)'),\n (30492, 'Ball, Robert Stawell, Sir'),\n (2221, 'Ballantyne, R. M. (Robert Michael)'),\n (2220, 'Ballantyne, Robert Michael'),\n (458, 'Ballou, M. M. (Maturin Murray)'),\n (460, 'Ballou, Maturin M. (Maturin Murray)'),\n (459, 'Ballou, Maturin Murray'),\n (15013, 'Balmer, Edwin'),\n (8619, 'Balwhidder, Micah'),\n (12507, 'Baly, Frederick Augustus Washington'),\n (586, 'Balzac, H. de (Honoré de)'),\n (583, 'Balzac, Honore de'),\n (587, 'Balzac, Honoré de'),\n (5676, 'Bamberger, Hermann'),\n (7527, 'Bancroft, Hubert Howe'),\n (322, 'Bancroft, Laura'),\n (5718, 'Bandelier, A. F. (Adolph Francis)'),\n (5719, 'Bandelier, Adolf F.'),\n (5720, 'Bandelier, Adolph F. (Adolph Francis)'),\n (5727, 'Bandelier, Adolph Francis Alphonse'),\n (461, 'Bangs, John Kendrick'),\n (21487, 'Banta, Frank'),\n (940, 'Barbara'),\n (18543, 'Barbauld, A. L. (Anna Letitia)'),\n (18546, 'Barbauld, Anna Laetitia'),\n (18542, 'Barbauld, Anna Letitia'),\n (18541, 'Barbauld, Anna Lætitia'),\n (18548, 'Barbauld, Mrs. (Anna Letitia)'),\n (2143, 'Barbee, Phillip'),\n (2140, 'Barbee, Phillips'),\n (3407, 'Barbour, R. H. (Ralph Henry)'),\n (3408, 'Barbour, Ralph Henry'),\n (17335, 'Barca, Pedro Calderon de la'),\n (17334, 'Barca, Pedro Calderón de la'),\n (2237, 'Barclay, Florence L. (Florence Louisa)'),\n (2235, 'Barclay, Florence Louisa (Charlesworth), Mrs.'),\n (25687, 'Barham, G. Basil (George Basil)'),\n (25685, 'Barham, George Basil'),\n (12399, 'Baring, Maurice'),\n (1980, 'Baring-Gould, S. (Sabine)'),\n (1977, 'Baring-Gould, Sabine'),\n (13864, 'Barlow, Roger'),\n (2423, 'Barnard, A. M.'),\n (10899, 'Barnivelt, Esdras'),\n (3914, 'Barnum, Richard'),\n (14494, 'Barnum, Vance'),\n (2171, 'Baroja, Pio'),\n (2173, 'Baroja, Pío'),\n (5642, 'Barr, Amelia E.'),\n (5641, 'Barr, Amelia Edith Huddleston'),\n (9403, 'Barr, Robert'),\n (5247, 'Barrett-Browning, Elizabeth'),\n (1822, 'Barrie, J. M. (James Matthew)'),\n (1821, 'Barrie, J.M.'),\n (1820, 'Barrie, James Matthew'),\n (8155, 'Barrington, E.'),\n (17987, 'Barrington, Richard Manliffe'),\n (2517, 'Barrow, Frances Elizabeth'),\n (27876, 'Barrow, S. L. (Sarah L.)'),\n (27878, 'Barrow, Sarah L.'),\n (936, 'Barstow, Montagu, Mrs.'),\n (12138, 'Bartlett, F. O. (Frederick Orin)'),\n (12139, 'Bartlett, Frederick Orin'),\n (13755, 'Bartlett, Paul Alexander'),\n (21782, 'Barton, W. E. (William Eleazar)'),\n (21786, 'Barton, William E. (William Eleazar)'),\n (21783, 'Barton, William Eleazar'),\n (8109, 'Baruch, Moses'),\n (2111, 'Bashford, H. H. (Henry Howarth), Sir'),\n (2109, 'Bashford, Henry'),\n (2110, 'Bashford, Henry Howarth, Sir'),\n (8477, 'Bassett, Sara Ware'),\n (4745, 'Bassetto, Corno di'),\n (3704, 'Bastiat, Claude Frédéric'),\n (3703, 'Bastiat, Frederic'),\n (3705, 'Bastiat, Frédéric'),\n (11132, 'Bates, Arlo'),\n (7456, 'Bates, Gordon'),\n (3666, 'Baudelaire, Charles'),\n (3662, 'Baudelaire-Dufays, Charles Pierre'),\n (3661, 'Baudelaire-Dufaÿs, Charles Pierre'),\n (330, 'Baum, L. Frank (Lyman Frank)'),\n (323, 'Baum, Lyman Frank'),\n (377, 'Baxter, R. (Richard)'),\n (378, 'Baxter, Richard'),\n (4980, 'Bayly, Ada Ellen'),\n (8841, 'Bazin, Rene'),\n (8842, 'Bazin, René'),\n (155, 'Bazán, Emilia Pardo, condesa de'),\n (156, 'Bazán, Emilia, condesa de Pardo'),\n (963, 'Beach, Charles Amory'),\n (683, 'Beach, Rex'),\n (682, 'Beach, Rex Ellingwood'),\n (3167, 'Beamont, Francis'),\n (14736, 'Beard, Adelia B. (Adelia Belle)'),\n (14735, 'Beard, Adelia Belle'),\n (5202, 'Beard, D. C. (Daniel Carter)'),\n (5203, 'Beard, Dan'),\n (5204, 'Beard, Daniel Carter'),\n (14737, 'Beard, Lina'),\n (1810, 'Beauchamp, Kathleen M. (Kathleen Mansfield)'),\n (15416, 'Beauchamp, Mary Annette'),\n (3170, 'Beaumont, Francis'),\n (8156, 'Beck, Eliza Louisa Moresby'),\n (8157, 'Beck, L. Adams (Lily Adams)'),\n (8154, 'Beck, Lily Moresby Adams'),\n (332, 'Becke, George Louis'),\n (333, 'Becke, Louis'),\n (21093, 'Beckford, John'),\n (21094, 'Beckford, William'),\n (10402, 'Beddington, Ada Esther'),\n (439, 'Bedford-Jones, H. (Henry)'),\n (436, \"Bedford-Jones, Henry James O'Brien\"),\n (12178, 'Beebe, Rachel'),\n (20275, 'Beecher, C. E. (Catherine Esther)'),\n (20276, 'Beecher, Catharine E.'),\n (20277, 'Beecher, Catharine Esther'),\n (20274, 'Beecher, Catherine E. (Catherine Esther)'),\n (10513, 'Beerbohm, Henry Maximilian, Sir'),\n (10514, 'Beerbohm, Max, Sir'),\n (8788, 'Beers, Henry A. (Henry Augustin)'),\n (8787, 'Beers, Henry Augustin'),\n (9392, 'Beethoven, L. van (Ludwig)'),\n (9393, 'Beethoven, Ludwig van'),\n (9390, 'Beethoven, Ludwig von'),\n (11331, 'Behn, Afra'),\n (11329, 'Behn, Anne'),\n (11332, 'Behn, Aphara'),\n (11335, 'Behn, Aphra'),\n (11328, 'Behn, Aphra Amis'),\n (11333, 'Behn, Ayfara'),\n (2073, 'Beith, Ian Hay'),\n (2072, 'Beith, John Hay'),\n (1406, 'Belknap, B. H. (Boynton H.)'),\n (1405, 'Belknap, Boynton H.'),\n (11791, 'Bell, Clive'),\n (8163, 'Bell, Currer'),\n (12438, 'Bell, Lilian'),\n (946, 'Bellamy, Edward'),\n (145, 'Belloc, H.'),\n (146, 'Belloc, Hilaire'),\n (144, 'Belloc, Joseph Hilaire Pierre'),\n (4877, 'Belloc, M. A. (Marie Adelaide)'),\n (4876, 'Belloc, Marie Adelaide'),\n (4875, 'Belloc-Lowndes, Marie Adelaide'),\n (3790, 'Belloni du Chaillu, Paul'),\n (11986, 'Bennet, Robert Ames'),\n (4486, 'Bennett, Arnold'),\n (4485, 'Bennett, E. Arnold'),\n (4484, 'Bennett, Enoch Arnold'),\n (8920, 'Benson, A. C. (Arthur Christopher)'),\n (8922, 'Benson, Arthur Christopher'),\n (16123, 'Benson, E. F. (Edward Frederic)'),\n (16122, 'Benson, Edward F. (Edward Frederic)'),\n (16121, 'Benson, Edward Frederic'),\n (1173, 'Benson, Mildred Wirt'),\n (1175, 'Benson, Millie'),\n (12170, 'Benson, R. H. (Robert Hugh)'),\n (12171, 'Benson, Robert Hugh'),\n (6242, 'Benson, Stella'),\n (4008, 'Bensusan, S. L. (Samuel Levy)'),\n (4007, 'Bensusan, Samuel Levy'),\n (1092, 'Benton, Caroline French'),\n (6724, 'Bentzan, Thérèse'),\n (6727, 'Bentzon, Th.'),\n (6726, 'Bentzon, Theodore'),\n (6725, 'Bentzon, Théodore'),\n (6723, 'Bentzon, Thérèse'),\n (5107, 'Beresford, J. D. (John Davys)'),\n (5106, 'Beresford, John Davys'),\n (836, 'Bergson, H. (Henri)'),\n (837, 'Bergson, Henri'),\n (835, 'Bergson, Henri Louis'),\n (32050, 'Berkeley, George'),\n (32049, 'Berkley, George'),\n (9594, 'Bernard, Charles de'),\n (9592, 'Bernard-Dugrail, Charles de'),\n (1812, 'Berry, Matilda'),\n (12897, 'Berryman, John'),\n (1647, 'Besant, Annie'),\n (1645, 'Besant, Annie Wood'),\n (6088, 'Besant, Sir Walter'),\n (6090, 'Besant, Walter'),\n (12057, 'Beston, Henry'),\n (12055, 'Beston, Henry B.'),\n (30225, 'Betham-Edwards, Matilda'),\n (30224, 'Betham-Edwards, Matilda Barbara'),\n (29527, 'Beveridge, Albert J. (Albert Jeremiah)'),\n (29526, 'Beveridge, Albert Jeremiah'),\n (44, 'Beyle, Marie Henri'),\n (11330, 'Bhen, A. (Aphra)'),\n (20283, 'Bichat, F.-X. (François-Xavier)'),\n (20282, 'Bichat, Marie Francois Xavier'),\n (20281, 'Bichat, Marie François Xavier'),\n (20284, 'Bichat, X. (Xavier)'),\n (20285, 'Bichat, Xavier'),\n (5536, 'Bickerstaff, Isaac'),\n (1056, 'Bierce, Ambrose'),\n (30776, 'Biggs, Charlotte'),\n (30775, 'Biggs, R. C. (Rachel Charlotte)'),\n (30774, 'Biggs, Rachel Charlotte Williams'),\n (2396, 'Bindloss, Harold'),\n (27235, 'Birch, Wilhelmine'),\n (3254, 'Bird, Isabella L. (Isabella Lucy)'),\n (8585, 'Bird, R. M. (Robert Montgomery)'),\n (8586, 'Bird, Robert M. (Robert Montgomery)'),\n (8588, 'Bird, Robert Montgomery'),\n (25399, 'Birmingham, G. A. (George A.)'),\n (25401, 'Birmingham, George A.'),\n (4476, 'Birrell, Augustine'),\n (3253, 'Bishop, Isabella Bird'),\n (3252, 'Bishop, Isabella Lucy Bird'),\n (895, 'Bixby, Drexel Jerome Lewis'),\n (893, 'Bixby, Jay Lewis'),\n (900, 'Bixby, Jerome'),\n (894, 'Bixby, Jerry'),\n (18, 'Bjornson, Bjornstjerne'),\n (17, 'Björnson, Björnstjerne'),\n (19, 'Bjørnson, Bjørnstjerne'),\n (9861, 'Black, William'),\n (20741, 'Blackburn, Henry'),\n (7950, 'Blackie & Son'),\n (7948, 'Blackie and Son'),\n (3627, 'Blackmore, R. D. (Richard Doddridge)'),\n (3626, 'Blackmore, Richard Doddridge'),\n (6701, 'Blackwood, Algernon'),\n (9656, 'Blade, Alexander'),\n (22014, 'Blaikie, W. G. (William Garden)'),\n (22015, 'Blaikie, William Garden'),\n (17539, 'Blake, W. (William)'),\n (17540, 'Blake, William'),\n (6722, 'Blanc, Marie Therese de Soloms'),\n (6721, 'Blanc, Marie Thérèse de Soloms'),\n (3638, 'Blanc, Maurice le'),\n (18439, 'Blanchan, Neltje'),\n (9162, 'Blanchard, Amy E. (Amy Ella)'),\n (9165, 'Blanchard, Amy Ella'),\n (18438, 'Blanchon, Neltje'),\n (3327, 'Bland, Edith Nesbit'),\n (620, 'Blasco Ibanez, Vicente'),\n (621, 'Blasco Ibáñez, Vicente'),\n (10539, 'Blavatski, H. P.'),\n (10540, 'Blavatski, Yelena Petrovna'),\n (10542, 'Blavatsky, H. P. (Helena Petrovna)'),\n (10538, 'Blavatsky, Helena Petrovna'),\n (7150, 'Blish, James'),\n (7149, 'Blish, James Benjamin'),\n (16381, 'Blodgett, Levi'),\n (28640, 'Bloomfield, Robert'),\n (4113, 'Blouet, Leon Paul'),\n (3268, 'Bloundelle-Burton, J. (John)'),\n (3269, 'Bloundelle-Burton, John'),\n (4114, 'Blouët, Léon Paul'),\n (4112, 'Blouët, Paul'),\n (5848, 'Blunt, Wilfrid Scawen'),\n (502, 'Bly, Nellie'),\n (8254, 'Boccaccio, Giovanni'),\n (1662, 'Bodenheim, Maxwell'),\n (1661, 'Bodenheimer, Maxwell'),\n (12437, 'Bogue, Lilian Lida Bell'),\n (20706, 'Bois, W. E. B. Du'),\n (20709, 'Bois, W. E. Burghardt Du'),\n (20710, 'Bois, William Edward Burghardt Du'),\n (1364, 'Boissevain, Edna St. Vincent Millay'),\n (23494, 'Bok, Edward William'),\n (5395, 'Boldrewood, Rolf'),\n (8158, 'Bolton, Mrs. C. E.'),\n (8159, 'Bolton, Sarah K.'),\n (8160, 'Bolton, Sarah Knowles'),\n (4190, 'Bond, Nelson'),\n (4192, 'Bond, Nelson S.'),\n (4189, 'Bond, Nelson Slade'),\n (11093, 'Bone, J. F. (Jesse Franklin)'),\n (11092, 'Bone, J.F.'),\n (11094, 'Bone, Jesse F. (Jesse Franklin)'),\n (11091, 'Bone, Jesse Franklin'),\n (2197, 'Bonehill, Captain Ralph'),\n (2196, 'Bonehill, Ralph'),\n (14168, 'Bonnell, Jerry T.'),\n (7584, 'Bonner, Geraldine'),\n (618, 'Bonner, Richard'),\n (779, 'Boothby, Guy'),\n (778, 'Boothby, Guy Newell'),\n (7080, 'Borrow, George'),\n (7079, 'Borrow, George Henry'),\n (12812, 'Bosher, Kate Langley'),\n (12527, 'Boston, Ralph'),\n (13115, 'Boswell, James'),\n (239, 'Bouquet, Johnny'),\n (2579, 'Bourget, Charles Joseph Paul'),\n (2580, 'Bourget, Paul'),\n (2578, 'Bourget, Paul Charles Joseph'),\n (7077, 'Bourinot, J. G. (John George)'),\n (7078, 'Bourinot, John George'),\n (4760, 'Bourke, John G. (John Gregory)'),\n (4761, 'Bourke, John Gregory'),\n (27580, 'Bourne, Randolph S.'),\n (27581, 'Bourne, Randolph Silliman'),\n (3954, 'Bourrienne, Louis Antoine Fauvelet de'),\n (1811, 'Bowden, Kathleen'),\n (11424, 'Bowen, Marjorie'),\n (12803, 'Bowen, R. Sidney'),\n (12806, 'Bowen, Robert Sidney'),\n (12805, 'Bowen, Robert Sydney'),\n (2317, 'Bower, B. M.'),\n (1363, 'Boyd, Nancy'),\n (20029, 'Boyesen, Hjalmar H.'),\n (20030, 'Boyesen, Hjalmar Hjorth'),\n (11380, 'Boyle, Mary Louisa'),\n (13417, 'Boylston, Peter'),\n (401, 'Boz'),\n (26707, 'Bracebridge, Samuel'),\n (3042, 'Brackett, Leigh'),\n (3040, 'Brackett, Leigh Douglass'),\n (5063, 'Bradbury, Ray'),\n (5062, 'Bradbury, Raymond Douglas'),\n (3879, 'Braddon, M. E. (Mary Elizabeth)'),\n (3878, 'Braddon, Mary E.'),\n (3874, 'Braddon, Mary Elizabeth'),\n (26330, 'Braden, James A. (James Andrew)'),\n (26329, 'Braden, James Andrew'),\n (15508, 'Bradlaugh, C. (Charles)'),\n (15510, 'Bradlaugh, Charles'),\n (5898, 'Bradley, Marion Zimmer'),\n (7451, 'Brady, Cyrus Townsend'),\n (7611, 'Braeme, Charlotte Monica'),\n (9735, 'Bramah, Ernest'),\n (7614, 'Brame, Charlotte M.'),\n (7613, 'Brame, Charlotte Mary'),\n (11720, 'Branch, Stephen'),\n (2793, 'Branchardiere, Eleonore Riego de la'),\n (2789, 'Branchardière, Eléonore Riego de la'),\n (3267, 'Brand, Max'),\n (3828, 'Brandeis, Madeline'),\n (1622, 'Brandes, G. (Georg)'),\n (1624, 'Brandes, Georg'),\n (1621, 'Brandes, Georg Morris Cohen'),\n (1623, 'Brandes, George'),\n (4753, 'Brazil, Angela'),\n (17670, 'Brebner, Percy James'),\n (8496, 'Breck, John'),\n (23619, 'Breckenridge, Gerald'),\n (23618, 'Breckinridge, Gerald'),\n (3876, 'Breddon, Miss'),\n (4316, 'Breese, William Lleywelyn, Mrs.'),\n (4315, 'Breese, William Llywelyn, Mrs.'),\n (6635, 'Brehm, A. E. (Alfred Edmund)'),\n (6636, 'Brehm, Alfred Edmund'),\n (23617, 'Breitgam, Gerald H.'),\n (8714, 'Breitman, Hans'),\n (8713, 'Breitmann, Hans'),\n (3514, 'Brereton, F. S. (Frederick Sadleir)'),\n (3513, 'Brereton, Frederick Sadleir'),\n (503, 'Brewer, E. Cobham (Ebenezer Cobham)'),\n (504, 'Brewer, Ebenezer Cobham'),\n (623, 'Bridges, R. (Robert)'),\n (624, 'Bridges, Robert'),\n (622, 'Bridges, Robert Seymour'),\n (15397, 'Bridges, Victor'),\n (9468, 'Brighouse, Harold'),\n (652, 'Brinton, D. G. (Daniel Garrison)'),\n (654, 'Brinton, Daniel G. (Daniel Garrison)'),\n (653, 'Brinton, Daniel Garrison'),\n (8164, 'Bronte, Charlotte'),\n (8166, 'Brontë, Charlotte'),\n (11916, 'Brooke, L. Leslie (Leonard Leslie)'),\n (11914, 'Brooke, Leonard Leslie'),\n (11915, 'Brooke, Leslie'),\n (3903, 'Brooks, Amy'),\n (18591, 'Brooks, C. S. (Charles Stephen)'),\n (18592, 'Brooks, Charles S. (Charles Stephen)'),\n (18590, 'Brooks, Charles Stephen'),\n (2398, 'Brooks, Henry M. (Henry Mason)'),\n (2397, 'Brooks, Henry Mason'),\n (7450, 'Broster, D. K. (Dorothy Kathleen)'),\n (7449, 'Broster, Dorothy Kathleen'),\n (7026, 'Broughton, Rhoda'),\n (21113, 'Broun, Heywood'),\n (21112, 'Broun, Heywood Campbell'),\n (17741, 'Brown, Abbie Farwell'),\n (1117, 'Brown, Alice'),\n (14276, 'Brown, Brockden'),\n (14275, 'Brown, C. B. (Charles Brockden)'),\n (14278, 'Brown, Charles Brockden'),\n (4445, 'Brown, Fred'),\n (4446, 'Brown, Fredric'),\n (17982, 'Brown, J. A. Harvie'),\n (13631, 'Brown, Jimmy'),\n (2209, 'Brown, John'),\n (17983, 'Brown, John A. Harvie'),\n (9576, 'Brown, Paul Cameron'),\n (27661, 'Brown, Ruth Alberta'),\n (6389, 'Brown, Thomas, the younger'),\n (4539, 'Brown, W. Wells (William Wells)'),\n (4541, 'Brown, William W.'),\n (4542, 'Brown, William Wells'),\n (4540, 'Brown, Wm. Wells (William Wells)'),\n (11674, 'Browne, Charles Farrar'),\n (1999, 'Browne, Howard'),\n (9575, 'Browne, Paul Cameron'),\n (5394, 'Browne, Thomas Alexander'),\n (19446, 'Browne, Thomas, Sir'),\n (1824, 'Browning, Craig'),\n (5248, 'Browning, Elizabeth Barrett'),\n (7377, 'Browning, Robert'),\n (28059, 'Brownrigg, Henry'),\n (3542, 'Bruce, H. Addington (Henry Addington)'),\n (3541, 'Bruce, Henry Addington Bayley'),\n (5471, 'Bruce, James'),\n (12766, 'Bruce, Mary Grant'),\n (19488, 'Bryant, W. C. (William Cullen)'),\n (19489, 'Bryant, William Cullen'),\n (13340, 'Bryce, C. T. (Catherine Turner)'),\n (13344, 'Bryce, Catherine T. (Catherine Turner)'),\n (13341, 'Bryce, Catherine Turner'),\n (4583, 'Bryce, George'),\n (18223, 'Bryce, James Bryce, Viscount'),\n (18222, 'Bryce, Viscount'),\n (2377, 'Buchan, John'),\n (4872, 'Buchanan, Robert Williams'),\n (11614, 'Buck, Charles Neville'),\n (16280, 'Budge, E. A. Wallis (Ernest Alfred Wallis), Sir'),\n (16278, 'Budge, Ernest Alfred Thompson Wallis, Sir'),\n (16279, 'Budge, Ernest Alfred Wallis, Sir'),\n (6910, 'Budrys, Algirdas Jonas'),\n (6912, 'Budrys, Algis'),\n (2562, 'Buffon, Georges Louis Leclerc, comte de'),\n (2560, 'Buffon, M. le comte de'),\n (5401, 'Bulfinch, Thomas'),\n (4700, 'Bull, John'),\n (15334, 'Bullen, Frank T. (Frank Thomas)'),\n (15335, 'Bullen, Frank Thomas'),\n (1043, 'Bulwer, Edward Lytton'),\n (1042, 'Bulwer-Lytton, Edward George Earle Lytton, 1st Baron'),\n (11911, 'Bunner, H. C. (Henry Cuyler)'),\n (11910, 'Bunner, Henry Cuyler'),\n (391, 'Bunny, Benjamin'),\n (2043, 'Bunyan, John'),\n (12896, 'Bupp, Walter'),\n (3455, 'Burgess, Frank Gelett'),\n (3456, 'Burgess, Gelett'),\n (3277, 'Burgess, Thornton W. (Thornton Waldo)'),\n (3276, 'Burgess, Thornton Waldo'),\n (7816, 'Burghard, Sidney Groves'),\n (17634, 'Burgon, J. W. (John William)'),\n (17635, 'Burgon, John William'),\n (4679, 'Burke, Edmund'),\n (3695, 'Burke, Fielding'),\n (136, 'Burnett, Frances Hodgson'),\n (6324, 'Burnett-Smith, A. (Annie)'),\n (2469, 'Burney, Fanny'),\n (2467, 'Burney, Frances'),\n (6733, 'Burnham, Clara Louise'),\n (6732, 'Burnham, Clara Louise Root'),\n (17775, 'Burns, Robert'),\n (1091, 'Burrell, Caroline Frances Benedict'),\n (482, 'Burroughs, Edgar Rice'),\n (6330, 'Burroughs, John'),\n (8413, 'Burstenbinder, Elisabeth'),\n (342, 'Burton, R. F. (Richard F.), Sir'),\n (344, 'Burton, Richard F.'),\n (345, 'Burton, Richard Francis, Sir'),\n (343, 'Burton, Sir Richard Francis'),\n (11833, 'Bury, Charlotte Campbell, Lady'),\n (11304, 'Butler, Ellis Parker'),\n (25990, 'Butler, Frances Anne'),\n (3469, 'Butler, Samuel'),\n (34433, 'Butt, Mary Martha'),\n (3721, 'Butterworth, Hezekiah'),\n (3591, 'Byron, George Gordon Byron, Baron'),\n (3590, 'Byron, George Gordon Noel Byron, Baron'),\n (3589, 'Byron, George Gordon Noël Byron, Baron'),\n (1030, 'Byron, Mary Clarissa Gillington'),\n (1033, 'Byron, May'),\n (1029, 'Byron, May Clarissa Gillington'),\n (1032, 'Byron, Mrs. G. F.'),\n (8410, 'Bürstenbinder, Elisabeth'),\n (3233, 'C.L.S.C.'),\n (4018, 'CIA (Central Intelligence Agency (U.S.))'),\n (6002, 'Cabell, Branch'),\n (6003, 'Cabell, James Branch'),\n (965, 'Cable, Boyd'),\n (11185, 'Cable, G. W. (George Washington)'),\n (11186, 'Cable, George Washington'),\n (12483, 'Cabot, Eliza Lee'),\n (5293, 'Caffin, Charles H. (Charles Henry)'),\n (5292, 'Caffin, Charles Henry'),\n (5609, 'Caine, Hall, Sir'),\n (5608, 'Caine, Sir Hall'),\n (5607, 'Caine, T. Hall, Sir'),\n (5606, 'Caine, Thomas Henry Hall, Sir'),\n (2008, 'Caldecott, R. (Randolph)'),\n (2009, 'Caldecott, Randolph'),\n (17333, 'Calderon de la Barca, Pedro'),\n (17336, 'Calderón de la Barca, Pedro'),\n (14829, 'Call, Annie Payson'),\n (1238, 'Calvert, A. F. (Albert Frederick)'),\n (1239, 'Calvert, Albert F.'),\n (1240, 'Calvert, Albert Frederick'),\n (2875, 'Calvin, Jean'),\n (2874, 'Calvin, John'),\n (699, 'Cambridge, Ada'),\n (10747, 'Campan, Jeanne Louise Henriette Genet'),\n (10748, 'Campan, Madame (Jeanne-Louise-Henriette)'),\n (10750, 'Campan, Mme. (Jeanne-Louise-Henriette)'),\n (11420, 'Campbell, Gabrielle Margaret Vere'),\n (15291, 'Campbell, Helen'),\n (15288, 'Campbell, Helen Stuart, Mrs.'),\n (21847, 'Campbell, John W. (John Wood)'),\n (21848, 'Campbell, John W., Jr. (John Wood)'),\n (21846, 'Campbell, John Wood'),\n (11423, 'Campbell, Margaret'),\n (20758, 'Campbell, Margaretta Wade'),\n (9841, 'Canada. Post Office Department'),\n (9839, 'Canada. Post Office Dept.'),\n (9825, 'Canfield, Dorothea F.'),\n (9824, 'Canfield, Dorothy'),\n (23154, 'Cannan, Gilbert'),\n (27192, 'Cannon, G. Q. (George Quayle)'),\n (27193, 'Cannon, George Q. (George Quayle)'),\n (27191, 'Cannon, George Quayle'),\n (5599, 'Cannon, Richard'),\n (7093, 'Capes, B. E. J.'),\n (7095, 'Capes, Bernard'),\n (7094, 'Capes, Bernard Edward Joseph'),\n (11886, 'Capps, Carroll Mather'),\n (36601, 'Carey, Charles'),\n (12898, 'Carey, R. Nouchette (Rosa Nouchette)'),\n (12899, 'Carey, Rosa Nouchette'),\n (1998, 'Carleton, H. B.'),\n (9681, 'Carleton, May'),\n (5782, 'Carleton, William'),\n (15782, 'Carlile, Richard'),\n (15780, 'Carlisle, Richard'),\n (11230, 'Carlton, Henry Fisk'),\n (1970, 'Carlyle, T. (Thomas)'),\n (1971, 'Carlyle, Thomas'),\n (7445, 'Carman, Bliss'),\n (7444, 'Carman, William Bliss'),\n (9831, 'Carnegie, Andrew'),\n (8540, 'Carpenter, Edward'),\n (9708, 'Carpenter, Flora L. (Flora Leona)'),\n (9707, 'Carpenter, Flora Leona'),\n (25552, 'Carr, Annie Roe'),\n (8921, 'Carr, Christopher'),\n (2902, 'Carroll, Lewis'),\n (25833, 'Carryl, Guy Wetmore'),\n (18295, 'Carson, Lewis W.'),\n (8810, 'Carter, Herbert, active 1909-1917'),\n (179, 'Carter, Nicholas (House name)'),\n (178, 'Carter, Nick'),\n (11440, 'Carus, Paul'),\n (11542, 'Casanova, Giacomo'),\n (2514, 'Caskoden, Edwin'),\n (27594, 'Cassels, Walter R.'),\n (27595, 'Cassels, Walter Richard'),\n (24032, 'Cassio Dione'),\n (24035, 'Cassius Dio Cocceianus'),\n (16120, 'Castle, Agnes'),\n (16117, 'Castle, Agnes Sweetman'),\n (15954, 'Castle, Egerton'),\n (16119, 'Castle, Mrs. Egerton'),\n (5992, 'Castlemon, Harry'),\n (5991, 'Castlemon, Henry'),\n (7345, 'Cather, Wilella'),\n (7348, 'Cather, Willa'),\n (7344, 'Cather, Willa Sibert'),\n (7347, 'Catherova, Willa'),\n (7346, 'Catherová, Willa'),\n (689, 'Catherwood, Mary Hartwell'),\n (7421, 'Causey, James'),\n (7420, 'Causey, James Oliver, Jr.'),\n (5845, 'Cawein, Madison J.'),\n (5846, 'Cawein, Madison Julius'),\n (7208, 'Cecil, John'),\n (3468, 'Cellarius'),\n (4017, 'Central Intelligence Agency (U.S.)'),\n (1063, 'Cervantes Saavedra, Miguel de'),\n (1061, 'Cervantes, Michel'),\n (1058, 'Cervantes, Miguel de'),\n (8605, 'Chadwick, Lester'),\n (3791, 'Chaillu, P. B. du (Paul Belloni)'),\n (3789, 'Chaillu, Paul B. du (Paul Belloni)'),\n (3792, 'Chaillu, Paul Belloni Du'),\n (3788, 'Chaillu, Paul Du'),\n (12876, 'Chambers, R. (Robert)'),\n (12877, 'Chambers, Robert'),\n (2672, 'Chambers, Robert W. (Robert William)'),\n (2671, 'Chambers, Robert William'),\n (857, 'Chaney, John Griffith'),\n (26317, 'Chaplin, Heman White'),\n (9, 'Chapman, Allen'),\n (8801, 'Chapman, John Jay'),\n (19987, 'Chappell, George S. (George Shepard)'),\n (19986, 'Chappell, George Shepard'),\n (8165, 'Charlotte Brontë'),\n (6939, 'Chase, Adam'),\n (7457, 'Chase, Josephine'),\n (4055, 'Chateaubriand, F. R. de'),\n (4050, 'Chateaubriand, F.-A. de (François-Auguste)'),\n (4049, 'Chateaubriand, Francois-Rene, vicomte de'),\n (4051, 'Chateaubriand, François Auguste René, vicomte de'),\n (4053, 'Chateaubriand, François René'),\n (4054, 'Chateaubriand, François-René de'),\n (4056, 'Chateaubriand, François-René, vicomte de'),\n (14257, 'Chateauclair, Wilfrid'),\n (18372, 'Chatterton, E. Keble (Edward Keble)'),\n (18371, 'Chatterton, Edward Keble'),\n (26769, 'Chatto & Windus (Firm)'),\n (26767, 'Chatto and Windus (Firm)'),\n (15610, 'Chaucer, Daniel'),\n (15721, 'Chaucer, Geoffrey'),\n (15720, 'Chaucer, Jeffrey'),\n (3234, 'Chautauqua Institution'),\n (3232, 'Chautauqua Institution, Chautauqua, N.Y.'),\n (3235, 'Chautauqua Literary and Scientific Circle'),\n (3231, \"Chautauqua Sunday School Teachers' Assembly\"),\n (291, 'Chekhov, Anton Pavlovich'),\n (284, 'Chekov, Anton Pavlovich'),\n (23273, 'Chenevix, Richard'),\n (20559, 'Chenoweth, Alice'),\n (13851, 'Chesnutt, Charles W. (Charles Waddell)'),\n (9209, 'Chester, George Randolph'),\n (2967, 'Chesterfield, Philip Dormer Stanhope, Earl of'),\n (2776, 'Chesterton, G. K. (Gilbert Keith)'),\n (2775, 'Chesterton, Gilbert K. (Gilbert Keith)'),\n (2774, 'Chesterton, Gilbert Keith'),\n (11564, 'Child, L. Maria (Lydia Maria)'),\n (11565, 'Child, Lydia Maria'),\n (11562, 'Child, Lydia Maria Francis'),\n (29450, 'Childers, Erskine'),\n (29449, 'Childers, Robert Erskine'),\n (25117, 'Chip, Will'),\n (15420, 'Cholmondeley, Alice'),\n (1585, 'Cholmondeley, Mary'),\n (9607, 'Chopin, Kate'),\n (9605, \"Chopin, Katherine O'Flaherty\"),\n (16444, 'Christian, Eugene'),\n (16856, 'Christie Murray, David'),\n (21684, 'Christie, Agatha'),\n (21683, 'Christie, Agatha Mary Clarissa Miller'),\n (25491, 'Church of Jesus Christ of Latter-day Saints'),\n (4865, 'Church, A. J.'),\n (4864, 'Church, Alfred J.'),\n (4866, 'Church, Alfred John'),\n (6700, 'Church, J. (John)'),\n (6697, 'Church, John'),\n (6698, 'Church, John (Preacher)'),\n (10474, 'Church, R. W. (Richard William)'),\n (10473, 'Church, Richard William'),\n (186, 'Churchill, Sir Winston Spencer'),\n (188, 'Churchill, Winston'),\n (184, 'Churchill, Winston Leonard Spencer, Sir'),\n (187, 'Churchill, Winston S.'),\n (185, 'Churchill, Winston Spencer'),\n (14256, 'Châteauclair, Wilfrid'),\n (20480, 'Cibber, Theophilus'),\n (6282, 'Cicero, Marcus Tullius'),\n (16881, 'Clair, M. St.'),\n (16878, 'Clair, Margaret St.'),\n (1027, 'Clare, Maurice'),\n (885, 'Claretie, Arsene-Arnaud'),\n (884, 'Claretie, Arsène-Armand'),\n (883, 'Claretie, Arsène-Arnaud'),\n (887, 'Claretie, Jules'),\n (886, 'Claretie, Jules Arsène Arnaud'),\n (11074, 'Clark, Joan'),\n (4677, 'Clarke, Rebecca Sophia'),\n (734, 'Clarkson, T. (Thomas)'),\n (735, 'Clarkson, Thomas'),\n (7612, 'Clay, Bertha M.'),\n (3260, 'Cleishbotham, Jedediah'),\n (6275, 'Cleland, Robert'),\n (85, 'Clemens, Samuel Langhorne'),\n (12723, 'Clement, Clara Erskine'),\n (25928, 'Cleveland, Grover'),\n (25927, 'Cleveland, Stephen Grover'),\n (3566, 'Clifton, Mark'),\n (3565, 'Clifton, Mark Irvin'),\n (1148, 'Clifton, Oliver Lee'),\n (23412, 'Clouston, J. Storer (Joseph Storer)'),\n (23411, 'Clouston, Joseph Storer'),\n (2163, 'Co., Methuen &'),\n (1763, 'Cobb, Irvin S. (Irvin Shrewsbury)'),\n (1762, 'Cobb, Irvin Shrewsbury'),\n (3184, 'Coburn, Fordyce, Mrs.'),\n (500, 'Cochran, Elizabeth'),\n (501, 'Cochrane, Elizabeth'),\n (7221, 'Cody, H. A. (Hiram Alfred)'),\n (7220, 'Cody, Hiram Alfred'),\n (1896, 'Coffe, M.'),\n (13248, 'Coffin, Charles C. (Charles Carleton)'),\n (13249, 'Coffin, Charles Carleton'),\n (10890, 'Col. D. Streamer'),\n (6161, 'Colby, Charles W. (Charles William)'),\n (6160, 'Colby, Charles William'),\n (4929, 'Colcraft, Henry Rowe'),\n (11882, 'Cole, E. B. (Everett Bush)'),\n (11884, 'Cole, Everett B.'),\n (11883, 'Cole, Everett B., Sr.'),\n (11881, 'Cole, Everett Bush'),\n (20654, 'Coleman, George'),\n (8503, 'Coleridge, C. R. (Christabel Rose)'),\n (8504, 'Coleridge, C.R.'),\n (8506, 'Coleridge, Christabel R. (Christabel Rose)'),\n (8505, 'Coleridge, Christabel Rose'),\n (10234, 'Coleridge, S. T. (Samuel Taylor)'),\n (10235, 'Coleridge, Samuel Taylor'),\n (15668, 'College, Trinity'),\n (2090, 'Collingwood, Harry'),\n (13086, 'Collins, A. Frederick (Archie Frederick)'),\n (13085, 'Collins, Archie Frederick'),\n (7792, 'Collins, Wilkie'),\n (7791, 'Collins, William Wilkie'),\n (19560, 'Collumb, Patrick'),\n (20655, 'Colman, George'),\n (20652, 'Colman, George, the younger'),\n (13990, 'Colton, Arthur'),\n (13989, 'Colton, Arthur Willis'),\n (19561, 'Colum, Padraic'),\n (6040, 'Comfort, Will Levington'),\n (14248, 'Commission, Warren'),\n (3587, 'Company, American Thread'),\n (2162, 'Company, Methuen &'),\n (2603, 'Comstock, Harriet T. (Harriet Theresa)'),\n (2602, 'Comstock, Harriet Theresa Smith'),\n (492, 'Conan Doyle, Arthur, Sir'),\n (6951, 'Confucius'),\n (4313, 'Congress, Copyright Office Library of'),\n (4312, 'Congress, U. S. Copyright Office Library of'),\n (12881, 'Congreve, William'),\n (12880, 'Congrove, Mr. (William)'),\n (21237, 'Connolly, James B. (James Brendan)'),\n (21236, 'Connolly, James Brendan'),\n (12244, 'Connor, Ralph'),\n (2493, 'Conrad, Joseph'),\n (5326, 'Constant, Louis Constant Wairy, known as'),\n (15200, 'Conway, M. D. (Moncure Daniel)'),\n (15201, 'Conway, Moncure Daniel'),\n (11260, 'Conwell, Russell H.'),\n (11259, 'Conwell, Russell Herman'),\n (4500, 'Cook, Captain (James)'),\n (4502, 'Cook, James'),\n (2318, 'Cook, Joel'),\n (1548, 'Cook, Mrs. George Cram'),\n (1547, 'Cook, Susan'),\n (7810, 'Cooke, Arthur'),\n (4501, 'Cooke, James'),\n (326, 'Cooke, John Estes'),\n (12448, 'Coolidge, Dane'),\n (4212, 'Coolidge, Susan'),\n (3631, 'Cooper, Fenimore'),\n (4809, 'Cooper, Frank'),\n (3632, 'Cooper, J. Fenimore (James Fenimore)'),\n (3633, 'Cooper, James Fenimore'),\n (3112, 'Coppee, Francois'),\n (10825, 'Coppel, Alfred'),\n (10823, 'Coppel, Alfredo Jose de Arana-Marini'),\n (10822, 'Coppel, Alfredo José de Arana-Marini'),\n (3113, 'Coppée, Francis Edouard Joachim'),\n (3115, 'Coppée, François'),\n (23856, 'Corbett, Julian Stafford'),\n (23855, 'Corbett, Julian Stafford, Sir'),\n (17980, 'Cordeaux, J.'),\n (17989, 'Cordeaux, John'),\n (7681, 'Corelli, Maria'),\n (7682, 'Corelli, Marie'),\n (9260, 'Cory, Annie Sophie'),\n (6716, 'Cory, David'),\n (6715, 'Cory, David Magie'),\n (9261, 'Cory, Vivian'),\n (11421, 'Costanzo, Gabrielle Margaret Vere Campbell'),\n ...]"
     },
     "execution_count": 9,
     "metadata": {},
     "output_type": "execute_result"
    }
   ],
   "source": [
    "cache  = GutenbergCache.get_cache()\n",
    "# Get all English authors with at least 5 books\n",
    "engAuthors = [s for s in cache.native_query(\"SELECT a.id, a.name\\\n",
    "    FROM authors a\\\n",
    "    JOIN book_authors ba ON a.id = ba.authorid\\\n",
    "    JOIN books b ON ba.bookid = b.id\\\n",
    "    WHERE b.languageid = 1 AND a.name NOT IN ('Anonymous', 'Various')\\\n",
    "    GROUP BY a.id, a.name \\\n",
    "    HAVING COUNT(b.id) >= 5\\\n",
    "    ORDER BY a.name;\")]\n",
    "\n",
    "engAuthors"
   ],
   "metadata": {
    "collapsed": false
   }
  },
  {
   "cell_type": "code",
   "execution_count": 10,
   "outputs": [
    {
     "name": "stdout",
     "output_type": "stream",
     "text": [
      "There are 4868 English authors >=5 works in the dataset.\n"
     ]
    }
   ],
   "source": [
    "# Count the number of authors in engAuthors\n",
    "num_authors = len(engAuthors)\n",
    "# Print the result\n",
    "print(f\"There are {num_authors} English authors >=5 works in the dataset.\")"
   ],
   "metadata": {
    "collapsed": false
   }
  },
  {
   "cell_type": "code",
   "execution_count": 11,
   "outputs": [],
   "source": [
    "# def get_works(engAuthors):\n",
    "#     query2 = \"\"\"\n",
    "#         SELECT b.authorid, a.name, s.gutenbergbookid, t.name\n",
    "#         FROM titles t\n",
    "#\n",
    "#         LEFT JOIN books s\n",
    "#         ON s.id = t.bookid\n",
    "#         LEFT JOIN book_authors b\n",
    "#         ON b.bookid = s.id\n",
    "#         LEFT JOIN authors a\n",
    "#         ON b.authorid = a.id\n",
    "#\n",
    "#\n",
    "#         WHERE b.authorid = {}\n",
    "#     \"\"\"\n",
    "#\n",
    "#     cursor = cache.native_query(query2)\n",
    "#     gutenbergbookids = []\n",
    "#     for row in cursor:\n",
    "#         gutenbergbookids.append(row[2])\n",
    "#     return gutenbergbookids"
   ],
   "metadata": {
    "collapsed": false
   }
  },
  {
   "cell_type": "code",
   "execution_count": 12,
   "outputs": [],
   "source": [
    "# for authorid in engAuthors:\n",
    "#     gutenbergbooks = get_works(authorid)\n",
    "#     print(gutenbergbooks)"
   ],
   "metadata": {
    "collapsed": false
   }
  },
  {
   "cell_type": "code",
   "execution_count": 13,
   "outputs": [
    {
     "data": {
      "text/plain": "       author_id author_name  book_id  \\\n0          24076    A Square    24287   \n1          24076    A Square    35549   \n2          24076    A Square    43047   \n3          24076    A Square    52765   \n4          24076    A Square    58073   \n...          ...         ...      ...   \n89604       1427          孫子    23449   \n89605       1427          孫子    23449   \n89606       1427          孫子    33602   \n89607       1427          孫子    33602   \n89608       1427          孫子    45699   \n\n                                              book_title  \n0      How to Write Clearly: Rules and Exercises on E...  \n1                                  Silanus the Christian  \n2                 Flatland: A Romance of Many Dimensions  \n3            Onesimus: Memoirs of a Disciple of St. Paul  \n4                 Flatland: A Romance of Many Dimensions  \n...                                                  ...  \n89604                             Sunzi bing fa. English  \n89605                                     The Art of War  \n89606                             Sunzi bing fa. English  \n89607                                     The Art of War  \n89608  Sun Tzŭ on the Art of War: The Oldest Military...  \n\n[89609 rows x 4 columns]",
      "text/html": "<div>\n<style scoped>\n    .dataframe tbody tr th:only-of-type {\n        vertical-align: middle;\n    }\n\n    .dataframe tbody tr th {\n        vertical-align: top;\n    }\n\n    .dataframe thead th {\n        text-align: right;\n    }\n</style>\n<table border=\"1\" class=\"dataframe\">\n  <thead>\n    <tr style=\"text-align: right;\">\n      <th></th>\n      <th>author_id</th>\n      <th>author_name</th>\n      <th>book_id</th>\n      <th>book_title</th>\n    </tr>\n  </thead>\n  <tbody>\n    <tr>\n      <th>0</th>\n      <td>24076</td>\n      <td>A Square</td>\n      <td>24287</td>\n      <td>How to Write Clearly: Rules and Exercises on E...</td>\n    </tr>\n    <tr>\n      <th>1</th>\n      <td>24076</td>\n      <td>A Square</td>\n      <td>35549</td>\n      <td>Silanus the Christian</td>\n    </tr>\n    <tr>\n      <th>2</th>\n      <td>24076</td>\n      <td>A Square</td>\n      <td>43047</td>\n      <td>Flatland: A Romance of Many Dimensions</td>\n    </tr>\n    <tr>\n      <th>3</th>\n      <td>24076</td>\n      <td>A Square</td>\n      <td>52765</td>\n      <td>Onesimus: Memoirs of a Disciple of St. Paul</td>\n    </tr>\n    <tr>\n      <th>4</th>\n      <td>24076</td>\n      <td>A Square</td>\n      <td>58073</td>\n      <td>Flatland: A Romance of Many Dimensions</td>\n    </tr>\n    <tr>\n      <th>...</th>\n      <td>...</td>\n      <td>...</td>\n      <td>...</td>\n      <td>...</td>\n    </tr>\n    <tr>\n      <th>89604</th>\n      <td>1427</td>\n      <td>孫子</td>\n      <td>23449</td>\n      <td>Sunzi bing fa. English</td>\n    </tr>\n    <tr>\n      <th>89605</th>\n      <td>1427</td>\n      <td>孫子</td>\n      <td>23449</td>\n      <td>The Art of War</td>\n    </tr>\n    <tr>\n      <th>89606</th>\n      <td>1427</td>\n      <td>孫子</td>\n      <td>33602</td>\n      <td>Sunzi bing fa. English</td>\n    </tr>\n    <tr>\n      <th>89607</th>\n      <td>1427</td>\n      <td>孫子</td>\n      <td>33602</td>\n      <td>The Art of War</td>\n    </tr>\n    <tr>\n      <th>89608</th>\n      <td>1427</td>\n      <td>孫子</td>\n      <td>45699</td>\n      <td>Sun Tzŭ on the Art of War: The Oldest Military...</td>\n    </tr>\n  </tbody>\n</table>\n<p>89609 rows × 4 columns</p>\n</div>"
     },
     "execution_count": 13,
     "metadata": {},
     "output_type": "execute_result"
    }
   ],
   "source": [
    "engAuthor_ids = [str(a[0]) for a in engAuthors]\n",
    "query = \"\"\"\n",
    "    SELECT a.id AS author_id, a.name AS author_name, b.id AS book_id, t.name AS book_title\n",
    "    FROM authors a\n",
    "    JOIN book_authors ba ON a.id = ba.authorid\n",
    "    JOIN books b ON ba.bookid = b.id\n",
    "    JOIN titles t ON t.bookid = b.id\n",
    "    WHERE b.languageid = 1 AND a.name NOT IN ('Anonymous', 'Various') AND a.id IN ({})\n",
    "    ORDER BY a.name, b.id\n",
    "\"\"\".format(','.join(engAuthor_ids))\n",
    "\n",
    "results = cache.native_query(query)\n",
    "df = pd.DataFrame(results, columns=[\"author_id\", \"author_name\", \"book_id\", \"book_title\"])\n",
    "df"
   ],
   "metadata": {
    "collapsed": false
   }
  },
  {
   "cell_type": "code",
   "execution_count": 14,
   "outputs": [
    {
     "data": {
      "text/plain": "       author_id       author_name  book_id  \\\n80263          1     Verschillende     6193   \n80686          1     Verschillende    14077   \n80920          1     Verschillende    18579   \n82528          1     Verschillende    51235   \n82890          1     Verschillende    58800   \n...          ...               ...      ...   \n66640      45848  Sherman, Francis    63980   \n66641      45848  Sherman, Francis    64864   \n66645      45848  Sherman, Francis    68572   \n66642      45848  Sherman, Francis    64864   \n66644      45848  Sherman, Francis    65615   \n\n                                              book_title  \n80263  The Southern Literary Messenger, Vol. II., No....  \n80686  Harper's Young People, January 17, 1882\\nAn Il...  \n80920  The American Missionary — Volume 39, No. 07, J...  \n82528  Punch, Or The London Charivari, Volume 102, Ma...  \n82890  Encyclopaedia Britannica, 11th Edition, 'Cinci...  \n...                                                  ...  \n66640                              In Memorabilia Mortis  \n66641                     A Canadian Calendar: 12 Lyrics  \n66645                                          A Prelude  \n66642                 A Canadian Calendar: Twelve Lyrics  \n66644                                  The Deserted City  \n\n[24340 rows x 4 columns]",
      "text/html": "<div>\n<style scoped>\n    .dataframe tbody tr th:only-of-type {\n        vertical-align: middle;\n    }\n\n    .dataframe tbody tr th {\n        vertical-align: top;\n    }\n\n    .dataframe thead th {\n        text-align: right;\n    }\n</style>\n<table border=\"1\" class=\"dataframe\">\n  <thead>\n    <tr style=\"text-align: right;\">\n      <th></th>\n      <th>author_id</th>\n      <th>author_name</th>\n      <th>book_id</th>\n      <th>book_title</th>\n    </tr>\n  </thead>\n  <tbody>\n    <tr>\n      <th>80263</th>\n      <td>1</td>\n      <td>Verschillende</td>\n      <td>6193</td>\n      <td>The Southern Literary Messenger, Vol. II., No....</td>\n    </tr>\n    <tr>\n      <th>80686</th>\n      <td>1</td>\n      <td>Verschillende</td>\n      <td>14077</td>\n      <td>Harper's Young People, January 17, 1882\\nAn Il...</td>\n    </tr>\n    <tr>\n      <th>80920</th>\n      <td>1</td>\n      <td>Verschillende</td>\n      <td>18579</td>\n      <td>The American Missionary — Volume 39, No. 07, J...</td>\n    </tr>\n    <tr>\n      <th>82528</th>\n      <td>1</td>\n      <td>Verschillende</td>\n      <td>51235</td>\n      <td>Punch, Or The London Charivari, Volume 102, Ma...</td>\n    </tr>\n    <tr>\n      <th>82890</th>\n      <td>1</td>\n      <td>Verschillende</td>\n      <td>58800</td>\n      <td>Encyclopaedia Britannica, 11th Edition, 'Cinci...</td>\n    </tr>\n    <tr>\n      <th>...</th>\n      <td>...</td>\n      <td>...</td>\n      <td>...</td>\n      <td>...</td>\n    </tr>\n    <tr>\n      <th>66640</th>\n      <td>45848</td>\n      <td>Sherman, Francis</td>\n      <td>63980</td>\n      <td>In Memorabilia Mortis</td>\n    </tr>\n    <tr>\n      <th>66641</th>\n      <td>45848</td>\n      <td>Sherman, Francis</td>\n      <td>64864</td>\n      <td>A Canadian Calendar: 12 Lyrics</td>\n    </tr>\n    <tr>\n      <th>66645</th>\n      <td>45848</td>\n      <td>Sherman, Francis</td>\n      <td>68572</td>\n      <td>A Prelude</td>\n    </tr>\n    <tr>\n      <th>66642</th>\n      <td>45848</td>\n      <td>Sherman, Francis</td>\n      <td>64864</td>\n      <td>A Canadian Calendar: Twelve Lyrics</td>\n    </tr>\n    <tr>\n      <th>66644</th>\n      <td>45848</td>\n      <td>Sherman, Francis</td>\n      <td>65615</td>\n      <td>The Deserted City</td>\n    </tr>\n  </tbody>\n</table>\n<p>24340 rows × 4 columns</p>\n</div>"
     },
     "execution_count": 14,
     "metadata": {},
     "output_type": "execute_result"
    }
   ],
   "source": [
    "num_books_per_author = 5\n",
    "random_seed = 42\n",
    "\n",
    "df_sampled = df.groupby(\"author_id\", group_keys=False).apply(lambda x: x.sample(n=min(len(x), num_books_per_author), random_state=random_seed))\n",
    "df_sampled"
   ],
   "metadata": {
    "collapsed": false
   }
  },
  {
   "cell_type": "code",
   "execution_count": 15,
   "outputs": [
    {
     "ename": "TypeError",
     "evalue": "exceptions must derive from BaseException",
     "output_type": "error",
     "traceback": [
      "\u001B[0;31m---------------------------------------------------------------------------\u001B[0m",
      "\u001B[0;31mTypeError\u001B[0m                                 Traceback (most recent call last)",
      "Cell \u001B[0;32mIn[15], line 4\u001B[0m\n\u001B[1;32m      2\u001B[0m \u001B[38;5;28;01mfor\u001B[39;00m index, row \u001B[38;5;129;01min\u001B[39;00m df_sampled\u001B[38;5;241m.\u001B[39miterrows():\n\u001B[1;32m      3\u001B[0m     book_id \u001B[38;5;241m=\u001B[39m row[\u001B[38;5;124m\"\u001B[39m\u001B[38;5;124mbook_id\u001B[39m\u001B[38;5;124m\"\u001B[39m]\n\u001B[0;32m----> 4\u001B[0m     book_text \u001B[38;5;241m=\u001B[39m \u001B[43mgutenbergpy\u001B[49m\u001B[38;5;241;43m.\u001B[39;49m\u001B[43mtextget\u001B[49m\u001B[38;5;241;43m.\u001B[39;49m\u001B[43mget_text_by_id\u001B[49m\u001B[43m(\u001B[49m\u001B[43mbook_id\u001B[49m\u001B[43m)\u001B[49m\n\u001B[1;32m      5\u001B[0m     book_texts[book_id] \u001B[38;5;241m=\u001B[39m book_text\n",
      "File \u001B[0;32m/opt/homebrew/anaconda3/envs/SI699/lib/python3.10/site-packages/gutenbergpy/textget.py:155\u001B[0m, in \u001B[0;36mget_text_by_id\u001B[0;34m(index)\u001B[0m\n\u001B[1;32m    153\u001B[0m     \u001B[38;5;28;01mif\u001B[39;00m ex\u001B[38;5;241m.\u001B[39merrno \u001B[38;5;241m!=\u001B[39m errno\u001B[38;5;241m.\u001B[39mEEXIST:\n\u001B[1;32m    154\u001B[0m         \u001B[38;5;28;01mraise\u001B[39;00m\n\u001B[0;32m--> 155\u001B[0m download_uri \u001B[38;5;241m=\u001B[39m \u001B[43m_format_download_uri\u001B[49m\u001B[43m(\u001B[49m\u001B[43mindex\u001B[49m\u001B[43m)\u001B[49m\n\u001B[1;32m    157\u001B[0m text_bytes \u001B[38;5;241m=\u001B[39m urlopen(download_uri)\u001B[38;5;241m.\u001B[39mread()\n\u001B[1;32m    158\u001B[0m encoding \u001B[38;5;241m=\u001B[39m chardet\u001B[38;5;241m.\u001B[39mdetect(text_bytes)[\u001B[38;5;124m\"\u001B[39m\u001B[38;5;124mencoding\u001B[39m\u001B[38;5;124m\"\u001B[39m]\n",
      "File \u001B[0;32m/opt/homebrew/anaconda3/envs/SI699/lib/python3.10/site-packages/gutenbergpy/textget.py:142\u001B[0m, in \u001B[0;36m_format_download_uri\u001B[0;34m(index)\u001B[0m\n\u001B[1;32m    140\u001B[0m     \u001B[38;5;28;01mif\u001B[39;00m resp\u001B[38;5;241m.\u001B[39mstatus \u001B[38;5;241m<\u001B[39m \u001B[38;5;241m400\u001B[39m :\n\u001B[1;32m    141\u001B[0m         \u001B[38;5;28;01mreturn\u001B[39;00m uri\n\u001B[0;32m--> 142\u001B[0m \u001B[38;5;28;01mraise\u001B[39;00m \u001B[38;5;28;01mNone\u001B[39;00m\n",
      "\u001B[0;31mTypeError\u001B[0m: exceptions must derive from BaseException"
     ]
    }
   ],
   "source": [
    "book_texts = {}  # create an empty dictionary to store the book texts\n",
    "for index, row in df_sampled.iterrows():\n",
    "    book_id = row[\"book_id\"]\n",
    "    book_text = gutenbergpy.textget.get_text_by_id(book_id)\n",
    "    book_texts[book_id] = book_text\n"
   ],
   "metadata": {
    "collapsed": false
   }
  },
  {
   "cell_type": "code",
   "execution_count": null,
   "outputs": [],
   "source": [
    "id = df_sampled[\"book_id\"].tolist()\n",
    "id"
   ],
   "metadata": {
    "collapsed": false
   }
  },
  {
   "cell_type": "code",
   "execution_count": null,
   "outputs": [],
   "source": [
    "\n",
    "\n",
    "import random\n",
    "import gutenbergpy\n",
    "import gutenbergpy.textget\n",
    "import nltk # To split the book by sentences\n",
    "\n",
    "\n",
    "\n",
    "import pandas as pd\n",
    "import gutenbergpy\n",
    "import gutenbergpy.textget\n",
    "\n",
    "id = df_sampled[\"book_id\"].tolist()\n",
    "\n",
    "def get_text(id):\n",
    "    raw_book = gutenbergpy.textget.get_text_by_id(id)\n",
    "    clean_book = gutenbergpy.textget.strip_headers(raw_book)\n",
    "    return clean_book, raw_book\n",
    "\n",
    "# Create an empty DataFrame with two columns: \"book_id\" and \"text\"\n",
    "\n",
    "# Loop over book IDs and append their text data to the DataFrame\n",
    "\n",
    "\n",
    "# def trim_book(clean_book, trim_pct=0.1):\n",
    "#     lines = clean_book.strip().decode('utf-8').replace('\\n', ' ')\n",
    "#     n = len(lines)\n",
    "#     start = n * trim_pct // 1\n",
    "#     end = n * (1 - trim_pct) // 1\n",
    "#     return lines[int(start):int(end)]\n",
    "#\n",
    "#\n",
    "# def get_sample_sentences(trimmed):\n",
    "#     sentences = nltk.sent_tokenize(trimmed)\n",
    "#     non_empty_sentences = [s for s in sentences if s.strip()]\n",
    "#     n = len(non_empty_sentences)\n",
    "#     sample_sentences = random.sample(range(n), k=min(n, 10))\n",
    "#     sample = [(i+1, non_empty_sentences[i]) for i in sample_sentences]\n",
    "#     return sample\n",
    "\n"
   ],
   "metadata": {
    "collapsed": false
   }
  },
  {
   "cell_type": "code",
   "execution_count": 15,
   "outputs": [],
   "source": [],
   "metadata": {
    "collapsed": false
   }
  },
  {
   "cell_type": "code",
   "execution_count": 15,
   "outputs": [],
   "source": [],
   "metadata": {
    "collapsed": false
   }
  },
  {
   "cell_type": "code",
   "execution_count": 16,
   "outputs": [
    {
     "ename": "TypeError",
     "evalue": "'builtin_function_or_method' object is not iterable",
     "output_type": "error",
     "traceback": [
      "\u001B[0;31m---------------------------------------------------------------------------\u001B[0m",
      "\u001B[0;31mTypeError\u001B[0m                                 Traceback (most recent call last)",
      "Cell \u001B[0;32mIn[16], line 1\u001B[0m\n\u001B[0;32m----> 1\u001B[0m \u001B[38;5;28;01mfor\u001B[39;00m i \u001B[38;5;129;01min\u001B[39;00m \u001B[38;5;28mid\u001B[39m:\n\u001B[1;32m      2\u001B[0m     gutenbergBooks \u001B[38;5;241m=\u001B[39m get_text(i)\n\u001B[1;32m      3\u001B[0m     \u001B[38;5;28mprint\u001B[39m(gutenbergBooks)\n",
      "\u001B[0;31mTypeError\u001B[0m: 'builtin_function_or_method' object is not iterable"
     ]
    }
   ],
   "source": [
    "for i in id:\n",
    "    gutenbergBooks = get_text(i)\n",
    "    print(gutenbergBooks)"
   ],
   "metadata": {
    "collapsed": false
   }
  },
  {
   "cell_type": "code",
   "execution_count": 18,
   "outputs": [],
   "source": [
    "\n",
    "# # Get all English authors with at least 5 books\n",
    "# engAuthors = [s for s in cache.native_query(\"SELECT a.id, a.name\\\n",
    "#     FROM authors a\\\n",
    "#     JOIN book_authors ba ON a.id = ba.authorid\\\n",
    "#     JOIN books b ON ba.bookid = b.id\\\n",
    "#     WHERE b.languageid = 1\\\n",
    "#     GROUP BY a.id, a.name \\\n",
    "#     HAVING COUNT(b.id) >= 3\\\n",
    "#     ORDER BY a.name;\")]\n",
    "#\n",
    "# engAuthors\n",
    "# num_authors = len(engAuthors)\n",
    "# num_authors"
   ],
   "metadata": {
    "collapsed": false
   }
  },
  {
   "cell_type": "code",
   "execution_count": 19,
   "outputs": [],
   "source": [
    "# # For each engauthor, get a random subset of 5 works\n",
    "# for author in engAuthors:\n",
    "#     # Get the author name\n",
    "#     author_name = author[0]\n",
    "#\n",
    "#     # Get all works by the author\n",
    "#     works = [s for s in cache.native_query(f\"SELECT a.name\\\n",
    "#     FROM authors a\\\n",
    "#     JOIN book_authors ba ON a.id = ba.authorid\\\n",
    "#     JOIN books b ON ba.bookid = b.id\\\n",
    "#     WHERE b.languageid = 1 AND a.name NOT IN ('Anonymous', 'Various')\\\n",
    "#     GROUP BY a.name\\\n",
    "#     HAVING COUNT(DISTINCT b.id) >= 5\")]\n",
    "#\n",
    "#     # Get a random subset of 5 works\n",
    "#     subset = random.sample(works, min(len(works), 5))\n",
    "#\n",
    "#     # Print the result\n",
    "#     print(works)\n",
    "#     print (subset)\n",
    "#     print(f\"{author_name}: {subset}\")"
   ],
   "metadata": {
    "collapsed": false
   }
  },
  {
   "cell_type": "code",
   "execution_count": 19,
   "outputs": [],
   "source": [],
   "metadata": {
    "collapsed": false
   }
  },
  {
   "cell_type": "code",
   "execution_count": 20,
   "outputs": [],
   "source": [
    "# import random\n",
    "# from gutenbergpy.gutenbergcache import GutenbergCache\n",
    "#\n",
    "# cache = GutenbergCache.get_cache()\n",
    "#\n",
    "# # Get English authors with at least 5 distinct works\n",
    "# eng_authors = [author[0] for author in cache.native_query(\"SELECT a.name\\\n",
    "# FROM authors a\\\n",
    "# JOIN book_authors ba ON a.id = ba.authorid\\\n",
    "# JOIN books b ON ba.bookid = b.id\\\n",
    "# WHERE b.languageid = 1 AND a.name NOT IN ('Anonymous', 'Various')\\\n",
    "# GROUP BY a.name\\\n",
    "# HAVING COUNT(DISTINCT b.id) >= 5\")]\n",
    "#\n",
    "# # Get a random subset of 5 works for each author\n",
    "# author_works = {}\n",
    "# for author in eng_authors:\n",
    "#     works = [work[0] for work in cache.native_query(f\"\"\"\n",
    "#     SELECT t.name\n",
    "#     FROM titles t\n",
    "#     JOIN books b ON t.bookid = b.id\n",
    "#     JOIN book_authors ba ON b.id = ba.bookid\n",
    "#     JOIN authors a ON a.id = ba.authorid\n",
    "#     WHERE a.name = '{author}' AND b.languageid = 1\n",
    "#     \"\"\")]\n",
    "#     random_works = random.sample(works, 5)\n",
    "#     author_works[author] = random_works\n",
    "#\n",
    "#\n",
    "# # Print the random works for each author\n",
    "# for author, works in author_works.items():\n",
    "#     print(f'{author}:')\n",
    "#     for work in works:\n",
    "#         print(f'  - {work}')\n",
    "#     print()\n"
   ],
   "metadata": {
    "collapsed": false
   }
  },
  {
   "cell_type": "code",
   "execution_count": 20,
   "outputs": [],
   "source": [],
   "metadata": {
    "collapsed": false
   }
  }
 ],
 "metadata": {
  "kernelspec": {
   "display_name": "base",
   "language": "python",
   "name": "python3"
  },
  "language_info": {
   "codemirror_mode": {
    "name": "ipython",
    "version": 3
   },
   "file_extension": ".py",
   "mimetype": "text/x-python",
   "name": "python",
   "nbconvert_exporter": "python",
   "pygments_lexer": "ipython3",
   "version": "3.9.16"
  },
  "orig_nbformat": 4
 },
 "nbformat": 4,
 "nbformat_minor": 2
}
