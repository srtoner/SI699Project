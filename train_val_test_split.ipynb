{
 "cells": [
  {
   "cell_type": "code",
   "execution_count": 1,
   "id": "7c0a624c",
   "metadata": {},
   "outputs": [],
   "source": [
    "import pandas as pd\n",
    "from sklearn.model_selection import train_test_split\n",
    "\n",
    "def split_data(csv_path, features_col, target_col, test_size, val_size, random_state=42):\n",
    "    \n",
    "    # Read in CSV file\n",
    "    data = pd.read_csv(csv_path)\n",
    "\n",
    "    # Split data into X (features) and y (target variable)\n",
    "    X = data[features_col]\n",
    "    y = data[target_col]\n",
    "\n",
    "    # Split data into train and test sets\n",
    "    X_train, X_test, y_train, y_test = train_test_split(X, y, test_size=test_size,\n",
    "                                                        random_state=random_state,\n",
    "                                                        stratify=y)\n",
    "\n",
    "    # Split train set into train and validation sets\n",
    "    X_train, X_val, y_train, y_val = train_test_split(X_train, y_train, test_size=val_size/(1-test_size),\n",
    "                                                      random_state=random_state,\n",
    "                                                      stratify=y_train)\n",
    "\n",
    "    return X_train, X_val, X_test, y_train, y_val, y_test"
   ]
  },
  {
   "cell_type": "code",
   "execution_count": 2,
   "id": "5f392692",
   "metadata": {},
   "outputs": [],
   "source": [
    "X_train, X_val, X_test, y_train, y_val, y_test = split_data('data_w_subj.csv', 'text', 'subjects', test_size=0.2, val_size=0.2)"
   ]
  },
  {
   "cell_type": "code",
   "execution_count": 3,
   "id": "976b4561",
   "metadata": {},
   "outputs": [
    {
     "data": {
      "text/plain": [
       "1431    ['', 'No man is to be injured in his person, m...\n",
       "2353    ['lo que me hago. Pero querría yo saber de la ...\n",
       "882     ['their feet with high heels and endanger thei...\n",
       "2048    [\"strike a blow that will crush a man's skull,...\n",
       "1384    ['k‰skev‰t v‰littˆm‰‰n toimintaan, h‰n ei tahd...\n",
       "                              ...                        \n",
       "1486    ['they could.', '', 'Cold and Rain laughed whe...\n",
       "1060    ['The boat was still quite a distance from the...\n",
       "102     ['', '  FIRST SERVANT. My lord, you nod; you d...\n",
       "2030    ['black. After taking my breakfast, I prepared...\n",
       "2101    ['disappointed, as I almost sobbed:', '', '\"Oh...\n",
       "Name: text, Length: 1466, dtype: object"
      ]
     },
     "execution_count": 3,
     "metadata": {},
     "output_type": "execute_result"
    }
   ],
   "source": [
    "X_train"
   ]
  },
  {
   "cell_type": "code",
   "execution_count": 4,
   "id": "b6be0867",
   "metadata": {},
   "outputs": [
    {
     "name": "stdout",
     "output_type": "stream",
     "text": [
      "X_train size: 1466\n",
      "X_val size: 489\n",
      "X_test size: 489\n"
     ]
    }
   ],
   "source": [
    "print(f'X_train size: {X_train.shape[0]}')\n",
    "print(f'X_val size: {X_val.shape[0]}')\n",
    "print(f'X_test size: {X_test.shape[0]}')"
   ]
  },
  {
   "cell_type": "code",
   "execution_count": null,
   "id": "eae6c67f",
   "metadata": {},
   "outputs": [],
   "source": []
  }
 ],
 "metadata": {
  "kernelspec": {
   "display_name": "Python 3 (ipykernel)",
   "language": "python",
   "name": "python3"
  },
  "language_info": {
   "codemirror_mode": {
    "name": "ipython",
    "version": 3
   },
   "file_extension": ".py",
   "mimetype": "text/x-python",
   "name": "python",
   "nbconvert_exporter": "python",
   "pygments_lexer": "ipython3",
   "version": "3.9.7"
  }
 },
 "nbformat": 4,
 "nbformat_minor": 5
}
