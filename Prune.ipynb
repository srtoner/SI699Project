{
 "cells": [
  {
   "cell_type": "code",
   "execution_count": 1,
   "metadata": {},
   "outputs": [
    {
     "name": "stderr",
     "output_type": "stream",
     "text": [
      "/Users/stephentoner/miniconda3/envs/si699proj/lib/python3.9/site-packages/tqdm/auto.py:21: TqdmWarning: IProgress not found. Please update jupyter and ipywidgets. See https://ipywidgets.readthedocs.io/en/stable/user_install.html\n",
      "  from .autonotebook import tqdm as notebook_tqdm\n"
     ]
    }
   ],
   "source": [
    "import pickle as pkl\n",
    "import pandas as pd\n",
    "import os\n",
    "import numpy as np\n",
    "from collections import Counter\n",
    "import json\n",
    "\n",
    "with open('config.json', 'r') as f:\n",
    "    config = json.load(f)\n",
    "cwd = os.getcwd()\n",
    "os.chdir(config['REPODIR'])\n",
    "import Utils as U\n",
    "from Corpus import Corpus\n",
    "os.chdir(cwd)"
   ]
  },
  {
   "attachments": {},
   "cell_type": "markdown",
   "metadata": {},
   "source": [
    "Load both dataset and the set difference of previous selected works, then "
   ]
  },
  {
   "cell_type": "code",
   "execution_count": 6,
   "metadata": {},
   "outputs": [],
   "source": [
    "# os.chdir('..')"
   ]
  },
  {
   "cell_type": "code",
   "execution_count": 2,
   "metadata": {},
   "outputs": [],
   "source": [
    "df_ff = U.load_file('data_vFF.pkl', 'pkl', config['DATADIR'])"
   ]
  },
  {
   "cell_type": "code",
   "execution_count": 3,
   "metadata": {},
   "outputs": [],
   "source": [
    "df_ff = pd.DataFrame(df_ff)"
   ]
  },
  {
   "attachments": {},
   "cell_type": "markdown",
   "metadata": {},
   "source": [
    "Split data into sentence embeddings and author id"
   ]
  },
  {
   "cell_type": "code",
   "execution_count": 4,
   "metadata": {},
   "outputs": [],
   "source": [
    "baby_size = int(df_ff.author_id.nunique() * .1 // 1)\n",
    "baby_set = set(df_ff.author_id.sample(baby_size))\n",
    "baby_df = df_ff[df_ff.author_id.apply(lambda X: X in baby_set)]\n",
    "baby_df.to_csv('baby_data.csv', index = False)\n",
    "\n",
    "baby = baby_df.to_dict(orient='records')\n",
    "\n",
    "with open('data_vFFFF.pkl', 'wb') as f:\n",
    "    pkl.dump(baby, f)"
   ]
  },
  {
   "cell_type": "code",
   "execution_count": 5,
   "metadata": {},
   "outputs": [
    {
     "data": {
      "text/plain": [
       "array([ 2210,  5049,   735,  1252,  5162,  4102,   188,   972,  2384,\n",
       "         406,  5368,  1208,  1082,  5101,  7850, 21042,    92,  2881,\n",
       "        2376,  3948,   562,   163, 10609,  5214,  4077, 15815,   190,\n",
       "        6001,  4356,  5722,  1775,  4626,  1306,  6099,  1591,  1029,\n",
       "        6262,  4224, 10984,  4618,  2974,  1609, 10482,  5259, 14454,\n",
       "        2174,  8010,  1644, 25006,  3214,  3671,  2526, 16731,  2482,\n",
       "        4872,  9803])"
      ]
     },
     "execution_count": 5,
     "metadata": {},
     "output_type": "execute_result"
    }
   ],
   "source": [
    "len(baby_df)"
   ]
  },
  {
   "cell_type": "code",
   "execution_count": 10,
   "metadata": {},
   "outputs": [
    {
     "ename": "NameError",
     "evalue": "name 'X_train' is not defined",
     "output_type": "error",
     "traceback": [
      "\u001b[0;31m---------------------------------------------------------------------------\u001b[0m",
      "\u001b[0;31mNameError\u001b[0m                                 Traceback (most recent call last)",
      "Cell \u001b[0;32mIn[10], line 1\u001b[0m\n\u001b[0;32m----> 1\u001b[0m pd\u001b[39m.\u001b[39mDataFrame(X_train, y_train)\n",
      "\u001b[0;31mNameError\u001b[0m: name 'X_train' is not defined"
     ]
    }
   ],
   "source": [
    "pd.DataFrame(X_train, y_train)"
   ]
  },
  {
   "cell_type": "code",
   "execution_count": null,
   "metadata": {},
   "outputs": [
    {
     "data": {
      "text/html": [
       "<div>\n",
       "<style scoped>\n",
       "    .dataframe tbody tr th:only-of-type {\n",
       "        vertical-align: middle;\n",
       "    }\n",
       "\n",
       "    .dataframe tbody tr th {\n",
       "        vertical-align: top;\n",
       "    }\n",
       "\n",
       "    .dataframe thead th {\n",
       "        text-align: right;\n",
       "    }\n",
       "</style>\n",
       "<table border=\"1\" class=\"dataframe\">\n",
       "  <thead>\n",
       "    <tr style=\"text-align: right;\">\n",
       "      <th></th>\n",
       "      <th>Unnamed: 0</th>\n",
       "      <th>id</th>\n",
       "      <th>title</th>\n",
       "      <th>author</th>\n",
       "      <th>authoryearofbirth</th>\n",
       "      <th>authoryearofdeath</th>\n",
       "      <th>language</th>\n",
       "      <th>downloads</th>\n",
       "      <th>subjects</th>\n",
       "      <th>type</th>\n",
       "      <th>subject_set</th>\n",
       "      <th>Sub_A</th>\n",
       "      <th>Sub_B</th>\n",
       "      <th>Sub_C</th>\n",
       "    </tr>\n",
       "  </thead>\n",
       "  <tbody>\n",
       "    <tr>\n",
       "      <th>7975</th>\n",
       "      <td>53938</td>\n",
       "      <td>PG53940</td>\n",
       "      <td>Haw-Ho-Noo; Or, Records of a Tourist</td>\n",
       "      <td>Lanman, Charles</td>\n",
       "      <td>1819.0</td>\n",
       "      <td>1895.0</td>\n",
       "      <td>['en']</td>\n",
       "      <td>3.0</td>\n",
       "      <td>{'Fishing -- North America', 'United States --...</td>\n",
       "      <td>Text</td>\n",
       "      <td>['Description and travel', 'North America', 'F...</td>\n",
       "      <td>Description and travel</td>\n",
       "      <td>North America</td>\n",
       "      <td>Fishing</td>\n",
       "    </tr>\n",
       "  </tbody>\n",
       "</table>\n",
       "</div>"
      ],
      "text/plain": [
       "      Unnamed: 0       id                                 title  \\\n",
       "7975       53938  PG53940  Haw-Ho-Noo; Or, Records of a Tourist   \n",
       "\n",
       "               author  authoryearofbirth  authoryearofdeath language  \\\n",
       "7975  Lanman, Charles             1819.0             1895.0   ['en']   \n",
       "\n",
       "      downloads                                           subjects  type  \\\n",
       "7975        3.0  {'Fishing -- North America', 'United States --...  Text   \n",
       "\n",
       "                                            subject_set  \\\n",
       "7975  ['Description and travel', 'North America', 'F...   \n",
       "\n",
       "                       Sub_A          Sub_B    Sub_C  \n",
       "7975  Description and travel  North America  Fishing  "
      ]
     },
     "execution_count": 15,
     "metadata": {},
     "output_type": "execute_result"
    }
   ],
   "source": [
    "seed_works[seed_works['id'] == 'PG53940']"
   ]
  },
  {
   "cell_type": "code",
   "execution_count": null,
   "metadata": {},
   "outputs": [],
   "source": [
    "for_merge = seed_works[['id', 'authoryearofbirth', 'authoryearofdeath', 'downloads', 'subject_set', 'Sub_A', 'Sub_B', 'Sub_C']]"
   ]
  },
  {
   "cell_type": "code",
   "execution_count": null,
   "metadata": {},
   "outputs": [],
   "source": [
    "ff_df_null = ff_df[ff_df.authoryearofbirth.isna()]\n",
    "ff_df = ff_df[~ff_df.authoryearofbirth.isna()]\n",
    "\n",
    "ff_df_null = ff_df_null[['author_id', 'author_name', 'book_id', 'gutenbergbookid', 'title',\n",
    "       'text', 'text_lines']]\n",
    "null_values = ff_df_null.merge(for_merge, left_on='book_id', right_on = 'id')\n",
    "null_values['topic'] = null_values['Sub_A']"
   ]
  },
  {
   "cell_type": "code",
   "execution_count": null,
   "metadata": {},
   "outputs": [],
   "source": [
    "ff_df = pd.concat((ff_df, ff_df_null))"
   ]
  },
  {
   "attachments": {},
   "cell_type": "markdown",
   "metadata": {},
   "source": [
    "Unique works for each of the three datasets:"
   ]
  },
  {
   "cell_type": "code",
   "execution_count": null,
   "metadata": {},
   "outputs": [
    {
     "data": {
      "text/plain": [
       "6424"
      ]
     },
     "execution_count": 40,
     "metadata": {},
     "output_type": "execute_result"
    }
   ],
   "source": [
    "\n",
    "len(local_df.book_id.unique())\n",
    "# len(final_df.book_id.unique())\n",
    "len(ff_df.book_id.unique())\n"
   ]
  },
  {
   "attachments": {},
   "cell_type": "markdown",
   "metadata": {},
   "source": [
    "Because the final_df has a lot of text from non-English languages, I have decided to proceed as follows:\n",
    "* Our overall dataset will be the `ff_df` object, corresponding to the `data_vFF.pkl` file. The filtering for this file was the most stringent.\n",
    "* We will use the works not included in `ff_df`, but in `local_df`, as the training corpus for our word embeddings"
   ]
  },
  {
   "cell_type": "code",
   "execution_count": null,
   "metadata": {},
   "outputs": [],
   "source": [
    "local_df['str_text_lines'] = local_df['text_lines'].apply(str)\n",
    "local_df['passage_key'] = local_df['gutenbergbookid'] + '_' + local_df['str_text_lines']\n",
    "\n",
    "ff_df['str_text_lines'] = ff_df['text_lines'].apply(str)\n",
    "ff_df['passage_key'] = ff_df['gutenbergbookid'] + '_' + ff_df['str_text_lines']\n"
   ]
  },
  {
   "cell_type": "code",
   "execution_count": null,
   "metadata": {},
   "outputs": [],
   "source": [
    "dataset_passages = list(ff_df.passage_key.unique())"
   ]
  },
  {
   "cell_type": "code",
   "execution_count": null,
   "metadata": {},
   "outputs": [],
   "source": [
    "ldf_index = local_df.set_index('passage_key').index\n",
    "ff_index = ff_df.set_index('passage_key').index\n",
    "corpus_index = ldf_index.difference(ff_index)"
   ]
  },
  {
   "cell_type": "code",
   "execution_count": null,
   "metadata": {},
   "outputs": [],
   "source": [
    "local_df_idx = local_df.set_index('passage_key')\n",
    "corpus_df = local_df_idx.loc[corpus_index].reset_index()"
   ]
  },
  {
   "cell_type": "code",
   "execution_count": null,
   "metadata": {},
   "outputs": [],
   "source": [
    "corpus_df['joined_text'] = corpus_df.text.apply(' '.join)"
   ]
  },
  {
   "cell_type": "code",
   "execution_count": null,
   "metadata": {},
   "outputs": [],
   "source": [
    "corpus_text = \" \".join(corpus_df.joined_text)"
   ]
  },
  {
   "cell_type": "code",
   "execution_count": null,
   "metadata": {},
   "outputs": [],
   "source": [
    "with open('corpus_text.txt', 'w') as f:\n",
    "    f.write(corpus_text)"
   ]
  },
  {
   "cell_type": "code",
   "execution_count": null,
   "metadata": {},
   "outputs": [],
   "source": [
    "os.chdir(config['REPODIR'])"
   ]
  },
  {
   "cell_type": "code",
   "execution_count": null,
   "metadata": {},
   "outputs": [],
   "source": []
  },
  {
   "cell_type": "code",
   "execution_count": null,
   "metadata": {},
   "outputs": [
    {
     "ename": "TypeError",
     "evalue": "file must have a 'write' attribute",
     "output_type": "error",
     "traceback": [
      "\u001b[0;31m---------------------------------------------------------------------------\u001b[0m",
      "\u001b[0;31mTypeError\u001b[0m                                 Traceback (most recent call last)",
      "Cell \u001b[0;32mIn[56], line 2\u001b[0m\n\u001b[1;32m      1\u001b[0m ff_out \u001b[39m=\u001b[39m ff_df\u001b[39m.\u001b[39mto_dict(orient\u001b[39m=\u001b[39m\u001b[39m'\u001b[39m\u001b[39mrecords\u001b[39m\u001b[39m'\u001b[39m)\n\u001b[0;32m----> 2\u001b[0m U\u001b[39m.\u001b[39;49mwrite_file(ff_out, \u001b[39m'\u001b[39;49m\u001b[39mdata_vFF.pkl\u001b[39;49m\u001b[39m'\u001b[39;49m, \u001b[39m'\u001b[39;49m\u001b[39mpkl\u001b[39;49m\u001b[39m'\u001b[39;49m, config[\u001b[39m'\u001b[39;49m\u001b[39mDATADIR\u001b[39;49m\u001b[39m'\u001b[39;49m])\n",
      "File \u001b[0;32m~/Desktop/Winter 2023/SI 699/SI699Project/Utils.py:46\u001b[0m, in \u001b[0;36mwrite_file\u001b[0;34m(file, filename, format, filedir)\u001b[0m\n\u001b[1;32m     44\u001b[0m \u001b[39melif\u001b[39;00m \u001b[39mformat\u001b[39m \u001b[39m==\u001b[39m \u001b[39m'\u001b[39m\u001b[39mpkl\u001b[39m\u001b[39m'\u001b[39m:\n\u001b[1;32m     45\u001b[0m     \u001b[39mwith\u001b[39;00m \u001b[39mopen\u001b[39m(filename, \u001b[39m'\u001b[39m\u001b[39mwb\u001b[39m\u001b[39m'\u001b[39m) \u001b[39mas\u001b[39;00m f:\n\u001b[0;32m---> 46\u001b[0m         pkl\u001b[39m.\u001b[39;49mdump(f, file)\n\u001b[1;32m     47\u001b[0m os\u001b[39m.\u001b[39mchdir(cwd)\n",
      "\u001b[0;31mTypeError\u001b[0m: file must have a 'write' attribute"
     ]
    }
   ],
   "source": [
    "ff_out = ff_df.to_dict(orient='records')\n",
    "U.write_file(ff_out, 'data_vFF.pkl', 'pkl', config['DATADIR'])"
   ]
  }
 ],
 "metadata": {
  "kernelspec": {
   "display_name": "Python 3.8.8 ('base')",
   "language": "python",
   "name": "python3"
  },
  "language_info": {
   "codemirror_mode": {
    "name": "ipython",
    "version": 3
   },
   "file_extension": ".py",
   "mimetype": "text/x-python",
   "name": "python",
   "nbconvert_exporter": "python",
   "pygments_lexer": "ipython3",
   "version": "3.9.16"
  },
  "orig_nbformat": 4,
  "vscode": {
   "interpreter": {
    "hash": "ad2bdc8ecc057115af97d19610ffacc2b4e99fae6737bb82f5d7fb13d2f2c186"
   }
  }
 },
 "nbformat": 4,
 "nbformat_minor": 2
}
