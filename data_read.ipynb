{
 "cells": [
  {
   "cell_type": "code",
   "execution_count": 125,
   "metadata": {
    "collapsed": true
   },
   "outputs": [
    {
     "data": {
      "text/plain": "   author_id            author_name  book_id  gutenbergbookid  \\\n0       5959  Sharkey, John Michael     3670            33871   \n1       5959  Sharkey, John Michael     3670            33871   \n2       5959  Sharkey, John Michael     3670            33871   \n3       5959  Sharkey, John Michael     3670            33871   \n4       5959  Sharkey, John Michael     3670            33871   \n\n                      title  \\\n0  Old Friends Are the Best   \n1  Old Friends Are the Best   \n2  Old Friends Are the Best   \n3  Old Friends Are the Best   \n4  Old Friends Are the Best   \n\n                                                text  text_lines  \\\n0  ['', '', '', 'CHAPTER VIII.', '', 'JAMES TRIPL...        3693   \n1  ['life;\" and her shoulders went up to her ears...        1643   \n2  ['various talents, and are come to make a dema...        4143   \n3  ['would be a lasting discredit,\" she continued...        3393   \n4  ['homely which he invented in our first chapte...        2693   \n\n                                subjects  \n0  ['Science fiction', ' Short stories']  \n1  ['Science fiction', ' Short stories']  \n2  ['Science fiction', ' Short stories']  \n3  ['Science fiction', ' Short stories']  \n4  ['Science fiction', ' Short stories']  ",
      "text/html": "<div>\n<style scoped>\n    .dataframe tbody tr th:only-of-type {\n        vertical-align: middle;\n    }\n\n    .dataframe tbody tr th {\n        vertical-align: top;\n    }\n\n    .dataframe thead th {\n        text-align: right;\n    }\n</style>\n<table border=\"1\" class=\"dataframe\">\n  <thead>\n    <tr style=\"text-align: right;\">\n      <th></th>\n      <th>author_id</th>\n      <th>author_name</th>\n      <th>book_id</th>\n      <th>gutenbergbookid</th>\n      <th>title</th>\n      <th>text</th>\n      <th>text_lines</th>\n      <th>subjects</th>\n    </tr>\n  </thead>\n  <tbody>\n    <tr>\n      <th>0</th>\n      <td>5959</td>\n      <td>Sharkey, John Michael</td>\n      <td>3670</td>\n      <td>33871</td>\n      <td>Old Friends Are the Best</td>\n      <td>['', '', '', 'CHAPTER VIII.', '', 'JAMES TRIPL...</td>\n      <td>3693</td>\n      <td>['Science fiction', ' Short stories']</td>\n    </tr>\n    <tr>\n      <th>1</th>\n      <td>5959</td>\n      <td>Sharkey, John Michael</td>\n      <td>3670</td>\n      <td>33871</td>\n      <td>Old Friends Are the Best</td>\n      <td>['life;\" and her shoulders went up to her ears...</td>\n      <td>1643</td>\n      <td>['Science fiction', ' Short stories']</td>\n    </tr>\n    <tr>\n      <th>2</th>\n      <td>5959</td>\n      <td>Sharkey, John Michael</td>\n      <td>3670</td>\n      <td>33871</td>\n      <td>Old Friends Are the Best</td>\n      <td>['various talents, and are come to make a dema...</td>\n      <td>4143</td>\n      <td>['Science fiction', ' Short stories']</td>\n    </tr>\n    <tr>\n      <th>3</th>\n      <td>5959</td>\n      <td>Sharkey, John Michael</td>\n      <td>3670</td>\n      <td>33871</td>\n      <td>Old Friends Are the Best</td>\n      <td>['would be a lasting discredit,\" she continued...</td>\n      <td>3393</td>\n      <td>['Science fiction', ' Short stories']</td>\n    </tr>\n    <tr>\n      <th>4</th>\n      <td>5959</td>\n      <td>Sharkey, John Michael</td>\n      <td>3670</td>\n      <td>33871</td>\n      <td>Old Friends Are the Best</td>\n      <td>['homely which he invented in our first chapte...</td>\n      <td>2693</td>\n      <td>['Science fiction', ' Short stories']</td>\n    </tr>\n  </tbody>\n</table>\n</div>"
     },
     "execution_count": 125,
     "metadata": {},
     "output_type": "execute_result"
    }
   ],
   "source": [
    "import pandas as pd\n",
    "import string\n",
    "import pickle as pkl\n",
    "\n",
    "\n",
    "df = pd.read_csv(\"data_w_subj.csv\",index_col=0)\n",
    "df.head()\n",
    "\n"
   ]
  },
  {
   "cell_type": "code",
   "execution_count": 128,
   "outputs": [
    {
     "name": "stderr",
     "output_type": "stream",
     "text": [
      "/var/folders/85/r09_fk416jl6_f2ypbf46jc40000gn/T/ipykernel_45632/4025868173.py:2: FutureWarning: The default value of regex will change from True to False in a future version.\n",
      "  df[\"text\"] = df[\"text\"].str.replace('[{}]'.format(string.punctuation), '')\n"
     ]
    }
   ],
   "source": [
    "# Remove punctuation from \"text\" column\n",
    "df[\"text\"] = df[\"text\"].str.replace('[{}]'.format(string.punctuation), '')\n",
    "\n",
    "# Display updated DataFrame\n",
    "df.head(50)\n",
    "\n",
    "with open(\"data.pkl\", \"rb\") as f:\n",
    "    pickle_data = pkl.load(f)\n"
   ],
   "metadata": {
    "collapsed": false
   }
  },
  {
   "cell_type": "code",
   "execution_count": 108,
   "outputs": [
    {
     "data": {
      "text/plain": "Index(['author_id', 'author_name', 'book_id', 'gutenbergbookid', 'title',\n       'text', 'text_lines', 'subjects'],\n      dtype='object')"
     },
     "execution_count": 108,
     "metadata": {},
     "output_type": "execute_result"
    }
   ],
   "source": [
    "df.columns"
   ],
   "metadata": {
    "collapsed": false
   }
  },
  {
   "cell_type": "code",
   "execution_count": 109,
   "outputs": [],
   "source": [
    "# # Remove \"Unnamed: 0\" and \"text_lines\" columns\n",
    "# df1=df.drop(['Unnamed: 0', 'text_lines'], axis=1)\n",
    "# df1"
   ],
   "metadata": {
    "collapsed": false
   }
  },
  {
   "cell_type": "code",
   "execution_count": 110,
   "outputs": [
    {
     "data": {
      "text/plain": "     book_id  author_id                                      author_name  \\\n0       1107       2254                              Eastman, Charles A.   \n1       1217       2433       Aubigné, J. H. Merle d' (Jean Henri Merle)   \n2       1658       3115                                 Coppée, François   \n3       1927       3459                      Lantz, D. E. (David Ernest)   \n4       2000       3554                               Parrott, J. Edward   \n..       ...        ...                                              ...   \n246    69150      16267  Budge, E. A. Wallis (Ernest Alfred Wallis), Sir   \n247    69582       2433       Aubigné, J. H. Merle d' (Jean Henri Merle)   \n248    69954      14477                            Dowling, R. (Richard)   \n249    69981       4574                            Whishaw, Frederick J.   \n250    70134      11563                    Child, L. Maria (Lydia Maria)   \n\n     gutenbergbookid                                              title  \\\n0                336                 Indian Heroes and Great Chieftains   \n1              40971  History of the Great Reformation of the Sixtee...   \n2               3962                      A Romance of Youth — Complete   \n3              35542                                House Rats and Mice   \n4              35314  The Childrens' Story of the War, Volume 2 (of ...   \n..               ...                                                ...   \n246             9411  Legends of the Gods\\r\\nThe Egyptian Texts, edi...   \n247            61277  History of the Reformation in Europe in the Ti...   \n248            42496                Miracle Gold: A Novel (Vol. 2 of 3)   \n249            36341  Gunpowder Treason and Plot, and Other Stories ...   \n250            38479                                The Freedmen's Book   \n\n                                              subjects  \\\n0    ['Heroes', ' Indians of North America -- Biogr...   \n1                                      ['Reformation']   \n2    ['Paris (France) -- Fiction', ' French fiction...   \n3                                    ['Mice', ' Rats']   \n4      ['World War, 1914-1918 -- Juvenile literature']   \n..                                                 ...   \n246  ['Egyptian literature -- Translations into Eng...   \n247                                    ['Reformation']   \n248                                        ['Fiction']   \n249  ['Short stories', \" Children's stories\", ' Adv...   \n250  ['African Americans', ' African Americans -- B...   \n\n                                                  text  \n0        I will to Venice Sunday comes apace     We...  \n1    leads seductively to the farmsteadin or we fel...  \n2    not deceive you as well as myself in my enthus...  \n3     The affair was settled The young people parte...  \n4    de viejo y de manco como si hubiera sido en mi...  \n..                                                 ...  \n246  settlement with a destiny of greatness here in...  \n247      “September 22—The walls are mounted with c...  \n248  that of his father who wholly unmanned at the ...  \n249  famiglia di esso97  Sisto IV riuscì ancora a r...  \n250  refrain from thanksgiving that one perfect typ...  \n\n[251 rows x 7 columns]",
      "text/html": "<div>\n<style scoped>\n    .dataframe tbody tr th:only-of-type {\n        vertical-align: middle;\n    }\n\n    .dataframe tbody tr th {\n        vertical-align: top;\n    }\n\n    .dataframe thead th {\n        text-align: right;\n    }\n</style>\n<table border=\"1\" class=\"dataframe\">\n  <thead>\n    <tr style=\"text-align: right;\">\n      <th></th>\n      <th>book_id</th>\n      <th>author_id</th>\n      <th>author_name</th>\n      <th>gutenbergbookid</th>\n      <th>title</th>\n      <th>subjects</th>\n      <th>text</th>\n    </tr>\n  </thead>\n  <tbody>\n    <tr>\n      <th>0</th>\n      <td>1107</td>\n      <td>2254</td>\n      <td>Eastman, Charles A.</td>\n      <td>336</td>\n      <td>Indian Heroes and Great Chieftains</td>\n      <td>['Heroes', ' Indians of North America -- Biogr...</td>\n      <td>I will to Venice Sunday comes apace     We...</td>\n    </tr>\n    <tr>\n      <th>1</th>\n      <td>1217</td>\n      <td>2433</td>\n      <td>Aubigné, J. H. Merle d' (Jean Henri Merle)</td>\n      <td>40971</td>\n      <td>History of the Great Reformation of the Sixtee...</td>\n      <td>['Reformation']</td>\n      <td>leads seductively to the farmsteadin or we fel...</td>\n    </tr>\n    <tr>\n      <th>2</th>\n      <td>1658</td>\n      <td>3115</td>\n      <td>Coppée, François</td>\n      <td>3962</td>\n      <td>A Romance of Youth — Complete</td>\n      <td>['Paris (France) -- Fiction', ' French fiction...</td>\n      <td>not deceive you as well as myself in my enthus...</td>\n    </tr>\n    <tr>\n      <th>3</th>\n      <td>1927</td>\n      <td>3459</td>\n      <td>Lantz, D. E. (David Ernest)</td>\n      <td>35542</td>\n      <td>House Rats and Mice</td>\n      <td>['Mice', ' Rats']</td>\n      <td>The affair was settled The young people parte...</td>\n    </tr>\n    <tr>\n      <th>4</th>\n      <td>2000</td>\n      <td>3554</td>\n      <td>Parrott, J. Edward</td>\n      <td>35314</td>\n      <td>The Childrens' Story of the War, Volume 2 (of ...</td>\n      <td>['World War, 1914-1918 -- Juvenile literature']</td>\n      <td>de viejo y de manco como si hubiera sido en mi...</td>\n    </tr>\n    <tr>\n      <th>...</th>\n      <td>...</td>\n      <td>...</td>\n      <td>...</td>\n      <td>...</td>\n      <td>...</td>\n      <td>...</td>\n      <td>...</td>\n    </tr>\n    <tr>\n      <th>246</th>\n      <td>69150</td>\n      <td>16267</td>\n      <td>Budge, E. A. Wallis (Ernest Alfred Wallis), Sir</td>\n      <td>9411</td>\n      <td>Legends of the Gods\\r\\nThe Egyptian Texts, edi...</td>\n      <td>['Egyptian literature -- Translations into Eng...</td>\n      <td>settlement with a destiny of greatness here in...</td>\n    </tr>\n    <tr>\n      <th>247</th>\n      <td>69582</td>\n      <td>2433</td>\n      <td>Aubigné, J. H. Merle d' (Jean Henri Merle)</td>\n      <td>61277</td>\n      <td>History of the Reformation in Europe in the Ti...</td>\n      <td>['Reformation']</td>\n      <td>“September 22—The walls are mounted with c...</td>\n    </tr>\n    <tr>\n      <th>248</th>\n      <td>69954</td>\n      <td>14477</td>\n      <td>Dowling, R. (Richard)</td>\n      <td>42496</td>\n      <td>Miracle Gold: A Novel (Vol. 2 of 3)</td>\n      <td>['Fiction']</td>\n      <td>that of his father who wholly unmanned at the ...</td>\n    </tr>\n    <tr>\n      <th>249</th>\n      <td>69981</td>\n      <td>4574</td>\n      <td>Whishaw, Frederick J.</td>\n      <td>36341</td>\n      <td>Gunpowder Treason and Plot, and Other Stories ...</td>\n      <td>['Short stories', \" Children's stories\", ' Adv...</td>\n      <td>famiglia di esso97  Sisto IV riuscì ancora a r...</td>\n    </tr>\n    <tr>\n      <th>250</th>\n      <td>70134</td>\n      <td>11563</td>\n      <td>Child, L. Maria (Lydia Maria)</td>\n      <td>38479</td>\n      <td>The Freedmen's Book</td>\n      <td>['African Americans', ' African Americans -- B...</td>\n      <td>refrain from thanksgiving that one perfect typ...</td>\n    </tr>\n  </tbody>\n</table>\n<p>251 rows × 7 columns</p>\n</div>"
     },
     "execution_count": 110,
     "metadata": {},
     "output_type": "execute_result"
    }
   ],
   "source": [
    "\n",
    "# Group by book id and concatenate text column\n",
    "df2 = df1.groupby(['book_id', 'author_id', 'author_name', 'gutenbergbookid', 'title', 'subjects'])['text'].apply(' '.join).reset_index()\n",
    "\n",
    "# Display DataFrame\n",
    "df2.to_csv('data_merge.csv',index=False)\n",
    "df2"
   ],
   "metadata": {
    "collapsed": false
   }
  },
  {
   "cell_type": "code",
   "execution_count": 111,
   "outputs": [
    {
     "data": {
      "text/plain": "Index(['book_id', 'author_id', 'author_name', 'gutenbergbookid', 'title',\n       'subjects', 'text'],\n      dtype='object')"
     },
     "execution_count": 111,
     "metadata": {},
     "output_type": "execute_result"
    }
   ],
   "source": [
    "df2.columns"
   ],
   "metadata": {
    "collapsed": false
   }
  },
  {
   "cell_type": "code",
   "execution_count": 112,
   "outputs": [],
   "source": [
    "# import nltk\n",
    "#\n",
    "# nltk.download('punkt')\n"
   ],
   "metadata": {
    "collapsed": false
   }
  },
  {
   "cell_type": "code",
   "execution_count": 113,
   "outputs": [
    {
     "data": {
      "text/plain": "     book_id  author_id                                      author_name  \\\n0       1107       2254                              Eastman, Charles A.   \n1       1217       2433       Aubigné, J. H. Merle d' (Jean Henri Merle)   \n2       1658       3115                                 Coppée, François   \n3       1927       3459                      Lantz, D. E. (David Ernest)   \n4       2000       3554                               Parrott, J. Edward   \n..       ...        ...                                              ...   \n246    69150      16267  Budge, E. A. Wallis (Ernest Alfred Wallis), Sir   \n247    69582       2433       Aubigné, J. H. Merle d' (Jean Henri Merle)   \n248    69954      14477                            Dowling, R. (Richard)   \n249    69981       4574                            Whishaw, Frederick J.   \n250    70134      11563                    Child, L. Maria (Lydia Maria)   \n\n     gutenbergbookid                                              title  \\\n0                336                 Indian Heroes and Great Chieftains   \n1              40971  History of the Great Reformation of the Sixtee...   \n2               3962                      A Romance of Youth — Complete   \n3              35542                                House Rats and Mice   \n4              35314  The Childrens' Story of the War, Volume 2 (of ...   \n..               ...                                                ...   \n246             9411  Legends of the Gods\\r\\nThe Egyptian Texts, edi...   \n247            61277  History of the Reformation in Europe in the Ti...   \n248            42496                Miracle Gold: A Novel (Vol. 2 of 3)   \n249            36341  Gunpowder Treason and Plot, and Other Stories ...   \n250            38479                                The Freedmen's Book   \n\n                                              subjects  \\\n0    ['Heroes', ' Indians of North America -- Biogr...   \n1                                      ['Reformation']   \n2    ['Paris (France) -- Fiction', ' French fiction...   \n3                                    ['Mice', ' Rats']   \n4      ['World War, 1914-1918 -- Juvenile literature']   \n..                                                 ...   \n246  ['Egyptian literature -- Translations into Eng...   \n247                                    ['Reformation']   \n248                                        ['Fiction']   \n249  ['Short stories', \" Children's stories\", ' Adv...   \n250  ['African Americans', ' African Americans -- B...   \n\n                                                  text  \n0        I will to Venice Sunday comes apace     We...  \n1    leads seductively to the farmsteadin or we fel...  \n2    not deceive you as well as myself in my enthus...  \n3     The affair was settled The young people parte...  \n4    de viejo y de manco como si hubiera sido en mi...  \n..                                                 ...  \n246  settlement with a destiny of greatness here in...  \n247      “September 22—The walls are mounted with c...  \n248  that of his father who wholly unmanned at the ...  \n249  famiglia di esso97  Sisto IV riuscì ancora a r...  \n250  refrain from thanksgiving that one perfect typ...  \n\n[251 rows x 7 columns]",
      "text/html": "<div>\n<style scoped>\n    .dataframe tbody tr th:only-of-type {\n        vertical-align: middle;\n    }\n\n    .dataframe tbody tr th {\n        vertical-align: top;\n    }\n\n    .dataframe thead th {\n        text-align: right;\n    }\n</style>\n<table border=\"1\" class=\"dataframe\">\n  <thead>\n    <tr style=\"text-align: right;\">\n      <th></th>\n      <th>book_id</th>\n      <th>author_id</th>\n      <th>author_name</th>\n      <th>gutenbergbookid</th>\n      <th>title</th>\n      <th>subjects</th>\n      <th>text</th>\n    </tr>\n  </thead>\n  <tbody>\n    <tr>\n      <th>0</th>\n      <td>1107</td>\n      <td>2254</td>\n      <td>Eastman, Charles A.</td>\n      <td>336</td>\n      <td>Indian Heroes and Great Chieftains</td>\n      <td>['Heroes', ' Indians of North America -- Biogr...</td>\n      <td>I will to Venice Sunday comes apace     We...</td>\n    </tr>\n    <tr>\n      <th>1</th>\n      <td>1217</td>\n      <td>2433</td>\n      <td>Aubigné, J. H. Merle d' (Jean Henri Merle)</td>\n      <td>40971</td>\n      <td>History of the Great Reformation of the Sixtee...</td>\n      <td>['Reformation']</td>\n      <td>leads seductively to the farmsteadin or we fel...</td>\n    </tr>\n    <tr>\n      <th>2</th>\n      <td>1658</td>\n      <td>3115</td>\n      <td>Coppée, François</td>\n      <td>3962</td>\n      <td>A Romance of Youth — Complete</td>\n      <td>['Paris (France) -- Fiction', ' French fiction...</td>\n      <td>not deceive you as well as myself in my enthus...</td>\n    </tr>\n    <tr>\n      <th>3</th>\n      <td>1927</td>\n      <td>3459</td>\n      <td>Lantz, D. E. (David Ernest)</td>\n      <td>35542</td>\n      <td>House Rats and Mice</td>\n      <td>['Mice', ' Rats']</td>\n      <td>The affair was settled The young people parte...</td>\n    </tr>\n    <tr>\n      <th>4</th>\n      <td>2000</td>\n      <td>3554</td>\n      <td>Parrott, J. Edward</td>\n      <td>35314</td>\n      <td>The Childrens' Story of the War, Volume 2 (of ...</td>\n      <td>['World War, 1914-1918 -- Juvenile literature']</td>\n      <td>de viejo y de manco como si hubiera sido en mi...</td>\n    </tr>\n    <tr>\n      <th>...</th>\n      <td>...</td>\n      <td>...</td>\n      <td>...</td>\n      <td>...</td>\n      <td>...</td>\n      <td>...</td>\n      <td>...</td>\n    </tr>\n    <tr>\n      <th>246</th>\n      <td>69150</td>\n      <td>16267</td>\n      <td>Budge, E. A. Wallis (Ernest Alfred Wallis), Sir</td>\n      <td>9411</td>\n      <td>Legends of the Gods\\r\\nThe Egyptian Texts, edi...</td>\n      <td>['Egyptian literature -- Translations into Eng...</td>\n      <td>settlement with a destiny of greatness here in...</td>\n    </tr>\n    <tr>\n      <th>247</th>\n      <td>69582</td>\n      <td>2433</td>\n      <td>Aubigné, J. H. Merle d' (Jean Henri Merle)</td>\n      <td>61277</td>\n      <td>History of the Reformation in Europe in the Ti...</td>\n      <td>['Reformation']</td>\n      <td>“September 22—The walls are mounted with c...</td>\n    </tr>\n    <tr>\n      <th>248</th>\n      <td>69954</td>\n      <td>14477</td>\n      <td>Dowling, R. (Richard)</td>\n      <td>42496</td>\n      <td>Miracle Gold: A Novel (Vol. 2 of 3)</td>\n      <td>['Fiction']</td>\n      <td>that of his father who wholly unmanned at the ...</td>\n    </tr>\n    <tr>\n      <th>249</th>\n      <td>69981</td>\n      <td>4574</td>\n      <td>Whishaw, Frederick J.</td>\n      <td>36341</td>\n      <td>Gunpowder Treason and Plot, and Other Stories ...</td>\n      <td>['Short stories', \" Children's stories\", ' Adv...</td>\n      <td>famiglia di esso97  Sisto IV riuscì ancora a r...</td>\n    </tr>\n    <tr>\n      <th>250</th>\n      <td>70134</td>\n      <td>11563</td>\n      <td>Child, L. Maria (Lydia Maria)</td>\n      <td>38479</td>\n      <td>The Freedmen's Book</td>\n      <td>['African Americans', ' African Americans -- B...</td>\n      <td>refrain from thanksgiving that one perfect typ...</td>\n    </tr>\n  </tbody>\n</table>\n<p>251 rows × 7 columns</p>\n</div>"
     },
     "execution_count": 113,
     "metadata": {},
     "output_type": "execute_result"
    }
   ],
   "source": [
    "# Load CSV file\n",
    "df = pd.read_csv('data_merge.csv')\n",
    "df"
   ],
   "metadata": {
    "collapsed": false
   }
  },
  {
   "cell_type": "code",
   "execution_count": 114,
   "outputs": [
    {
     "data": {
      "text/plain": "   book_id  author_id                                 author_name  \\\n0     1107       2254                         Eastman, Charles A.   \n1     1217       2433  Aubigné, J. H. Merle d' (Jean Henri Merle)   \n2     1658       3115                            Coppée, François   \n3     1927       3459                 Lantz, D. E. (David Ernest)   \n4     2000       3554                          Parrott, J. Edward   \n5     2532       4395                           Robins, Elizabeth   \n6     2760       4711  Hoffmann, E. T. A. (Ernst Theodor Amadeus)   \n7     2804       3459                 Lantz, D. E. (David Ernest)   \n8     3022       5061                            Elliott, William   \n9     3670       5959                       Sharkey, John Michael   \n\n   gutenbergbookid                                              title  \\\n0              336                 Indian Heroes and Great Chieftains   \n1            40971  History of the Great Reformation of the Sixtee...   \n2             3962                      A Romance of Youth — Complete   \n3            35542                                House Rats and Mice   \n4            35314  The Childrens' Story of the War, Volume 2 (of ...   \n5            10038                                 The Magnetic North   \n6            31377                         Weird Tales. Vol. 1 (of 2)   \n7            34437                         Methods of Destroying Rats   \n8            64181                                      Rocket Summer   \n9            33871                           Old Friends Are the Best   \n\n                                            subjects  \\\n0  ['Heroes', ' Indians of North America -- Biogr...   \n1                                    ['Reformation']   \n2  ['Paris (France) -- Fiction', ' French fiction...   \n3                                  ['Mice', ' Rats']   \n4    ['World War, 1914-1918 -- Juvenile literature']   \n5                               ['Yukon -- Fiction']   \n6  ['Fantasy fiction, German -- Translations into...   \n7                                ['Rats -- Control']   \n8  ['Science fiction', ' Short stories', ' Space ...   \n9              ['Science fiction', ' Short stories']   \n\n                                                text  \\\n0      I will to Venice Sunday comes apace     We...   \n1  leads seductively to the farmsteadin or we fel...   \n2  not deceive you as well as myself in my enthus...   \n3   The affair was settled The young people parte...   \n4  de viejo y de manco como si hubiera sido en mi...   \n5  dark and gloomy enough but everything was so s...   \n6  become of the order I had just written for it ...   \n7  outgrow that sort of thing and are good fellow...   \n8  skeerce on our side Well have to begin buyin p...   \n9     CHAPTER VIII  JAMES TRIPLET water in his ey...   \n\n                                      text_tokenized  \n0  [I, will, to, Venice, Sunday, comes, apace, We...  \n1  [leads, seductively, to, the, farmsteadin, or,...  \n2  [not, deceive, you, as, well, as, myself, in, ...  \n3  [The, affair, was, settled, The, young, people...  \n4  [de, viejo, y, de, manco, como, si, hubiera, s...  \n5  [dark, and, gloomy, enough, but, everything, w...  \n6  [become, of, the, order, I, had, just, written...  \n7  [outgrow, that, sort, of, thing, and, are, goo...  \n8  [skeerce, on, our, side, Well, have, to, begin...  \n9  [CHAPTER, VIII, JAMES, TRIPLET, water, in, his...  ",
      "text/html": "<div>\n<style scoped>\n    .dataframe tbody tr th:only-of-type {\n        vertical-align: middle;\n    }\n\n    .dataframe tbody tr th {\n        vertical-align: top;\n    }\n\n    .dataframe thead th {\n        text-align: right;\n    }\n</style>\n<table border=\"1\" class=\"dataframe\">\n  <thead>\n    <tr style=\"text-align: right;\">\n      <th></th>\n      <th>book_id</th>\n      <th>author_id</th>\n      <th>author_name</th>\n      <th>gutenbergbookid</th>\n      <th>title</th>\n      <th>subjects</th>\n      <th>text</th>\n      <th>text_tokenized</th>\n    </tr>\n  </thead>\n  <tbody>\n    <tr>\n      <th>0</th>\n      <td>1107</td>\n      <td>2254</td>\n      <td>Eastman, Charles A.</td>\n      <td>336</td>\n      <td>Indian Heroes and Great Chieftains</td>\n      <td>['Heroes', ' Indians of North America -- Biogr...</td>\n      <td>I will to Venice Sunday comes apace     We...</td>\n      <td>[I, will, to, Venice, Sunday, comes, apace, We...</td>\n    </tr>\n    <tr>\n      <th>1</th>\n      <td>1217</td>\n      <td>2433</td>\n      <td>Aubigné, J. H. Merle d' (Jean Henri Merle)</td>\n      <td>40971</td>\n      <td>History of the Great Reformation of the Sixtee...</td>\n      <td>['Reformation']</td>\n      <td>leads seductively to the farmsteadin or we fel...</td>\n      <td>[leads, seductively, to, the, farmsteadin, or,...</td>\n    </tr>\n    <tr>\n      <th>2</th>\n      <td>1658</td>\n      <td>3115</td>\n      <td>Coppée, François</td>\n      <td>3962</td>\n      <td>A Romance of Youth — Complete</td>\n      <td>['Paris (France) -- Fiction', ' French fiction...</td>\n      <td>not deceive you as well as myself in my enthus...</td>\n      <td>[not, deceive, you, as, well, as, myself, in, ...</td>\n    </tr>\n    <tr>\n      <th>3</th>\n      <td>1927</td>\n      <td>3459</td>\n      <td>Lantz, D. E. (David Ernest)</td>\n      <td>35542</td>\n      <td>House Rats and Mice</td>\n      <td>['Mice', ' Rats']</td>\n      <td>The affair was settled The young people parte...</td>\n      <td>[The, affair, was, settled, The, young, people...</td>\n    </tr>\n    <tr>\n      <th>4</th>\n      <td>2000</td>\n      <td>3554</td>\n      <td>Parrott, J. Edward</td>\n      <td>35314</td>\n      <td>The Childrens' Story of the War, Volume 2 (of ...</td>\n      <td>['World War, 1914-1918 -- Juvenile literature']</td>\n      <td>de viejo y de manco como si hubiera sido en mi...</td>\n      <td>[de, viejo, y, de, manco, como, si, hubiera, s...</td>\n    </tr>\n    <tr>\n      <th>5</th>\n      <td>2532</td>\n      <td>4395</td>\n      <td>Robins, Elizabeth</td>\n      <td>10038</td>\n      <td>The Magnetic North</td>\n      <td>['Yukon -- Fiction']</td>\n      <td>dark and gloomy enough but everything was so s...</td>\n      <td>[dark, and, gloomy, enough, but, everything, w...</td>\n    </tr>\n    <tr>\n      <th>6</th>\n      <td>2760</td>\n      <td>4711</td>\n      <td>Hoffmann, E. T. A. (Ernst Theodor Amadeus)</td>\n      <td>31377</td>\n      <td>Weird Tales. Vol. 1 (of 2)</td>\n      <td>['Fantasy fiction, German -- Translations into...</td>\n      <td>become of the order I had just written for it ...</td>\n      <td>[become, of, the, order, I, had, just, written...</td>\n    </tr>\n    <tr>\n      <th>7</th>\n      <td>2804</td>\n      <td>3459</td>\n      <td>Lantz, D. E. (David Ernest)</td>\n      <td>34437</td>\n      <td>Methods of Destroying Rats</td>\n      <td>['Rats -- Control']</td>\n      <td>outgrow that sort of thing and are good fellow...</td>\n      <td>[outgrow, that, sort, of, thing, and, are, goo...</td>\n    </tr>\n    <tr>\n      <th>8</th>\n      <td>3022</td>\n      <td>5061</td>\n      <td>Elliott, William</td>\n      <td>64181</td>\n      <td>Rocket Summer</td>\n      <td>['Science fiction', ' Short stories', ' Space ...</td>\n      <td>skeerce on our side Well have to begin buyin p...</td>\n      <td>[skeerce, on, our, side, Well, have, to, begin...</td>\n    </tr>\n    <tr>\n      <th>9</th>\n      <td>3670</td>\n      <td>5959</td>\n      <td>Sharkey, John Michael</td>\n      <td>33871</td>\n      <td>Old Friends Are the Best</td>\n      <td>['Science fiction', ' Short stories']</td>\n      <td>CHAPTER VIII  JAMES TRIPLET water in his ey...</td>\n      <td>[CHAPTER, VIII, JAMES, TRIPLET, water, in, his...</td>\n    </tr>\n  </tbody>\n</table>\n</div>"
     },
     "execution_count": 114,
     "metadata": {},
     "output_type": "execute_result"
    }
   ],
   "source": [
    "import nltk\n",
    "# Tokenize the 'text' column using NLTK\n",
    "tokenizer = nltk.tokenize.word_tokenize\n",
    "df['text_tokenized'] = df['text'].apply(tokenizer)\n",
    "\n",
    "# Print the first 10 rows of the DataFrame with tokenized text\n",
    "\n",
    "df.to_csv('data_merge1.csv',index=False)\n",
    "df.head(10)"
   ],
   "metadata": {
    "collapsed": false
   }
  },
  {
   "cell_type": "code",
   "execution_count": 115,
   "outputs": [],
   "source": [
    "import pandas as pd\n",
    "import numpy as np\n",
    "import nltk\n",
    "from sklearn.model_selection import train_test_split\n",
    "from sklearn.feature_extraction.text import CountVectorizer\n",
    "import gensim\n",
    "from gensim import corpora, models"
   ],
   "metadata": {
    "collapsed": false
   }
  },
  {
   "cell_type": "code",
   "execution_count": 116,
   "outputs": [
    {
     "data": {
      "text/plain": "186    ['I', 'was', 'only', 'kinder', 'lookin\\\\', 'hi...\n29     ['companions', 'as', 'if', 'in', 'thus', 'witn...\n127    ['contribua', 'puissamment', 'à', 'développer'...\n142    ['But', 'never', 'a', 'one', 'forbade', 'the',...\n147    ['just', 'as', 'Christopher', 'opened', 'the',...\n                             ...                        \n106    ['Augusta', 'And', 'always', 'with', 'such', '...\n14     ['was', 'the', 'first', 'conscious', 'action',...\n92     ['to', 'me', 'and', 'perhaps', 'as', 'Gertrude...\n179    ['From', 'analogy', 'with', 'the', 'dimorphism...\n102    ['which', 'being', 'high', 'above', 'the', 'gr...\nName: text_tokenized, Length: 175, dtype: object"
     },
     "execution_count": 116,
     "metadata": {},
     "output_type": "execute_result"
    }
   ],
   "source": [
    "import pandas as pd\n",
    "from sklearn.model_selection import train_test_split\n",
    "\n",
    "# Load the CSV file into a DataFrame\n",
    "df = pd.read_csv('data_merge1.csv')\n",
    "\n",
    "# Split the 'text' column into  70% train set, 20% test set, and 10% validation set\n",
    "train_data, temp_data = train_test_split(df['text_tokenized'], test_size=0.3, random_state=42)\n",
    "test_data, val_data = train_test_split(temp_data, test_size=0.3333, random_state=42)\n",
    "\n",
    "# Check the sizes of the train, test, and validation sets\n",
    "# print(f'Train set size: {len(train_data)}')\n",
    "# print(f'Test set size: {len(test_data)}')\n",
    "# print(f'Validation set size: {len(val_data)}')\n",
    "train_data"
   ],
   "metadata": {
    "collapsed": false
   }
  },
  {
   "cell_type": "code",
   "execution_count": 117,
   "outputs": [
    {
     "name": "stdout",
     "output_type": "stream",
     "text": [
      "Topic 0: 0.059*\"the\" + 0.024*\"of\" + 0.020*\"and\" + 0.017*\"to\" + 0.012*\"in\" + 0.010*\"it\" + 0.010*\"was\" + 0.007*\"he\" + 0.007*\"that\" + 0.007*\"is\"\n",
      "Topic 1: 0.049*\"the\" + 0.025*\"of\" + 0.022*\"to\" + 0.017*\"in\" + 0.016*\"and\" + 0.013*\"that\" + 0.010*\"was\" + 0.008*\"it\" + 0.008*\"his\" + 0.007*\"he\"\n",
      "Topic 2: 0.048*\"the\" + 0.025*\"and\" + 0.020*\"to\" + 0.018*\"of\" + 0.010*\"it\" + 0.008*\"you\" + 0.008*\"that\" + 0.007*\"in\" + 0.007*\"was\" + 0.006*\"he\"\n",
      "Topic 3: 0.052*\"the\" + 0.034*\"of\" + 0.024*\"and\" + 0.019*\"to\" + 0.017*\"in\" + 0.010*\"that\" + 0.010*\"was\" + 0.008*\"as\" + 0.007*\"with\" + 0.007*\"for\"\n",
      "Topic 4: 0.053*\"the\" + 0.029*\"of\" + 0.024*\"and\" + 0.020*\"to\" + 0.020*\"in\" + 0.009*\"that\" + 0.009*\"it\" + 0.008*\"was\" + 0.008*\"he\" + 0.007*\"as\"\n",
      "Topic 5: 0.048*\"the\" + 0.027*\"and\" + 0.027*\"of\" + 0.018*\"to\" + 0.013*\"in\" + 0.009*\"it\" + 0.008*\"his\" + 0.008*\"was\" + 0.007*\"de\" + 0.007*\"he\"\n",
      "Topic 6: 0.057*\"the\" + 0.030*\"and\" + 0.029*\"of\" + 0.017*\"to\" + 0.014*\"in\" + 0.010*\"it\" + 0.008*\"was\" + 0.007*\"that\" + 0.007*\"is\" + 0.006*\"he\"\n",
      "Topic 7: 0.029*\"the\" + 0.025*\"of\" + 0.020*\"and\" + 0.019*\"to\" + 0.012*\"in\" + 0.008*\"that\" + 0.006*\"was\" + 0.006*\"is\" + 0.006*\"it\" + 0.005*\"with\"\n",
      "Topic 8: 0.035*\"the\" + 0.020*\"and\" + 0.020*\"to\" + 0.019*\"of\" + 0.011*\"he\" + 0.011*\"in\" + 0.010*\"was\" + 0.009*\"his\" + 0.008*\"that\" + 0.006*\"it\"\n",
      "Topic 9: 0.070*\"the\" + 0.037*\"and\" + 0.031*\"of\" + 0.027*\"to\" + 0.018*\"in\" + 0.012*\"that\" + 0.011*\"was\" + 0.010*\"he\" + 0.009*\"is\" + 0.009*\"with\"\n"
     ]
    }
   ],
   "source": [
    "import pandas as pd\n",
    "from sklearn.model_selection import train_test_split\n",
    "from sklearn.feature_extraction.text import CountVectorizer\n",
    "import gensim\n",
    "\n",
    "# Create a CountVectorizer vectorizer\n",
    "vectorizer = CountVectorizer()\n",
    "\n",
    "# Convert the text data into a bag-of-words model using the vectorizer\n",
    "train_corpus = vectorizer.fit_transform(train_data)\n",
    "test_corpus = vectorizer.transform(test_data)\n",
    "val_corpus = vectorizer.transform(val_data)\n",
    "\n",
    "# Convert the input corpus to the correct format\n",
    "train_corpus = gensim.matutils.Sparse2Corpus(train_corpus, documents_columns=False)\n",
    "test_corpus = gensim.matutils.Sparse2Corpus(test_corpus, documents_columns=False)\n",
    "val_corpus = gensim.matutils.Sparse2Corpus(val_corpus, documents_columns=False)\n",
    "\n",
    "# Train an LDA model using Gensim\n",
    "num_topics = 10\n",
    "id2word = dict((v, k) for k, v in vectorizer.vocabulary_.items())\n",
    "lda_model = gensim.models.LdaModel(\n",
    "    corpus=train_corpus,\n",
    "    id2word=id2word,\n",
    "    num_topics=num_topics\n",
    ")\n",
    "\n",
    "# Print the topics of the LDA model\n",
    "for i in range(num_topics):\n",
    "    print(f'Topic {i}: {lda_model.print_topic(i)}')"
   ],
   "metadata": {
    "collapsed": false
   }
  },
  {
   "cell_type": "code",
   "execution_count": 118,
   "outputs": [],
   "source": [
    "# #tokenize the text in the \"text\" column of your CSV file, create a dictionary from the tokens, convert the dictionary to a bag-of-words corpus, build an LDA model with 10 topics, and print the top 10 words for each topic.\n",
    "# # Tokenize the text\n",
    "# text_tokens = [nltk.word_tokenize(text) for text in df['text']]\n",
    "#\n",
    "# # Create a dictionary from the tokens\n",
    "# dictionary = corpora.Dictionary(text_tokens)\n",
    "#\n",
    "# # Convert the dictionary to a bag-of-words corpus\n",
    "# corpus = [dictionary.doc2bow(text) for text in text_tokens]\n",
    "#\n",
    "# # Build the LDA model with 10 topics\n",
    "# lda_model = models.LdaModel(corpus=corpus, num_topics=10, id2word=dictionary)\n",
    "#\n",
    "# # Get the top 10 words for each topic\n",
    "# topics = lda_model.show_topics(num_topics=10, num_words=10)\n",
    "#\n",
    "# # Print the topics and their top words\n",
    "#\n",
    "# for topic in topics:\n",
    "#     print('Topic {}: {}'.format(topic[0], topic[1]))\n"
   ],
   "metadata": {
    "collapsed": false
   }
  },
  {
   "cell_type": "code",
   "execution_count": 119,
   "outputs": [],
   "source": [
    "# import pandas as pd\n",
    "# import gensim\n",
    "# from gensim.models import Word2Vec\n",
    "# # Train a Word2Vec model on the tokenized text data\n",
    "# model = Word2Vec(df['text_tokenized'], vector_size=100, window=5, min_count=1, workers=4)\n",
    "#\n",
    "# # Get the embedding vector for a word\n",
    "# print(model.wv['example'])\n",
    "#\n",
    "# # Get the most similar words to a given word\n",
    "# print(model.wv.most_similar('example'))"
   ],
   "metadata": {
    "collapsed": false
   }
  },
  {
   "cell_type": "code",
   "execution_count": 120,
   "outputs": [
    {
     "name": "stdout",
     "output_type": "stream",
     "text": [
      "Word vector for 'you': [-0.33246607  2.061229    3.7429538   0.36708248 -0.54400325  0.30874923\n",
      " -2.0482292  -0.04108502 -1.3013406  -1.381595    0.2597163  -2.135802\n",
      "  1.9608499   0.07383339  1.5595703  -0.6370144   0.80238163 -5.831641\n",
      " -1.7482966   0.15242171  0.56533104  2.490944    1.8565134  -1.915224\n",
      " -3.2753887   4.114826   -2.653694   -2.8786058   0.2131806   1.9340245\n",
      "  0.19727886 -1.7288474   0.2780676   1.0769267  -0.27857247  4.474182\n",
      "  0.9553416   2.527838   -1.6132076  -0.7642555  -0.10037777  1.8386585\n",
      "  0.60656494 -0.4381407   0.98112863 -1.6894246  -1.8381289  -1.4114068\n",
      "  1.6505182  -1.2599083   1.1709257   2.4086277   1.0238482  -1.0027821\n",
      " -0.4123167  -0.6110545   2.061603    0.29129046  0.12432949 -2.5802424\n",
      " -1.6246967  -0.8752831  -0.6171249   1.5424997  -3.1260989   0.04186301\n",
      " -1.4393575  -2.42049    -3.8596349   3.1813376  -0.0677219   0.39380637\n",
      " -0.05801463 -0.3997413  -0.29837593 -0.3451092  -1.1657854  -3.1767797\n",
      " -2.578528    2.4943798  -2.885264   -3.057834   -0.6168643   2.3517036\n",
      " -1.5058041   1.5562394  -2.870252    1.6217525  -1.4459629   2.7031906\n",
      " -0.18296677 -1.5744791  -2.2341      0.08605621  2.7927344   2.9098337\n",
      "  1.9608066   0.7315154  -1.6470213   0.36392987]\n",
      "Most similar words to 'you': [('You', 0.9456319212913513), ('I', 0.9117348790168762), ('care', 0.9059605598449707), ('thee', 0.8993147015571594), ('yourself', 0.8989881873130798), ('myself', 0.8988059163093567), ('Id', 0.8855832815170288), ('sir', 0.8830908536911011), ('God', 0.8801583647727966), ('sake', 0.8786418437957764)]\n"
     ]
    }
   ],
   "source": [
    "import pandas as pd\n",
    "import numpy as np\n",
    "import nltk\n",
    "from gensim.models import Word2Vec\n",
    "# Tokenize the text\n",
    "text_tokens = [nltk.word_tokenize(text) for text in df['text']]\n",
    "\n",
    "# Train Word2Vec model on the tokenized text\n",
    "model = Word2Vec(text_tokens, vector_size=100, window=5, min_count=1, workers=4)\n",
    "\n",
    "# Get the word vector for a specific word\n",
    "word = 'you'\n",
    "vector = model.wv[word]\n",
    "\n",
    "# Find the most similar words to a specific word\n",
    "similar_words = model.wv.most_similar(word)\n",
    "\n",
    "# Print the word vector and similar words\n",
    "print(\"Word vector for '{}': {}\".format(word, vector))\n",
    "print(\"Most similar words to '{}': {}\".format(word, similar_words))"
   ],
   "metadata": {
    "collapsed": false
   }
  },
  {
   "cell_type": "code",
   "execution_count": 121,
   "outputs": [],
   "source": [
    "# # Tokenize the text data\n",
    "# train_tokenized = [nltk.word_tokenize(text) for text in train_data]\n",
    "# test_tokenized = [nltk.word_tokenize(text) for text in test_data]\n",
    "# val_tokenized = [nltk.word_tokenize(text) for text in val_data]\n",
    "#\n",
    "# # Train a Word2Vec model on the tokenized text data\n",
    "# model = Word2Vec(train_tokenized, min_count=1)\n",
    "#\n",
    "# # Get the vocabulary of the Word2Vec model\n",
    "# vocab = model.wv.vocab.keys()\n",
    "#\n",
    "# # Get the word embeddings for each word in the vocabulary\n",
    "# embeddings = []\n",
    "# for word in vocab:\n",
    "#     embedding = model.wv[word]\n",
    "#     embeddings.append(embedding)\n",
    "#\n",
    "# # Print the word embeddings for the first 10 words in the vocabulary\n",
    "# for i in range(10):\n",
    "#     print(f'Word embedding for \"{list(vocab)[i]}\":\\n{embeddings[i]}\\n')"
   ],
   "metadata": {
    "collapsed": false
   }
  },
  {
   "cell_type": "code",
   "execution_count": 121,
   "outputs": [],
   "source": [],
   "metadata": {
    "collapsed": false
   }
  }
 ],
 "metadata": {
  "kernelspec": {
   "display_name": "Python 3",
   "language": "python",
   "name": "python3"
  },
  "language_info": {
   "codemirror_mode": {
    "name": "ipython",
    "version": 2
   },
   "file_extension": ".py",
   "mimetype": "text/x-python",
   "name": "python",
   "nbconvert_exporter": "python",
   "pygments_lexer": "ipython2",
   "version": "2.7.6"
  }
 },
 "nbformat": 4,
 "nbformat_minor": 0
}
