{
 "cells": [
  {
   "cell_type": "code",
   "execution_count": 35,
   "metadata": {
    "ExecuteTime": {
     "end_time": "2023-04-06T02:55:32.081655Z",
     "start_time": "2023-04-06T02:55:31.968413Z"
    }
   },
   "outputs": [],
   "source": [
    "import pandas as pd\n",
    "import matplotlib.pyplot as plt\n",
    "from sklearn.feature_extraction.text import CountVectorizer\n",
    "from sklearn.decomposition import LatentDirichletAllocation"
   ]
  },
  {
   "cell_type": "code",
   "execution_count": 36,
   "metadata": {
    "ExecuteTime": {
     "end_time": "2023-04-06T02:55:35.603846Z",
     "start_time": "2023-04-06T02:55:31.972806Z"
    }
   },
   "outputs": [],
   "source": [
    "sample_df = pd.read_csv('final.csv', index_col=0)"
   ]
  },
  {
   "cell_type": "code",
   "execution_count": 37,
   "metadata": {
    "ExecuteTime": {
     "end_time": "2023-04-06T02:55:35.609252Z",
     "start_time": "2023-04-06T02:55:35.604205Z"
    }
   },
   "outputs": [
    {
     "data": {
      "text/plain": [
       "(173107, 16)"
      ]
     },
     "execution_count": 37,
     "metadata": {},
     "output_type": "execute_result"
    }
   ],
   "source": [
    "sample_df.shape"
   ]
  },
  {
   "cell_type": "code",
   "execution_count": 38,
   "metadata": {
    "ExecuteTime": {
     "end_time": "2023-04-06T02:55:35.614718Z",
     "start_time": "2023-04-06T02:55:35.611016Z"
    }
   },
   "outputs": [
    {
     "data": {
      "text/html": [
       "<div>\n",
       "<style scoped>\n",
       "    .dataframe tbody tr th:only-of-type {\n",
       "        vertical-align: middle;\n",
       "    }\n",
       "\n",
       "    .dataframe tbody tr th {\n",
       "        vertical-align: top;\n",
       "    }\n",
       "\n",
       "    .dataframe thead th {\n",
       "        text-align: right;\n",
       "    }\n",
       "</style>\n",
       "<table border=\"1\" class=\"dataframe\">\n",
       "  <thead>\n",
       "    <tr style=\"text-align: right;\">\n",
       "      <th></th>\n",
       "      <th>author_name</th>\n",
       "      <th>book_id</th>\n",
       "      <th>gutenbergbookid</th>\n",
       "      <th>title</th>\n",
       "      <th>text</th>\n",
       "      <th>text_lines</th>\n",
       "      <th>authoryearofbirth</th>\n",
       "      <th>authoryearofdeath</th>\n",
       "      <th>downloads</th>\n",
       "      <th>subjects</th>\n",
       "      <th>topic</th>\n",
       "      <th>Sub_A</th>\n",
       "      <th>Sub_B</th>\n",
       "      <th>Sub_C</th>\n",
       "      <th>str_text_lines</th>\n",
       "      <th>passage_key</th>\n",
       "    </tr>\n",
       "    <tr>\n",
       "      <th>author_id</th>\n",
       "      <th></th>\n",
       "      <th></th>\n",
       "      <th></th>\n",
       "      <th></th>\n",
       "      <th></th>\n",
       "      <th></th>\n",
       "      <th></th>\n",
       "      <th></th>\n",
       "      <th></th>\n",
       "      <th></th>\n",
       "      <th></th>\n",
       "      <th></th>\n",
       "      <th></th>\n",
       "      <th></th>\n",
       "      <th></th>\n",
       "      <th></th>\n",
       "    </tr>\n",
       "  </thead>\n",
       "  <tbody>\n",
       "    <tr>\n",
       "      <th>494</th>\n",
       "      <td>Lincoln, Abraham</td>\n",
       "      <td>PG8</td>\n",
       "      <td>PG8</td>\n",
       "      <td>Abraham Lincoln's Second Inaugural Address</td>\n",
       "      <td>['to header material.', '', '***', '', \"Lincol...</td>\n",
       "      <td>17</td>\n",
       "      <td>1809.0</td>\n",
       "      <td>1865.0</td>\n",
       "      <td>25.0</td>\n",
       "      <td>{'United States -- Politics and government -- ...</td>\n",
       "      <td>United States</td>\n",
       "      <td>1861-1865</td>\n",
       "      <td>Politics and government</td>\n",
       "      <td>Presidents</td>\n",
       "      <td>17</td>\n",
       "      <td>PG8_17</td>\n",
       "    </tr>\n",
       "    <tr>\n",
       "      <th>494</th>\n",
       "      <td>Lincoln, Abraham</td>\n",
       "      <td>PG9</td>\n",
       "      <td>PG9</td>\n",
       "      <td>Abraham Lincoln's First Inaugural Address</td>\n",
       "      <td>['I have no lawful right to do so, and I have ...</td>\n",
       "      <td>77</td>\n",
       "      <td>1809.0</td>\n",
       "      <td>1865.0</td>\n",
       "      <td>36.0</td>\n",
       "      <td>{'United States -- Politics and government -- ...</td>\n",
       "      <td>United States</td>\n",
       "      <td>1861-1865</td>\n",
       "      <td>Politics and government</td>\n",
       "      <td>Presidents</td>\n",
       "      <td>77</td>\n",
       "      <td>PG9_77</td>\n",
       "    </tr>\n",
       "    <tr>\n",
       "      <th>494</th>\n",
       "      <td>Lincoln, Abraham</td>\n",
       "      <td>PG9</td>\n",
       "      <td>PG9</td>\n",
       "      <td>Abraham Lincoln's First Inaugural Address</td>\n",
       "      <td>['for a minority of their own will secede from...</td>\n",
       "      <td>277</td>\n",
       "      <td>1809.0</td>\n",
       "      <td>1865.0</td>\n",
       "      <td>36.0</td>\n",
       "      <td>{'United States -- Politics and government -- ...</td>\n",
       "      <td>United States</td>\n",
       "      <td>1861-1865</td>\n",
       "      <td>Politics and government</td>\n",
       "      <td>Presidents</td>\n",
       "      <td>277</td>\n",
       "      <td>PG9_277</td>\n",
       "    </tr>\n",
       "    <tr>\n",
       "      <th>494</th>\n",
       "      <td>Lincoln, Abraham</td>\n",
       "      <td>PG9</td>\n",
       "      <td>PG9</td>\n",
       "      <td>Abraham Lincoln's First Inaugural Address</td>\n",
       "      <td>['in both cases, and a few break over in each....</td>\n",
       "      <td>327</td>\n",
       "      <td>1809.0</td>\n",
       "      <td>1865.0</td>\n",
       "      <td>36.0</td>\n",
       "      <td>{'United States -- Politics and government -- ...</td>\n",
       "      <td>United States</td>\n",
       "      <td>1861-1865</td>\n",
       "      <td>Politics and government</td>\n",
       "      <td>Presidents</td>\n",
       "      <td>327</td>\n",
       "      <td>PG9_327</td>\n",
       "    </tr>\n",
       "    <tr>\n",
       "      <th>494</th>\n",
       "      <td>Lincoln, Abraham</td>\n",
       "      <td>PG9</td>\n",
       "      <td>PG9</td>\n",
       "      <td>Abraham Lincoln's First Inaugural Address</td>\n",
       "      <td>['There is some difference of opinion whether ...</td>\n",
       "      <td>127</td>\n",
       "      <td>1809.0</td>\n",
       "      <td>1865.0</td>\n",
       "      <td>36.0</td>\n",
       "      <td>{'United States -- Politics and government -- ...</td>\n",
       "      <td>United States</td>\n",
       "      <td>1861-1865</td>\n",
       "      <td>Politics and government</td>\n",
       "      <td>Presidents</td>\n",
       "      <td>127</td>\n",
       "      <td>PG9_127</td>\n",
       "    </tr>\n",
       "  </tbody>\n",
       "</table>\n",
       "</div>"
      ],
      "text/plain": [
       "                author_name book_id gutenbergbookid  \\\n",
       "author_id                                             \n",
       "494        Lincoln, Abraham     PG8             PG8   \n",
       "494        Lincoln, Abraham     PG9             PG9   \n",
       "494        Lincoln, Abraham     PG9             PG9   \n",
       "494        Lincoln, Abraham     PG9             PG9   \n",
       "494        Lincoln, Abraham     PG9             PG9   \n",
       "\n",
       "                                                title  \\\n",
       "author_id                                               \n",
       "494        Abraham Lincoln's Second Inaugural Address   \n",
       "494         Abraham Lincoln's First Inaugural Address   \n",
       "494         Abraham Lincoln's First Inaugural Address   \n",
       "494         Abraham Lincoln's First Inaugural Address   \n",
       "494         Abraham Lincoln's First Inaugural Address   \n",
       "\n",
       "                                                        text  text_lines  \\\n",
       "author_id                                                                  \n",
       "494        ['to header material.', '', '***', '', \"Lincol...          17   \n",
       "494        ['I have no lawful right to do so, and I have ...          77   \n",
       "494        ['for a minority of their own will secede from...         277   \n",
       "494        ['in both cases, and a few break over in each....         327   \n",
       "494        ['There is some difference of opinion whether ...         127   \n",
       "\n",
       "           authoryearofbirth  authoryearofdeath  downloads  \\\n",
       "author_id                                                    \n",
       "494                   1809.0             1865.0       25.0   \n",
       "494                   1809.0             1865.0       36.0   \n",
       "494                   1809.0             1865.0       36.0   \n",
       "494                   1809.0             1865.0       36.0   \n",
       "494                   1809.0             1865.0       36.0   \n",
       "\n",
       "                                                    subjects          topic  \\\n",
       "author_id                                                                     \n",
       "494        {'United States -- Politics and government -- ...  United States   \n",
       "494        {'United States -- Politics and government -- ...  United States   \n",
       "494        {'United States -- Politics and government -- ...  United States   \n",
       "494        {'United States -- Politics and government -- ...  United States   \n",
       "494        {'United States -- Politics and government -- ...  United States   \n",
       "\n",
       "               Sub_A                    Sub_B       Sub_C  str_text_lines  \\\n",
       "author_id                                                                   \n",
       "494        1861-1865  Politics and government  Presidents              17   \n",
       "494        1861-1865  Politics and government  Presidents              77   \n",
       "494        1861-1865  Politics and government  Presidents             277   \n",
       "494        1861-1865  Politics and government  Presidents             327   \n",
       "494        1861-1865  Politics and government  Presidents             127   \n",
       "\n",
       "          passage_key  \n",
       "author_id              \n",
       "494            PG8_17  \n",
       "494            PG9_77  \n",
       "494           PG9_277  \n",
       "494           PG9_327  \n",
       "494           PG9_127  "
      ]
     },
     "execution_count": 38,
     "metadata": {},
     "output_type": "execute_result"
    }
   ],
   "source": [
    "sample_df.head()"
   ]
  },
  {
   "cell_type": "code",
   "execution_count": 39,
   "metadata": {
    "ExecuteTime": {
     "end_time": "2023-04-06T02:55:56.802807Z",
     "start_time": "2023-04-06T02:55:35.620588Z"
    }
   },
   "outputs": [],
   "source": [
    "cv = CountVectorizer(max_df=0.95, min_df=2, stop_words=\"english\")\n",
    "dtm = cv.fit_transform(sample_df['text'])"
   ]
  },
  {
   "cell_type": "code",
   "execution_count": 40,
   "metadata": {
    "ExecuteTime": {
     "end_time": "2023-04-06T02:55:56.807562Z",
     "start_time": "2023-04-06T02:55:56.803397Z"
    }
   },
   "outputs": [
    {
     "data": {
      "text/plain": [
       "<173107x166727 sparse matrix of type '<class 'numpy.int64'>'\n",
       "\twith 25892329 stored elements in Compressed Sparse Row format>"
      ]
     },
     "execution_count": 40,
     "metadata": {},
     "output_type": "execute_result"
    }
   ],
   "source": [
    "dtm"
   ]
  },
  {
   "cell_type": "code",
   "execution_count": 41,
   "metadata": {
    "ExecuteTime": {
     "end_time": "2023-04-06T02:55:56.871931Z",
     "start_time": "2023-04-06T02:55:56.866527Z"
    }
   },
   "outputs": [
    {
     "data": {
      "text/plain": [
       "166727"
      ]
     },
     "execution_count": 41,
     "metadata": {},
     "output_type": "execute_result"
    }
   ],
   "source": [
    "feature_names = cv.get_feature_names_out()\n",
    "len(feature_names)\n",
    " # show the total number of distinct words\n"
   ]
  },
  {
   "cell_type": "code",
   "execution_count": 118,
   "outputs": [
    {
     "data": {
      "text/plain": "array(['00', '000', '000_l', ..., 'ὄρος', 'ὑπὸ', 'ὡς'], dtype=object)"
     },
     "execution_count": 118,
     "metadata": {},
     "output_type": "execute_result"
    }
   ],
   "source": [
    "feature_names = cv.get_feature_names_out()\n",
    "feature_names"
   ],
   "metadata": {
    "collapsed": false,
    "ExecuteTime": {
     "start_time": "2023-04-06T09:49:32.293493Z",
     "end_time": "2023-04-06T09:49:32.297856Z"
    }
   }
  },
  {
   "cell_type": "code",
   "execution_count": 42,
   "metadata": {
    "ExecuteTime": {
     "end_time": "2023-04-06T02:55:56.872204Z",
     "start_time": "2023-04-06T02:55:56.869839Z"
    }
   },
   "outputs": [
    {
     "data": {
      "text/plain": [
       "array(['zebralope', 'zebras', 'zebulon', 'zebus', 'zecchin', 'zech',\n",
       "       'zechariah', 'zechins', 'zeckler', 'zed', 'zedekiah', 'zee',\n",
       "       'zeebrugge', 'zeed', 'zeeing', 'zeeland', 'zeem', 'zeemed',\n",
       "       'zeenar', 'zeerjeek', 'zees', 'zeggensburg', 'zegri', 'zeherit',\n",
       "       'zehr', 'zehren', 'zehrendorf', 'zeib', 'zeiglemann', 'zeigler',\n",
       "       'zeit', 'zeit_', 'zeitgeist', 'zeitung_', 'zeke', 'zekiel',\n",
       "       'zekle', 'zelaya', 'zelda', 'zele', 'zeleia', 'zelie', 'zelinda',\n",
       "       'zell', 'zella', 'zelle', 'zellerndorf', 'zelo', 'zelotes', 'zelt',\n",
       "       'zem', 'zembabwans', 'zembabwei', 'zembei', 'zembin', 'zembla',\n",
       "       'zemindar', 'zemstvo', 'zemzem', 'zen', 'zena', 'zenana',\n",
       "       'zenanas', 'zenas', 'zend', 'zenda', 'zendavesta', 'zenelophon',\n",
       "       'zenian', 'zenians', 'zenith', 'zeniths', 'zenithwards', 'zeno',\n",
       "       'zenobia', 'zenobie', 'zenoburg', 'zenocrate', 'zenone', 'zens',\n",
       "       'zent', 'zenz', 'zep', 'zeph', 'zephania', 'zephaniah',\n",
       "       'zephirine', 'zephyr', 'zephyrin', 'zephyrs', 'zephyrus', 'zepp',\n",
       "       'zeppa', 'zeppelin', 'zeppelins', 'zepps', 'zer', 'zerbine',\n",
       "       'zerbinette', 'zerbst', 'zerdusht', 'zere', 'zereba', 'zerhoun',\n",
       "       'zeriba', 'zerina', 'zerkovitch', 'zermatt', 'zero', 'zero_',\n",
       "       'zeroed', 'zeros', 'zerran', 'zertanoj', 'zerubbabel', 'zes',\n",
       "       'zesara', 'zese', 'zest', 'zeste', 'zestful', 'zestfully', 'zet',\n",
       "       'zeta', 'zetes', 'zetland', 'zetlanders', 'zetterberg', 'zeus',\n",
       "       'zeusel', 'zeuxis', 'zevenboom', 'zey', 'zezdon', 'zh', 'zhaibar',\n",
       "       'zhannar', 'zhat', 'zhe', 'zhemri', 'zhentleman', 'zherman',\n",
       "       'zhermans', 'zhi', 'zhilin', 'zhilín', 'zhitkov', 'zho', 'zhorzh',\n",
       "       'zhust', 'zi', 'zia', 'ziad', 'ziani', 'ziba', 'zibet', 'zicci',\n",
       "       'zichy', 'zick', 'zickness', 'zid', 'zidore', 'ziegfeld',\n",
       "       'ziegler', 'ziem', 'zieten', 'ziethen', 'ziffak', 'zig', 'zige',\n",
       "       'zigler', 'zigs', 'zigzag', 'zigzagged', 'zigzaggin', 'zigzagging',\n",
       "       'zigzags', 'zikali', 'zikkara', 'ziklag', 'zil', 'zilla', 'zillah',\n",
       "       'zillenstein', 'zillia', 'zillion', 'zilpah', 'zim', 'zimbamzim',\n",
       "       'zimbi', 'zimmer', 'zimmerman', 'zimmermann', 'zimmern', 'zimri',\n",
       "       'zina', 'zinaida', 'zinal', 'zinaïda', 'zinc', 'zinder', 'zindorf',\n",
       "       'zing', 'zingall', 'zinganna', 'zingara', 'zingarans',\n",
       "       'zingarelli', 'zingg', 'zings', 'zini', 'zinida', 'zink', 'zinka',\n",
       "       'zinnias', 'zino', 'zinsheimer', 'zinti', 'zinzendorf', 'zion',\n",
       "       'zionists', 'zions', 'zip', 'zipped', 'zipper', 'zippered',\n",
       "       'zippers', 'zipping', 'zippy', 'zir', 'zircon', 'ziree', 'zirk',\n",
       "       'zirkow', 'zirks', 'zirl', 'zis', 'ziska', 'ziss', 'zit', 'zita',\n",
       "       'zither', 'zithern', 'zithers', 'zittau', 'zittelhof', 'ziz',\n",
       "       'zizi', 'zizine', 'zkoort', 'zlave', 'zleep', 'zlenon', 'zmai',\n",
       "       'zmeyukina', 'zminis', 'zo', 'zoan', 'zoar', 'zobenigo', 'zoboru',\n",
       "       'zocchi', 'zocco', 'zodanga', 'zodiac', 'zodiacal', 'zodiacs',\n",
       "       'zoe', 'zoetrope', 'zof', 'zoffanies', 'zoffany', 'zogar', 'zohar',\n",
       "       'zohra', 'zohák', 'zoilus', 'zoji', 'zola', 'zoldy', 'zollern',\n",
       "       'zollicoffer', 'zollverein', 'zolzik', 'zomaloff', 'zomara',\n",
       "       'zombie', 'zombies', 'zombis', 'zome', 'zomehow', 'zometimes',\n",
       "       'zomewhere', 'zomzing', 'zon', 'zona', 'zone', 'zoned', 'zones',\n",
       "       'zonia', 'zonnebeke', 'zonoree', 'zoo', 'zoof', 'zook', 'zooks',\n",
       "       'zoologic', 'zoological', 'zoologically', 'zoologist',\n",
       "       'zoologists', 'zoology', 'zoolu', 'zoolus', 'zoolyogical', 'zoom',\n",
       "       'zoomed', 'zooming', 'zoomzoomarma', 'zoon', 'zoop', 'zoophyte',\n",
       "       'zoophytes', 'zoos', 'zophar', 'zophérnes', 'zopyrion', 'zopyrus',\n",
       "       'zor', 'zora', 'zorah', 'zoraida', 'zoraide', 'zoran', 'zorda',\n",
       "       'zore', 'zorilla', 'zorka', 'zorn', 'zornadhu', 'zorndorf',\n",
       "       'zoroaster', 'zoroastrians', 'zorrillo', 'zorry', 'zort', 'zortan',\n",
       "       'zosco', 'zosia', 'zosimus', 'zostera', 'zote', 'zottmyer', 'zou',\n",
       "       'zouave', 'zouaves', 'zouch', 'zouche', 'zounds', 'zoutpansberg',\n",
       "       'zoya', 'zozo', 'zoé', 'zoë', 'zoölogical', 'zoölogy', 'zoúevo',\n",
       "       'zriny', 'zu', 'zuad', 'zuagir', 'zuagirs', 'zuba', 'zubeydeh',\n",
       "       'zuby', 'zuccari', 'zuccheri', 'zug', 'zugvitz', 'zuleika',\n",
       "       'zulena', 'zuleyka', 'zulfikar', 'zulieski', 'zulietta', 'zulime',\n",
       "       'zulphah', 'zulu', 'zululand', 'zulus', 'zum', 'zuma',\n",
       "       'zumalacarregui', 'zummat', 'zummut', 'zun', 'zur', 'zurb',\n",
       "       'zurbarin', 'zure', 'zurich', 'zusanette', 'zut', 'zutphen',\n",
       "       'zuurberg', 'zuyder', 'zuyland', 'zuylen', 'zuzu', 'zverev',\n",
       "       'zwansiger', 'zwanzigers', 'zwarba', 'zwei', 'zweifel',\n",
       "       'zwerdling', 'zwickau', 'zwieback', 'zwilch', 'zwilhuit', 'zwilk',\n",
       "       'zwim', 'zwimming', 'zwingli', 'zwooks', 'zygaena', 'zygote',\n",
       "       'zymotic', 'zyábrev', 'zz', 'zzz', 'zzzz', 'zábul', 'zál', 'zám',\n",
       "       'zélie', 'zénaïde', 'zénobie', 'zéphir', 'zéphyrine', 'zürich',\n",
       "       'àpropos', 'áronffy', 'âge', 'âme', 'âmes', 'âmona', 'älvåkra',\n",
       "       'æacides', 'æacus', 'ædes', 'ædiles', 'æetes', 'ægaleos', 'ægean',\n",
       "       'ægeon', 'ægeus', 'ægina', 'ægiochus', 'ægipans', 'ægir', 'ægis',\n",
       "       'ægisthos', 'ægisthus', 'ægypt', 'ægyptian', 'ægysthus', 'ægæ',\n",
       "       'ægæan', 'ælfred', 'ælian', 'æmilianus', 'æmilius', 'æn', 'æneas',\n",
       "       'æneid', 'æneäs', 'æolia', 'æolian', 'æolus', 'æon', 'æonian',\n",
       "       'æons', 'æra', 'ære', 'æsacus', 'æsar', 'æsch', 'æschines',\n",
       "       'æschylean', 'æschylos', 'æschylus', 'æsculapius', 'æsir', 'æson',\n",
       "       'æsop', 'æsopian', 'æsthete', 'æsthetes', 'æsthetic', 'æsthetical',\n",
       "       'æsthetically', 'æstheticism', 'æsthetics', 'æstus', 'æt', 'ætat',\n",
       "       'æthelberht', 'ætheling', 'æthelred', 'æther', 'æthereal',\n",
       "       'æthiopia', 'æthra', 'ætna', 'ætnæan', 'ætolia', 'ætolian',\n",
       "       'ætolians', 'ææan', 'ça', 'ça_', 'èbrecourt', 'ès', 'écarté',\n",
       "       'éclair', 'éclat', 'éclopé', 'éclopés', 'école', 'écoles',\n",
       "       'économique', 'écoutent', 'écrit', 'écrit_', 'édition', 'édouard',\n",
       "       'égalité', 'égard', 'église', 'élan', 'élisabeth', 'élise',\n",
       "       'élite', 'élite_', 'élodie', 'éloigné', 'élophe', 'éloquence',\n",
       "       'élysée', 'élysées', 'émeute', 'émigrés', 'émile', 'émotions',\n",
       "       'éon', 'épergne', 'épernon', 'épinay', 'épine', 'éponine',\n",
       "       'époque', 'épée', 'éta', 'étaient', 'étais', 'était', 'étang',\n",
       "       'étaples', 'état', 'état_', 'états', 'étes', 'étienne', 'étoile',\n",
       "       'étoit', 'étonnant', 'étonne', 'étrangers', 'étrangères',\n",
       "       'étretat', 'étude', 'études', 'été', 'évariste', 'évidence_',\n",
       "       'évêque', 'évêque_', 'ên', 'êtes', 'être', 'être_', 'île',\n",
       "       'ñañigos', 'ómare', 'óshk', 'ô_', 'öresund', 'österhaninge',\n",
       "       'övid', 'újváros', 'úra', 'über', 'übertragen', 'ý8',\n",
       "       'ýcommanders', 'ýcow', 'ýinstalment', 'ýnew', 'ýon', 'ýoxen',\n",
       "       'ýseed', 'āll', 'ēbawlmed', 'œconomy', 'œdipus', 'œil', 'œil_',\n",
       "       'œneus', 'œnomaus', 'œnone', 'œta', 'œuvre', 'œuvre_', 'œuvres',\n",
       "       'ȝe', 'ȝeir', 'ȝell', 'ȝet', 'ȝhe', 'ȝit', 'ȝon', 'ȝondir', 'ȝong',\n",
       "       'ȝou', 'ȝour', 'ȝyng', 'αἱ', 'γε', 'γὰρ', 'γάρ', 'δε', 'δεῖ',\n",
       "       'διὰ', 'δὲ', 'δέ', 'δὴ', 'εις', 'εν', 'εἰ', 'εἰς', 'εἶναι', 'εὖ',\n",
       "       'και', 'κατὰ', 'καὶ', 'λαμπρὸν', 'μοι', 'μοῦ', 'μὲν', 'μέγα', 'μὴ',\n",
       "       'νῦν', 'οἱ', 'οὐ', 'οὐδὲν', 'οὐκ', 'οὖν', 'οὗ', 'πάνθ', 'πανικὸν',\n",
       "       'παρὰ', 'παρόντα', 'περ', 'περὶ', 'ποτε', 'ποτὲ', 'πρὶν', 'πρὸς',\n",
       "       'πως', 'πάντες', 'πάντων', 'σωφροσὑνη', 'σὰς', 'σὺ', 'τίν', 'τίνα',\n",
       "       'τα', 'τε', 'τι', 'τις', 'τοι', 'τον', 'τοὺς', 'τούτων', 'τοῖς',\n",
       "       'τοῦ', 'τὰ', 'τὴν', 'τὸ', 'τὸν', 'τῆς', 'τῇ', 'τῶν', 'φάος',\n",
       "       'φόβῳ', 'беппо', 'ἀγαπώ', 'ἀλλ', 'ἀλλὰ', 'ἀνθρώπων', 'ἀπὸ', 'ἄλλο',\n",
       "       'ἄνδρα', 'ἐκ', 'ἐμὲ', 'ἐν', 'ἐπὶ', 'ἔνθα', 'ἡλίου', 'ἡμῖν', 'ἡμῶν',\n",
       "       'ἤδη', 'ἤν', 'ὄρος', 'ὑπὸ', 'ὡς'], dtype=object)"
      ]
     },
     "execution_count": 42,
     "metadata": {},
     "output_type": "execute_result"
    }
   ],
   "source": [
    "feature_names[166000:]"
   ]
  },
  {
   "cell_type": "markdown",
   "metadata": {},
   "source": [
    "# LDA"
   ]
  },
  {
   "cell_type": "code",
   "execution_count": 72,
   "metadata": {
    "ExecuteTime": {
     "end_time": "2023-04-06T09:06:21.064067Z",
     "start_time": "2023-04-06T09:06:21.061386Z"
    }
   },
   "outputs": [],
   "source": [
    "NUM_TOPICS = 7\n",
    "LDA_model = LatentDirichletAllocation(n_components=NUM_TOPICS, max_iter=30, random_state=42)\n"
   ]
  },
  {
   "cell_type": "code",
   "execution_count": 73,
   "metadata": {
    "ExecuteTime": {
     "end_time": "2023-04-06T09:31:07.048665Z",
     "start_time": "2023-04-06T09:06:22.006246Z"
    }
   },
   "outputs": [
    {
     "data": {
      "text/html": [
       "<style>#sk-container-id-3 {color: black;background-color: white;}#sk-container-id-3 pre{padding: 0;}#sk-container-id-3 div.sk-toggleable {background-color: white;}#sk-container-id-3 label.sk-toggleable__label {cursor: pointer;display: block;width: 100%;margin-bottom: 0;padding: 0.3em;box-sizing: border-box;text-align: center;}#sk-container-id-3 label.sk-toggleable__label-arrow:before {content: \"▸\";float: left;margin-right: 0.25em;color: #696969;}#sk-container-id-3 label.sk-toggleable__label-arrow:hover:before {color: black;}#sk-container-id-3 div.sk-estimator:hover label.sk-toggleable__label-arrow:before {color: black;}#sk-container-id-3 div.sk-toggleable__content {max-height: 0;max-width: 0;overflow: hidden;text-align: left;background-color: #f0f8ff;}#sk-container-id-3 div.sk-toggleable__content pre {margin: 0.2em;color: black;border-radius: 0.25em;background-color: #f0f8ff;}#sk-container-id-3 input.sk-toggleable__control:checked~div.sk-toggleable__content {max-height: 200px;max-width: 100%;overflow: auto;}#sk-container-id-3 input.sk-toggleable__control:checked~label.sk-toggleable__label-arrow:before {content: \"▾\";}#sk-container-id-3 div.sk-estimator input.sk-toggleable__control:checked~label.sk-toggleable__label {background-color: #d4ebff;}#sk-container-id-3 div.sk-label input.sk-toggleable__control:checked~label.sk-toggleable__label {background-color: #d4ebff;}#sk-container-id-3 input.sk-hidden--visually {border: 0;clip: rect(1px 1px 1px 1px);clip: rect(1px, 1px, 1px, 1px);height: 1px;margin: -1px;overflow: hidden;padding: 0;position: absolute;width: 1px;}#sk-container-id-3 div.sk-estimator {font-family: monospace;background-color: #f0f8ff;border: 1px dotted black;border-radius: 0.25em;box-sizing: border-box;margin-bottom: 0.5em;}#sk-container-id-3 div.sk-estimator:hover {background-color: #d4ebff;}#sk-container-id-3 div.sk-parallel-item::after {content: \"\";width: 100%;border-bottom: 1px solid gray;flex-grow: 1;}#sk-container-id-3 div.sk-label:hover label.sk-toggleable__label {background-color: #d4ebff;}#sk-container-id-3 div.sk-serial::before {content: \"\";position: absolute;border-left: 1px solid gray;box-sizing: border-box;top: 0;bottom: 0;left: 50%;z-index: 0;}#sk-container-id-3 div.sk-serial {display: flex;flex-direction: column;align-items: center;background-color: white;padding-right: 0.2em;padding-left: 0.2em;position: relative;}#sk-container-id-3 div.sk-item {position: relative;z-index: 1;}#sk-container-id-3 div.sk-parallel {display: flex;align-items: stretch;justify-content: center;background-color: white;position: relative;}#sk-container-id-3 div.sk-item::before, #sk-container-id-3 div.sk-parallel-item::before {content: \"\";position: absolute;border-left: 1px solid gray;box-sizing: border-box;top: 0;bottom: 0;left: 50%;z-index: -1;}#sk-container-id-3 div.sk-parallel-item {display: flex;flex-direction: column;z-index: 1;position: relative;background-color: white;}#sk-container-id-3 div.sk-parallel-item:first-child::after {align-self: flex-end;width: 50%;}#sk-container-id-3 div.sk-parallel-item:last-child::after {align-self: flex-start;width: 50%;}#sk-container-id-3 div.sk-parallel-item:only-child::after {width: 0;}#sk-container-id-3 div.sk-dashed-wrapped {border: 1px dashed gray;margin: 0 0.4em 0.5em 0.4em;box-sizing: border-box;padding-bottom: 0.4em;background-color: white;}#sk-container-id-3 div.sk-label label {font-family: monospace;font-weight: bold;display: inline-block;line-height: 1.2em;}#sk-container-id-3 div.sk-label-container {text-align: center;}#sk-container-id-3 div.sk-container {/* jupyter's `normalize.less` sets `[hidden] { display: none; }` but bootstrap.min.css set `[hidden] { display: none !important; }` so we also need the `!important` here to be able to override the default hidden behavior on the sphinx rendered scikit-learn.org. See: https://github.com/scikit-learn/scikit-learn/issues/21755 */display: inline-block !important;position: relative;}#sk-container-id-3 div.sk-text-repr-fallback {display: none;}</style><div id=\"sk-container-id-3\" class=\"sk-top-container\"><div class=\"sk-text-repr-fallback\"><pre>LatentDirichletAllocation(max_iter=30, n_components=7, random_state=42)</pre><b>In a Jupyter environment, please rerun this cell to show the HTML representation or trust the notebook. <br />On GitHub, the HTML representation is unable to render, please try loading this page with nbviewer.org.</b></div><div class=\"sk-container\" hidden><div class=\"sk-item\"><div class=\"sk-estimator sk-toggleable\"><input class=\"sk-toggleable__control sk-hidden--visually\" id=\"sk-estimator-id-3\" type=\"checkbox\" checked><label for=\"sk-estimator-id-3\" class=\"sk-toggleable__label sk-toggleable__label-arrow\">LatentDirichletAllocation</label><div class=\"sk-toggleable__content\"><pre>LatentDirichletAllocation(max_iter=30, n_components=7, random_state=42)</pre></div></div></div></div></div>"
      ],
      "text/plain": [
       "LatentDirichletAllocation(max_iter=30, n_components=7, random_state=42)"
      ]
     },
     "execution_count": 73,
     "metadata": {},
     "output_type": "execute_result"
    }
   ],
   "source": [
    "LDA_model.fit(dtm)"
   ]
  },
  {
   "cell_type": "markdown",
   "metadata": {},
   "source": [
    "### Show Stored Words."
   ]
  },
  {
   "cell_type": "code",
   "execution_count": 45,
   "metadata": {
    "ExecuteTime": {
     "end_time": "2023-04-06T03:21:11.188941Z",
     "start_time": "2023-04-06T03:21:11.185331Z"
    }
   },
   "outputs": [
    {
     "data": {
      "text/plain": [
       "166727"
      ]
     },
     "execution_count": 45,
     "metadata": {},
     "output_type": "execute_result"
    }
   ],
   "source": [
    "len(feature_names)"
   ]
  },
  {
   "cell_type": "code",
   "execution_count": 49,
   "metadata": {
    "ExecuteTime": {
     "end_time": "2023-04-06T09:00:52.596085Z",
     "start_time": "2023-04-06T09:00:52.588692Z"
    }
   },
   "outputs": [
    {
     "name": "stdout",
     "output_type": "stream",
     "text": [
      "azelma\n",
      "ascendancy\n",
      "onions\n",
      "pie\n",
      "oceola\n",
      "_solemnly\n",
      "faulchions\n",
      "marzak\n",
      "sparkling\n",
      "washstands\n",
      "banked\n",
      "unecclesiastical\n",
      "trollop\n",
      "blemishing\n",
      "snickered\n"
     ]
    }
   ],
   "source": [
    "import random\n",
    "\n",
    "# get the feature names\n",
    "feature_names = cv.get_feature_names_out()\n",
    "\n",
    "# print 15 random words\n",
    "for index in range(15):\n",
    "    random_word_ID = random.randint(0, len(feature_names)-1)\n",
    "    print(feature_names[random_word_ID])\n"
   ]
  },
  {
   "cell_type": "markdown",
   "metadata": {},
   "source": [
    "### Top Words Per Topic"
   ]
  },
  {
   "cell_type": "code",
   "execution_count": 50,
   "metadata": {
    "ExecuteTime": {
     "end_time": "2023-04-06T09:00:57.557682Z",
     "start_time": "2023-04-06T09:00:57.555531Z"
    }
   },
   "outputs": [
    {
     "data": {
      "text/plain": [
       "166727"
      ]
     },
     "execution_count": 50,
     "metadata": {},
     "output_type": "execute_result"
    }
   ],
   "source": [
    "len(LDA_model.components_[0])"
   ]
  },
  {
   "cell_type": "code",
   "execution_count": 99,
   "metadata": {
    "ExecuteTime": {
     "end_time": "2023-04-06T09:00:58.327354Z",
     "start_time": "2023-04-06T09:00:58.307186Z"
    }
   },
   "outputs": [
    {
     "data": {
      "text/plain": [
       "array([ 68562,  52706, 137521, ..., 148710,  70124, 148294])"
      ]
     },
     "execution_count": 99,
     "metadata": {},
     "output_type": "execute_result"
    }
   ],
   "source": [
    "# Pick a single topic\n",
    "a_topic = LDA_model.components_[0]\n",
    "\n",
    "# Get the indices that would sort this array\n",
    "a_topic.argsort()"
   ]
  },
  {
   "cell_type": "code",
   "execution_count": 100,
   "metadata": {
    "ExecuteTime": {
     "end_time": "2023-04-06T09:38:45.736387Z",
     "start_time": "2023-04-06T09:38:45.733729Z"
    }
   },
   "outputs": [
    {
     "data": {
      "text/plain": [
       "0.1438157561857944"
      ]
     },
     "execution_count": 100,
     "metadata": {},
     "output_type": "execute_result"
    }
   ],
   "source": [
    "# The word least representative of this topic\n",
    "a_topic[597]"
   ]
  },
  {
   "cell_type": "code",
   "execution_count": 101,
   "metadata": {
    "ExecuteTime": {
     "end_time": "2023-04-06T09:38:46.645183Z",
     "start_time": "2023-04-06T09:38:46.642445Z"
    }
   },
   "outputs": [
    {
     "data": {
      "text/plain": [
       "12.656333063244391"
      ]
     },
     "execution_count": 101,
     "metadata": {},
     "output_type": "execute_result"
    }
   ],
   "source": [
    "# The word most representative of this topic\n",
    "a_topic[3598]"
   ]
  },
  {
   "cell_type": "markdown",
   "metadata": {},
   "source": [
    "Let have a look at the top 10 words for the topic we previously took"
   ]
  },
  {
   "cell_type": "code",
   "execution_count": 102,
   "metadata": {
    "ExecuteTime": {
     "end_time": "2023-04-06T09:38:49.750113Z",
     "start_time": "2023-04-06T09:38:49.708963Z"
    }
   },
   "outputs": [
    {
     "name": "stdout",
     "output_type": "stream",
     "text": [
      "let\n",
      "king\n",
      "love\n",
      "lord\n",
      "man\n",
      "thee\n",
      "shall\n",
      "thy\n",
      "god\n",
      "thou\n"
     ]
    }
   ],
   "source": [
    "# get the feature names\n",
    "feature_names = cv.get_feature_names_out()\n",
    "\n",
    "# get the indices of the top 10 words in the topic\n",
    "top_10_words_indices = a_topic.argsort()[-10:]\n",
    "\n",
    "# print the top 10 words\n",
    "for i in top_10_words_indices:\n",
    "    print(feature_names[i])\n"
   ]
  },
  {
   "cell_type": "code",
   "execution_count": 103,
   "metadata": {
    "ExecuteTime": {
     "end_time": "2023-04-06T09:38:50.845963Z",
     "start_time": "2023-04-06T09:38:50.752150Z"
    }
   },
   "outputs": [
    {
     "name": "stdout",
     "output_type": "stream",
     "text": [
      "THE TOP 10 WORDS FOR TOPIC #0\n",
      "['let', 'king', 'love', 'lord', 'man', 'thee', 'shall', 'thy', 'god', 'thou']\n",
      "\n",
      "\n",
      "THE TOP 10 WORDS FOR TOPIC #1\n",
      "['mother', 'say', 'like', 'did', 'think', 'mrs', 'know', 'good', 'little', 'said']\n",
      "\n",
      "\n",
      "THE TOP 10 WORDS FOR TOPIC #2\n",
      "['like', 'just', 'got', 've', 'man', 'know', 'mr', 'll', 'don', 'said']\n",
      "\n",
      "\n",
      "THE TOP 10 WORDS FOR TOPIC #3\n",
      "['time', 'white', 'men', 'great', 'away', 'long', 'came', 'water', 'little', 'like']\n",
      "\n",
      "\n",
      "THE TOP 10 WORDS FOR TOPIC #4\n",
      "['came', 'like', 'hand', 'little', 'room', 'did', 'man', 'face', 'eyes', 'said']\n",
      "\n",
      "\n",
      "THE TOP 10 WORDS FOR TOPIC #5\n",
      "['mr', 'world', 'men', 'years', 'new', 'time', 'people', 'life', 'man', 'great']\n",
      "\n",
      "\n",
      "THE TOP 10 WORDS FOR TOPIC #6\n",
      "['great', 'man', 'general', 'day', 'did', 'captain', 'said', 'time', 'king', 'men']\n",
      "\n",
      "\n"
     ]
    }
   ],
   "source": [
    "# get the feature names\n",
    "feature_names = cv.get_feature_names_out()\n",
    "\n",
    "# print the top 10 words for each topic\n",
    "for i, topic in enumerate(LDA_model.components_):\n",
    "    print(\"THE TOP {} WORDS FOR TOPIC #{}\".format(10, i))\n",
    "    print([feature_names[index] for index in topic.argsort()[-10:]])\n",
    "    print(\"\\n\")\n"
   ]
  },
  {
   "cell_type": "code",
   "execution_count": 104,
   "metadata": {
    "ExecuteTime": {
     "end_time": "2023-04-06T09:38:52.094996Z",
     "start_time": "2023-04-06T09:38:52.087736Z"
    }
   },
   "outputs": [],
   "source": [
    "### Attach Discovered Topic Labels to Original text"
   ]
  },
  {
   "cell_type": "code",
   "execution_count": 105,
   "metadata": {
    "ExecuteTime": {
     "end_time": "2023-04-06T09:39:31.610220Z",
     "start_time": "2023-04-06T09:38:52.785101Z"
    }
   },
   "outputs": [
    {
     "data": {
      "text/plain": [
       "(173107, 7)"
      ]
     },
     "execution_count": 105,
     "metadata": {},
     "output_type": "execute_result"
    }
   ],
   "source": [
    "final_topics = LDA_model.transform(dtm)\n",
    "final_topics.shape"
   ]
  },
  {
   "cell_type": "code",
   "execution_count": 106,
   "metadata": {
    "ExecuteTime": {
     "end_time": "2023-04-06T09:39:31.613028Z",
     "start_time": "2023-04-06T09:39:31.610112Z"
    }
   },
   "outputs": [
    {
     "data": {
      "text/plain": [
       "array([0.08435078, 0.0007924 , 0.00079286, 0.00079236, 0.0007938 ,\n",
       "       0.64756399, 0.2649138 ])"
      ]
     },
     "execution_count": 106,
     "metadata": {},
     "output_type": "execute_result"
    }
   ],
   "source": [
    "final_topics[0]"
   ]
  },
  {
   "cell_type": "code",
   "execution_count": 107,
   "metadata": {
    "ExecuteTime": {
     "end_time": "2023-04-06T09:39:31.615583Z",
     "start_time": "2023-04-06T09:39:31.613441Z"
    }
   },
   "outputs": [
    {
     "data": {
      "text/plain": [
       "5"
      ]
     },
     "execution_count": 107,
     "metadata": {},
     "output_type": "execute_result"
    }
   ],
   "source": [
    "final_topics[0].argmax()"
   ]
  },
  {
   "cell_type": "markdown",
   "metadata": {},
   "source": [
    "### Combination with the original data\n",
    "Let's create a new column called **Topic N°** that will correspond to the topic value to which each document belongs to."
   ]
  },
  {
   "cell_type": "code",
   "execution_count": 108,
   "metadata": {
    "ExecuteTime": {
     "end_time": "2023-04-06T09:39:31.621117Z",
     "start_time": "2023-04-06T09:39:31.616447Z"
    }
   },
   "outputs": [],
   "source": [
    "sample_df[\"Topic N°\"] = final_topics.argmax(axis=1)"
   ]
  },
  {
   "cell_type": "code",
   "execution_count": 109,
   "metadata": {
    "ExecuteTime": {
     "end_time": "2023-04-06T09:39:31.628574Z",
     "start_time": "2023-04-06T09:39:31.625125Z"
    }
   },
   "outputs": [
    {
     "data": {
      "text/html": [
       "<div>\n",
       "<style scoped>\n",
       "    .dataframe tbody tr th:only-of-type {\n",
       "        vertical-align: middle;\n",
       "    }\n",
       "\n",
       "    .dataframe tbody tr th {\n",
       "        vertical-align: top;\n",
       "    }\n",
       "\n",
       "    .dataframe thead th {\n",
       "        text-align: right;\n",
       "    }\n",
       "</style>\n",
       "<table border=\"1\" class=\"dataframe\">\n",
       "  <thead>\n",
       "    <tr style=\"text-align: right;\">\n",
       "      <th></th>\n",
       "      <th>author_name</th>\n",
       "      <th>book_id</th>\n",
       "      <th>gutenbergbookid</th>\n",
       "      <th>title</th>\n",
       "      <th>text</th>\n",
       "      <th>text_lines</th>\n",
       "      <th>authoryearofbirth</th>\n",
       "      <th>authoryearofdeath</th>\n",
       "      <th>downloads</th>\n",
       "      <th>subjects</th>\n",
       "      <th>topic</th>\n",
       "      <th>Sub_A</th>\n",
       "      <th>Sub_B</th>\n",
       "      <th>Sub_C</th>\n",
       "      <th>str_text_lines</th>\n",
       "      <th>passage_key</th>\n",
       "      <th>Topic N°</th>\n",
       "    </tr>\n",
       "    <tr>\n",
       "      <th>author_id</th>\n",
       "      <th></th>\n",
       "      <th></th>\n",
       "      <th></th>\n",
       "      <th></th>\n",
       "      <th></th>\n",
       "      <th></th>\n",
       "      <th></th>\n",
       "      <th></th>\n",
       "      <th></th>\n",
       "      <th></th>\n",
       "      <th></th>\n",
       "      <th></th>\n",
       "      <th></th>\n",
       "      <th></th>\n",
       "      <th></th>\n",
       "      <th></th>\n",
       "      <th></th>\n",
       "    </tr>\n",
       "  </thead>\n",
       "  <tbody>\n",
       "    <tr>\n",
       "      <th>494</th>\n",
       "      <td>Lincoln, Abraham</td>\n",
       "      <td>PG8</td>\n",
       "      <td>PG8</td>\n",
       "      <td>Abraham Lincoln's Second Inaugural Address</td>\n",
       "      <td>['to header material.', '', '***', '', \"Lincol...</td>\n",
       "      <td>17</td>\n",
       "      <td>1809.0</td>\n",
       "      <td>1865.0</td>\n",
       "      <td>25.0</td>\n",
       "      <td>{'United States -- Politics and government -- ...</td>\n",
       "      <td>United States</td>\n",
       "      <td>1861-1865</td>\n",
       "      <td>Politics and government</td>\n",
       "      <td>Presidents</td>\n",
       "      <td>17</td>\n",
       "      <td>PG8_17</td>\n",
       "      <td>5</td>\n",
       "    </tr>\n",
       "    <tr>\n",
       "      <th>494</th>\n",
       "      <td>Lincoln, Abraham</td>\n",
       "      <td>PG9</td>\n",
       "      <td>PG9</td>\n",
       "      <td>Abraham Lincoln's First Inaugural Address</td>\n",
       "      <td>['I have no lawful right to do so, and I have ...</td>\n",
       "      <td>77</td>\n",
       "      <td>1809.0</td>\n",
       "      <td>1865.0</td>\n",
       "      <td>36.0</td>\n",
       "      <td>{'United States -- Politics and government -- ...</td>\n",
       "      <td>United States</td>\n",
       "      <td>1861-1865</td>\n",
       "      <td>Politics and government</td>\n",
       "      <td>Presidents</td>\n",
       "      <td>77</td>\n",
       "      <td>PG9_77</td>\n",
       "      <td>5</td>\n",
       "    </tr>\n",
       "    <tr>\n",
       "      <th>494</th>\n",
       "      <td>Lincoln, Abraham</td>\n",
       "      <td>PG9</td>\n",
       "      <td>PG9</td>\n",
       "      <td>Abraham Lincoln's First Inaugural Address</td>\n",
       "      <td>['for a minority of their own will secede from...</td>\n",
       "      <td>277</td>\n",
       "      <td>1809.0</td>\n",
       "      <td>1865.0</td>\n",
       "      <td>36.0</td>\n",
       "      <td>{'United States -- Politics and government -- ...</td>\n",
       "      <td>United States</td>\n",
       "      <td>1861-1865</td>\n",
       "      <td>Politics and government</td>\n",
       "      <td>Presidents</td>\n",
       "      <td>277</td>\n",
       "      <td>PG9_277</td>\n",
       "      <td>5</td>\n",
       "    </tr>\n",
       "    <tr>\n",
       "      <th>494</th>\n",
       "      <td>Lincoln, Abraham</td>\n",
       "      <td>PG9</td>\n",
       "      <td>PG9</td>\n",
       "      <td>Abraham Lincoln's First Inaugural Address</td>\n",
       "      <td>['in both cases, and a few break over in each....</td>\n",
       "      <td>327</td>\n",
       "      <td>1809.0</td>\n",
       "      <td>1865.0</td>\n",
       "      <td>36.0</td>\n",
       "      <td>{'United States -- Politics and government -- ...</td>\n",
       "      <td>United States</td>\n",
       "      <td>1861-1865</td>\n",
       "      <td>Politics and government</td>\n",
       "      <td>Presidents</td>\n",
       "      <td>327</td>\n",
       "      <td>PG9_327</td>\n",
       "      <td>5</td>\n",
       "    </tr>\n",
       "    <tr>\n",
       "      <th>494</th>\n",
       "      <td>Lincoln, Abraham</td>\n",
       "      <td>PG9</td>\n",
       "      <td>PG9</td>\n",
       "      <td>Abraham Lincoln's First Inaugural Address</td>\n",
       "      <td>['There is some difference of opinion whether ...</td>\n",
       "      <td>127</td>\n",
       "      <td>1809.0</td>\n",
       "      <td>1865.0</td>\n",
       "      <td>36.0</td>\n",
       "      <td>{'United States -- Politics and government -- ...</td>\n",
       "      <td>United States</td>\n",
       "      <td>1861-1865</td>\n",
       "      <td>Politics and government</td>\n",
       "      <td>Presidents</td>\n",
       "      <td>127</td>\n",
       "      <td>PG9_127</td>\n",
       "      <td>5</td>\n",
       "    </tr>\n",
       "  </tbody>\n",
       "</table>\n",
       "</div>"
      ],
      "text/plain": [
       "                author_name book_id gutenbergbookid  \\\n",
       "author_id                                             \n",
       "494        Lincoln, Abraham     PG8             PG8   \n",
       "494        Lincoln, Abraham     PG9             PG9   \n",
       "494        Lincoln, Abraham     PG9             PG9   \n",
       "494        Lincoln, Abraham     PG9             PG9   \n",
       "494        Lincoln, Abraham     PG9             PG9   \n",
       "\n",
       "                                                title  \\\n",
       "author_id                                               \n",
       "494        Abraham Lincoln's Second Inaugural Address   \n",
       "494         Abraham Lincoln's First Inaugural Address   \n",
       "494         Abraham Lincoln's First Inaugural Address   \n",
       "494         Abraham Lincoln's First Inaugural Address   \n",
       "494         Abraham Lincoln's First Inaugural Address   \n",
       "\n",
       "                                                        text  text_lines  \\\n",
       "author_id                                                                  \n",
       "494        ['to header material.', '', '***', '', \"Lincol...          17   \n",
       "494        ['I have no lawful right to do so, and I have ...          77   \n",
       "494        ['for a minority of their own will secede from...         277   \n",
       "494        ['in both cases, and a few break over in each....         327   \n",
       "494        ['There is some difference of opinion whether ...         127   \n",
       "\n",
       "           authoryearofbirth  authoryearofdeath  downloads  \\\n",
       "author_id                                                    \n",
       "494                   1809.0             1865.0       25.0   \n",
       "494                   1809.0             1865.0       36.0   \n",
       "494                   1809.0             1865.0       36.0   \n",
       "494                   1809.0             1865.0       36.0   \n",
       "494                   1809.0             1865.0       36.0   \n",
       "\n",
       "                                                    subjects          topic  \\\n",
       "author_id                                                                     \n",
       "494        {'United States -- Politics and government -- ...  United States   \n",
       "494        {'United States -- Politics and government -- ...  United States   \n",
       "494        {'United States -- Politics and government -- ...  United States   \n",
       "494        {'United States -- Politics and government -- ...  United States   \n",
       "494        {'United States -- Politics and government -- ...  United States   \n",
       "\n",
       "               Sub_A                    Sub_B       Sub_C  str_text_lines  \\\n",
       "author_id                                                                   \n",
       "494        1861-1865  Politics and government  Presidents              17   \n",
       "494        1861-1865  Politics and government  Presidents              77   \n",
       "494        1861-1865  Politics and government  Presidents             277   \n",
       "494        1861-1865  Politics and government  Presidents             327   \n",
       "494        1861-1865  Politics and government  Presidents             127   \n",
       "\n",
       "          passage_key  Topic N°  \n",
       "author_id                        \n",
       "494            PG8_17         5  \n",
       "494            PG9_77         5  \n",
       "494           PG9_277         5  \n",
       "494           PG9_327         5  \n",
       "494           PG9_127         5  "
      ]
     },
     "execution_count": 109,
     "metadata": {},
     "output_type": "execute_result"
    }
   ],
   "source": [
    "sample_df.head()"
   ]
  },
  {
   "cell_type": "markdown",
   "metadata": {},
   "source": [
    "According to our LDA model:\n",
    "- the first document belongs to 4th topic.\n",
    "- the second document belongs to 4th topic.\n",
    "- the third document belongs to 6th topic.\n",
    "etc."
   ]
  },
  {
   "cell_type": "code",
   "execution_count": 110,
   "metadata": {
    "ExecuteTime": {
     "end_time": "2023-04-06T09:39:31.666209Z",
     "start_time": "2023-04-06T09:39:31.627661Z"
    }
   },
   "outputs": [],
   "source": [
    "import pyLDAvis.sklearn"
   ]
  },
  {
   "cell_type": "code",
   "execution_count": 111,
   "metadata": {
    "ExecuteTime": {
     "end_time": "2023-04-06T09:39:31.674118Z",
     "start_time": "2023-04-06T09:39:31.629967Z"
    }
   },
   "outputs": [],
   "source": [
    "pyLDAvis.enable_notebook() # To enable the visualization on the notebook"
   ]
  },
  {
   "cell_type": "code",
   "execution_count": null,
   "metadata": {},
   "outputs": [],
   "source": [
    "# # get the feature names\n",
    "# panel = pyLDAvis.sklearn.prepare(LDA_model, dtm, cv, mds='tsne',feature_names=feature_names) # Create the panel for the visualization\n",
    "# panel"
   ]
  },
  {
   "cell_type": "code",
   "execution_count": 121,
   "outputs": [],
   "source": [
    "feature_names = cv.get_feature_names_out()\n"
   ],
   "metadata": {
    "collapsed": false,
    "ExecuteTime": {
     "start_time": "2023-04-06T09:50:11.372085Z",
     "end_time": "2023-04-06T09:50:11.374470Z"
    }
   }
  },
  {
   "cell_type": "code",
   "execution_count": 122,
   "metadata": {},
   "outputs": [
    {
     "ename": "AttributeError",
     "evalue": "'CountVectorizer' object has no attribute 'get_feature_names'",
     "output_type": "error",
     "traceback": [
      "\u001B[0;31m---------------------------------------------------------------------------\u001B[0m",
      "\u001B[0;31mAttributeError\u001B[0m                            Traceback (most recent call last)",
      "Cell \u001B[0;32mIn[122], line 7\u001B[0m\n\u001B[1;32m      4\u001B[0m \u001B[38;5;66;03m# create the visualization\u001B[39;00m\n\u001B[1;32m      5\u001B[0m pyLDAvis\u001B[38;5;241m.\u001B[39menable_notebook()\n\u001B[0;32m----> 7\u001B[0m panel \u001B[38;5;241m=\u001B[39m \u001B[43mpyLDAvis\u001B[49m\u001B[38;5;241;43m.\u001B[39;49m\u001B[43msklearn\u001B[49m\u001B[38;5;241;43m.\u001B[39;49m\u001B[43mprepare\u001B[49m\u001B[43m(\u001B[49m\u001B[43mLDA_model\u001B[49m\u001B[43m,\u001B[49m\u001B[43m \u001B[49m\u001B[43mdtm\u001B[49m\u001B[43m,\u001B[49m\u001B[43m \u001B[49m\u001B[43mcv\u001B[49m\u001B[43m,\u001B[49m\u001B[43m \u001B[49m\u001B[43mmds\u001B[49m\u001B[38;5;241;43m=\u001B[39;49m\u001B[38;5;124;43m'\u001B[39;49m\u001B[38;5;124;43mtsne\u001B[39;49m\u001B[38;5;124;43m'\u001B[39;49m\u001B[43m,\u001B[49m\u001B[43m \u001B[49m\u001B[43mfeature_names\u001B[49m\u001B[38;5;241;43m=\u001B[39;49m\u001B[43mfeature_names\u001B[49m\u001B[43m)\u001B[49m\n\u001B[1;32m      9\u001B[0m \u001B[38;5;66;03m# display the visualization\u001B[39;00m\n\u001B[1;32m     10\u001B[0m pyLDAvis\u001B[38;5;241m.\u001B[39mdisplay(panel)\n",
      "File \u001B[0;32m/opt/homebrew/anaconda3/lib/python3.10/site-packages/pyLDAvis/sklearn.py:94\u001B[0m, in \u001B[0;36mprepare\u001B[0;34m(lda_model, dtm, vectorizer, **kwargs)\u001B[0m\n\u001B[1;32m     62\u001B[0m \u001B[38;5;28;01mdef\u001B[39;00m \u001B[38;5;21mprepare\u001B[39m(lda_model, dtm, vectorizer, \u001B[38;5;241m*\u001B[39m\u001B[38;5;241m*\u001B[39mkwargs):\n\u001B[1;32m     63\u001B[0m     \u001B[38;5;124;03m\"\"\"Create Prepared Data from sklearn's LatentDirichletAllocation and CountVectorizer.\u001B[39;00m\n\u001B[1;32m     64\u001B[0m \n\u001B[1;32m     65\u001B[0m \u001B[38;5;124;03m    Parameters\u001B[39;00m\n\u001B[0;32m   (...)\u001B[0m\n\u001B[1;32m     92\u001B[0m \u001B[38;5;124;03m    See `pyLDAvis.prepare` for **kwargs.\u001B[39;00m\n\u001B[1;32m     93\u001B[0m \u001B[38;5;124;03m    \"\"\"\u001B[39;00m\n\u001B[0;32m---> 94\u001B[0m     opts \u001B[38;5;241m=\u001B[39m fp\u001B[38;5;241m.\u001B[39mmerge(\u001B[43m_extract_data\u001B[49m\u001B[43m(\u001B[49m\u001B[43mlda_model\u001B[49m\u001B[43m,\u001B[49m\u001B[43m \u001B[49m\u001B[43mdtm\u001B[49m\u001B[43m,\u001B[49m\u001B[43m \u001B[49m\u001B[43mvectorizer\u001B[49m\u001B[43m)\u001B[49m, kwargs)\n\u001B[1;32m     95\u001B[0m     \u001B[38;5;28;01mreturn\u001B[39;00m pyLDAvis\u001B[38;5;241m.\u001B[39mprepare(\u001B[38;5;241m*\u001B[39m\u001B[38;5;241m*\u001B[39mopts)\n",
      "File \u001B[0;32m/opt/homebrew/anaconda3/lib/python3.10/site-packages/pyLDAvis/sklearn.py:38\u001B[0m, in \u001B[0;36m_extract_data\u001B[0;34m(lda_model, dtm, vectorizer)\u001B[0m\n\u001B[1;32m     37\u001B[0m \u001B[38;5;28;01mdef\u001B[39;00m \u001B[38;5;21m_extract_data\u001B[39m(lda_model, dtm, vectorizer):\n\u001B[0;32m---> 38\u001B[0m     vocab \u001B[38;5;241m=\u001B[39m \u001B[43m_get_vocab\u001B[49m\u001B[43m(\u001B[49m\u001B[43mvectorizer\u001B[49m\u001B[43m)\u001B[49m\n\u001B[1;32m     39\u001B[0m     doc_lengths \u001B[38;5;241m=\u001B[39m _get_doc_lengths(dtm)\n\u001B[1;32m     40\u001B[0m     term_freqs \u001B[38;5;241m=\u001B[39m _get_term_freqs(dtm)\n",
      "File \u001B[0;32m/opt/homebrew/anaconda3/lib/python3.10/site-packages/pyLDAvis/sklearn.py:20\u001B[0m, in \u001B[0;36m_get_vocab\u001B[0;34m(vectorizer)\u001B[0m\n\u001B[1;32m     19\u001B[0m \u001B[38;5;28;01mdef\u001B[39;00m \u001B[38;5;21m_get_vocab\u001B[39m(vectorizer):\n\u001B[0;32m---> 20\u001B[0m     \u001B[38;5;28;01mreturn\u001B[39;00m \u001B[43mvectorizer\u001B[49m\u001B[38;5;241;43m.\u001B[39;49m\u001B[43mget_feature_names\u001B[49m()\n",
      "\u001B[0;31mAttributeError\u001B[0m: 'CountVectorizer' object has no attribute 'get_feature_names'"
     ]
    }
   ],
   "source": [
    "import pyLDAvis.sklearn\n",
    "import matplotlib.pyplot as plt\n",
    "\n",
    "# create the visualization\n",
    "pyLDAvis.enable_notebook()\n",
    "\n",
    "panel = pyLDAvis.sklearn.prepare(LDA_model, dtm, cv, mds='tsne', feature_names=feature_names)\n",
    "\n",
    "# display the visualization\n",
    "pyLDAvis.display(panel)\n",
    "plt.show()\n"
   ]
  },
  {
   "cell_type": "code",
   "execution_count": 97,
   "metadata": {
    "ExecuteTime": {
     "end_time": "2023-04-06T09:40:26.816709Z",
     "start_time": "2023-04-06T09:40:26.805122Z"
    }
   },
   "outputs": [],
   "source": []
  },
  {
   "cell_type": "code",
   "execution_count": null,
   "metadata": {},
   "outputs": [],
   "source": []
  }
 ],
 "metadata": {
  "kernelspec": {
   "display_name": "Python 3 (ipykernel)",
   "language": "python",
   "name": "python3"
  },
  "language_info": {
   "codemirror_mode": {
    "name": "ipython",
    "version": 3
   },
   "file_extension": ".py",
   "mimetype": "text/x-python",
   "name": "python",
   "nbconvert_exporter": "python",
   "pygments_lexer": "ipython3",
   "version": "3.10.9"
  },
  "toc": {
   "base_numbering": 1,
   "nav_menu": {},
   "number_sections": true,
   "sideBar": true,
   "skip_h1_title": false,
   "title_cell": "Table of Contents",
   "title_sidebar": "Contents",
   "toc_cell": false,
   "toc_position": {},
   "toc_section_display": true,
   "toc_window_display": false
  }
 },
 "nbformat": 4,
 "nbformat_minor": 1
}
